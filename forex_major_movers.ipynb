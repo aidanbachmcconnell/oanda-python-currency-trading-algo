{
 "cells": [
  {
   "cell_type": "code",
   "execution_count": null,
   "metadata": {},
   "outputs": [],
   "source": [
    "import pandas as pd\n",
    "import numpy as np\n",
    "import os \n",
    "#!pip install plotly\n",
    "import plotly\n",
    "from plotly.subplots import make_subplots\n",
    "import plotly.graph_objects as go\n",
    "import plotly.io as pio\n",
    "pio.renderers.default = \"iframe\"\n",
    "\n",
    "\n",
    "def create_major_level_trigger(df,pip_decimals = 2, level_pips = 50):\n",
    "    def digit_finder(number1,number2,pip_decimals = 2, level_pips = 50):\n",
    "        number1 = str(number1)\n",
    "        decimal_loc1 = number1.find('.')\n",
    "        first_digit1 = number1[decimal_loc1 + pip_decimals - 1]\n",
    "\n",
    "        number2 = str(number2)\n",
    "        decimal_loc2 = number2.find('.')\n",
    "        first_digit2 = number2[decimal_loc2 + pip_decimals - 1]\n",
    "\n",
    "\n",
    "        hunna1 = number1[decimal_loc1 + pip_decimals - 2]\n",
    "        if hunna1 == '.':\n",
    "            hunna1 = number1[decimal_loc1 + pip_decimals - 3 ]\n",
    "        hunna2 = number2[decimal_loc2 + pip_decimals - 2]\n",
    "        if hunna2 == '.':\n",
    "            hunna2 = number2[decimal_loc2 + pip_decimals - 3 ]\n",
    "        hunna1 = int(hunna1)\n",
    "        hunna2 = int(hunna2)\n",
    "        #print('NUMBER 1:',number1,decimal_loc1,first_digit1,hunna1)\n",
    "        #print('NUMBER 2:',number2,decimal_loc2,first_digit2,hunna2)  \n",
    "\n",
    "        checker = 0\n",
    "        support = 0\n",
    "        if level_pips == 50:\n",
    "            pip_compare1 = int(first_digit1 + '0')\n",
    "            pip_compare2 = int(first_digit2 + '0')\n",
    "            if hunna1 > hunna2:\n",
    "                checker = 1\n",
    "                #print('100')\n",
    "                support = 1\n",
    "            elif hunna1 < hunna2:\n",
    "                checker = 1     \n",
    "                #print('100')\n",
    "            elif pip_compare1 < 50 and pip_compare2 >= 50:\n",
    "                checker = 1\n",
    "                #print('50')\n",
    "            elif pip_compare1 >= 50 and pip_compare2 < 50:\n",
    "                checker = 1\n",
    "                support = 1\n",
    "                #print('50')\n",
    "\n",
    "        elif level_pips == 100:\n",
    "            if hunna1 > hunna2:\n",
    "                checker = 1\n",
    "            elif hunna1 < hunna2:\n",
    "                checker = 1\n",
    "\n",
    "        else:\n",
    "            raise Exception('ERROR: level pips must be 50 or 100...')\n",
    "\n",
    "        return checker ,support\n",
    "    \n",
    "    \"\"\"Loop through all values of the dataset and create a trigger for when it crosses a major level\n",
    "    if there has been a recent trigger hit then don't do anything\n",
    "    \"\"\"\n",
    "    \n",
    "    o_col = df.columns.get_loc('o')\n",
    "    h_col = df.columns.get_loc('h')\n",
    "    l_col = df.columns.get_loc('l')\n",
    "    df['major_level_trigger'] = 0\n",
    "    arr = df.values\n",
    "    for i in range(1,arr.shape[0]):\n",
    "        # testing resistance\n",
    "        trigger = 0\n",
    "        number1 = arr[i - 1,o_col]\n",
    "        number2 = arr[i,h_col]\n",
    "        checker,support = digit_finder(number1,number2,pip_decimals = pip_decimals, level_pips = level_pips)\n",
    "        if checker == 1:\n",
    "            trigger = 1\n",
    "\n",
    "        number2 = arr[i,l_col]\n",
    "        checker,support = digit_finder(number1,number2,pip_decimals = pip_decimals, level_pips = level_pips)\n",
    "        if checker == 1:\n",
    "            trigger = 1\n",
    "        \n",
    "        if sum(arr[i - 40 : i,-1]) == 0:\n",
    "            arr[i,-1] = trigger\n",
    "    \n",
    "    return pd.DataFrame(arr,columns = df.columns)\n",
    "def load_data(cur,timeframe,start,end,level_pips,pip_decimals):\n",
    "    print('LOADING DATASET',cur,timeframe,start,end)\n",
    "    file = os.getcwd() + '/' + cur + '_' + timeframe + '/' + str(start) + '_' + str(end) + '.csv'\n",
    "    print('file path',file)\n",
    "    df = pd.read_csv(file)\n",
    "    df = create_major_level_trigger(df,pip_decimals = pip_decimals, level_pips = level_pips)\n",
    "    print(df.shape)\n",
    "    return df\n",
    "def print_example(df,ind_list,i = 30,delta = 240):\n",
    "    i = ind_list[i]   \n",
    "    print('row loc:',i)\n",
    "    fig = go.Figure(data=go.Candlestick(x=df.iloc[i - delta:i + (delta ),:]['time'],\n",
    "                        open=df.iloc[i - delta:i + (delta ),:]['o'],\n",
    "                        high=df.iloc[i - delta:i + (delta ),:]['h'],\n",
    "                        low=df.iloc[i - delta:i + (delta ),:]['l'],\n",
    "                        close=df.iloc[i - delta:i + (delta ),:]['c']))\n",
    "\n",
    "    fig.add_vrect(x0=df['time'].iloc[i - 1], x1=df['time'].iloc[i+1], \n",
    "                  annotation_text=\"trigger point\" , annotation_position=\"top left\",\n",
    "                  fillcolor=\"green\", opacity=0.25, line_width=0)\n",
    "    \n",
    "\n",
    "\n",
    "    print(fig.show())\n",
    "\n",
    "print(os.getcwd())\n",
    "cur = 'USD_JPY'\n",
    "cur = 'EUR_USD'\n",
    "cur = 'XAU_USD'\n",
    "cur = 'USD_JPY'\n",
    "timeframe = 'M15'\n",
    "start = date(2019,1,1)\n",
    "end = date(2022,1,31)\n",
    "\n",
    "df = load_data(cur = cur,timeframe = timeframe,start = start,end = end, level_pips = 100,pip_decimals = 2)\n",
    "#df = df.iloc[2000:,:]\n",
    "#df.index = list(range(df.shape[0]))\n",
    "ind_list = list(df[df['major_level_trigger'] == 1].index)\n",
    "df.head()"
   ]
  },
  {
   "cell_type": "code",
   "execution_count": null,
   "metadata": {},
   "outputs": [],
   "source": [
    "print('LOADING DATASET',cur,timeframe,start,end)\n",
    "file = os.getcwd() + '/' + cur + '_' + timeframe + '/' + str(start) + '_' + str(end) + '.csv'\n",
    "print('file path',file)\n",
    "df = pd.read_csv(file)\n",
    "\n"
   ]
  },
  {
   "cell_type": "code",
   "execution_count": 155,
   "metadata": {},
   "outputs": [],
   "source": [
    "from os import listdir\n",
    "import os\n",
    "from os.path import isfile, join\n",
    "import pandas as pd\n",
    "import numpy as np\n",
    "import os \n",
    "#!pip install plotly\n",
    "import plotly\n",
    "from plotly.subplots import make_subplots\n",
    "import plotly.graph_objects as go\n",
    "import plotly.io as pio\n",
    "pio.renderers.default = \"iframe\"\n",
    "folder_name = 'USD_JPY_S5'\n",
    "folder_name = 'EUR_USD_S5'\n",
    "folder_name = 'USD_JPY_S5'\n",
    "mypath = os.getcwd() + '/' + folder_name\n",
    "file_list = [f for f in listdir(mypath) if isfile(join(mypath, f))]\n",
    "#print(file_list)\n",
    "\n",
    "def load_data(folder_name,loop_range):\n",
    "\n",
    "    mypath = os.getcwd() + '/' + folder_name\n",
    "    file_list = [f for f in listdir(mypath) if isfile(join(mypath, f))]\n",
    "    file_list.sort()\n",
    "    print(file_list)\n",
    "    final_df = pd.DataFrame([0])\n",
    "    for i in range(loop_range):\n",
    "        #print('loop range:',i)\n",
    "\n",
    "        print(os.getcwd() + '/' + folder_name + '/' + file_list[i])\n",
    "        df = pd.read_csv(os.getcwd() + '/' + folder_name + '/' + file_list[i])\n",
    "        print('loop range:',i,df.shape)    \n",
    "        if final_df.shape[0] == 1:\n",
    "            final_df = df\n",
    "        else:\n",
    "            final_df = final_df.append(df)\n",
    "        print('FINAL DF SHAPE:',final_df.shape)\n",
    "        print()\n",
    "        print()\n",
    "    return final_df #df.sort_values(by = 'delta',ascending = False)\n",
    "def print_example(df,ind_list,i = 30,delta = 240):\n",
    "    i = ind_list[i]   \n",
    "    fig = go.Figure(data=go.Ohlc(x=df.iloc[i - delta:i + (delta * 2),:]['time'],\n",
    "                        open=df.iloc[i - delta:i + (delta * 2),:]['o'],\n",
    "                        high=df.iloc[i - delta:i + (delta * 2),:]['h'],\n",
    "                        low=df.iloc[i - delta:i + (delta * 2),:]['l'],\n",
    "                        close=df.iloc[i - delta:i + (delta * 2),:]['c']))\n",
    "\n",
    "    fig.add_vrect(x0=df['time'].iloc[i - 1], x1=df['time'].iloc[i+1], \n",
    "                  annotation_text=\"trigger point\" , annotation_position=\"top left\",\n",
    "                  fillcolor=\"green\", opacity=0.25, line_width=0)\n",
    "    \n",
    "\n",
    "\n",
    "    print(fig.show())\n",
    "\n",
    "def create_spike_trigger(df,col = 'delta_max',lookback_threshold = 15000):\n",
    "    df[col + '_spike_trigger'] = 0\n",
    "    col_loc = df.columns.get_loc(col)\n",
    "    arr = df.values\n",
    "    for i in range(lookback_threshold,arr.shape[0]):\n",
    "        if i % 200000 == 0:\n",
    "            print(i)\n",
    "        try:\n",
    "            cur_max = max(arr[i - lookback_threshold : i ,col_loc])\n",
    "        except:\n",
    "            print('ERROR',i)\n",
    "            cur_max = 100\n",
    "        if arr[i,col_loc] > cur_max and sum(arr[i - 100 : i,-1]) == 0:\n",
    "            arr[i,-1] = 1\n",
    "    return pd.DataFrame(arr,columns = df.columns)\n",
    "folder_name = 'USD_JPY_S5'\n",
    "folder_name = 'GBP_JPY_S5'\n",
    "folder_name = 'EUR_USD_S5'\n",
    "folder_name = 'GBP_JPY_S5'\n",
    "folder_name = 'USD_JPY_S5'\n",
    "folder_name = 'XAU_USD_S5'\n",
    "folder_name = 'USD_JPY_S5'\n",
    "file_ind = 0\n",
    "\n",
    "#df = load_data(folder_name = folder_name,loop_range = 12)\n",
    "#ind_list = list(df.sort_values(by = 'delta',ascending = False).index)\n",
    "#df = create_spike_trigger(df,col = 'delta_max',lookback_threshold = 10000)\n",
    "#print(df.shape)\n",
    "#df.head()"
   ]
  },
  {
   "cell_type": "code",
   "execution_count": null,
   "metadata": {},
   "outputs": [],
   "source": []
  },
  {
   "cell_type": "code",
   "execution_count": null,
   "metadata": {},
   "outputs": [],
   "source": [
    "filename = os.getcwd() + '/' + folder_name + '/delta_max_spike_trigger'\n",
    "df.to_csv(filename,index = False)"
   ]
  },
  {
   "cell_type": "code",
   "execution_count": null,
   "metadata": {},
   "outputs": [],
   "source": []
  },
  {
   "cell_type": "code",
   "execution_count": null,
   "metadata": {},
   "outputs": [],
   "source": [
    "def load_data(folder_name,loop_range):\n",
    "\n",
    "    mypath = os.getcwd() + '/' + folder_name\n",
    "    file_list = [f for f in listdir(mypath) if isfile(join(mypath, f))]\n",
    "    file_list.sort()\n",
    "    print(file_list)\n",
    "    final_df = pd.DataFrame([0])\n",
    "    for i in range(loop_range):\n",
    "        #print('loop range:',i)\n",
    "\n",
    "        print(os.getcwd() + '/' + folder_name + '/' + file_list[i])\n",
    "        df = pd.read_csv(os.getcwd() + '/' + folder_name + '/' + file_list[i])\n",
    "        print('loop range:',i,df.shape)    \n",
    "        if final_df.shape[0] == 1:\n",
    "            final_df = df\n",
    "        else:\n",
    "            final_df = final_df.append(df)\n",
    "        print('FINAL DF SHAPE:',final_df.shape)\n",
    "        print()\n",
    "        print()\n",
    "    return final_df #df.sort_values(by = 'delta',ascending = False)\n",
    "folder_name = 'XAU_USD_S5'\n",
    "df = load_data(folder_name = folder_name,loop_range = 12)"
   ]
  },
  {
   "cell_type": "code",
   "execution_count": null,
   "metadata": {},
   "outputs": [],
   "source": []
  },
  {
   "cell_type": "code",
   "execution_count": null,
   "metadata": {},
   "outputs": [],
   "source": []
  },
  {
   "cell_type": "code",
   "execution_count": null,
   "metadata": {},
   "outputs": [],
   "source": []
  },
  {
   "cell_type": "markdown",
   "metadata": {},
   "source": [
    "# Load Data"
   ]
  },
  {
   "cell_type": "code",
   "execution_count": 156,
   "metadata": {},
   "outputs": [
    {
     "name": "stdout",
     "output_type": "stream",
     "text": [
      "(2960618, 32)\n"
     ]
    },
    {
     "data": {
      "text/html": [
       "<div>\n",
       "<style scoped>\n",
       "    .dataframe tbody tr th:only-of-type {\n",
       "        vertical-align: middle;\n",
       "    }\n",
       "\n",
       "    .dataframe tbody tr th {\n",
       "        vertical-align: top;\n",
       "    }\n",
       "\n",
       "    .dataframe thead th {\n",
       "        text-align: right;\n",
       "    }\n",
       "</style>\n",
       "<table border=\"1\" class=\"dataframe\">\n",
       "  <thead>\n",
       "    <tr style=\"text-align: right;\">\n",
       "      <th></th>\n",
       "      <th>time</th>\n",
       "      <th>volume</th>\n",
       "      <th>o</th>\n",
       "      <th>h</th>\n",
       "      <th>l</th>\n",
       "      <th>c</th>\n",
       "      <th>delta</th>\n",
       "      <th>delta_max</th>\n",
       "      <th>delta_vector</th>\n",
       "      <th>max_vector</th>\n",
       "      <th>...</th>\n",
       "      <th>next_10</th>\n",
       "      <th>next_candle+1</th>\n",
       "      <th>next_2+1</th>\n",
       "      <th>next_3+1</th>\n",
       "      <th>next_4+1</th>\n",
       "      <th>next_5+1</th>\n",
       "      <th>next_10+1</th>\n",
       "      <th>next_20+1</th>\n",
       "      <th>trigger</th>\n",
       "      <th>delta_max_spike_trigger</th>\n",
       "    </tr>\n",
       "  </thead>\n",
       "  <tbody>\n",
       "    <tr>\n",
       "      <th>0</th>\n",
       "      <td>2020-12-01T05:00:00.000000000Z</td>\n",
       "      <td>5</td>\n",
       "      <td>104.374</td>\n",
       "      <td>104.378</td>\n",
       "      <td>104.374</td>\n",
       "      <td>104.378</td>\n",
       "      <td>0.004</td>\n",
       "      <td>0.004</td>\n",
       "      <td>0.004</td>\n",
       "      <td>0.004</td>\n",
       "      <td>...</td>\n",
       "      <td>0.011</td>\n",
       "      <td>0.000</td>\n",
       "      <td>0.003</td>\n",
       "      <td>0.004</td>\n",
       "      <td>0.004</td>\n",
       "      <td>0.006</td>\n",
       "      <td>0.010</td>\n",
       "      <td>0.021</td>\n",
       "      <td>0</td>\n",
       "      <td>0</td>\n",
       "    </tr>\n",
       "    <tr>\n",
       "      <th>1</th>\n",
       "      <td>2020-12-01T05:00:05.000000000Z</td>\n",
       "      <td>4</td>\n",
       "      <td>104.378</td>\n",
       "      <td>104.378</td>\n",
       "      <td>104.378</td>\n",
       "      <td>104.378</td>\n",
       "      <td>0.000</td>\n",
       "      <td>0.000</td>\n",
       "      <td>0.000</td>\n",
       "      <td>-0.000</td>\n",
       "      <td>...</td>\n",
       "      <td>0.010</td>\n",
       "      <td>0.003</td>\n",
       "      <td>0.004</td>\n",
       "      <td>0.004</td>\n",
       "      <td>0.006</td>\n",
       "      <td>0.008</td>\n",
       "      <td>0.011</td>\n",
       "      <td>0.019</td>\n",
       "      <td>0</td>\n",
       "      <td>0</td>\n",
       "    </tr>\n",
       "    <tr>\n",
       "      <th>2</th>\n",
       "      <td>2020-12-01T05:00:10.000000000Z</td>\n",
       "      <td>1</td>\n",
       "      <td>104.378</td>\n",
       "      <td>104.378</td>\n",
       "      <td>104.378</td>\n",
       "      <td>104.378</td>\n",
       "      <td>0.000</td>\n",
       "      <td>0.000</td>\n",
       "      <td>0.000</td>\n",
       "      <td>-0.000</td>\n",
       "      <td>...</td>\n",
       "      <td>0.011</td>\n",
       "      <td>0.001</td>\n",
       "      <td>0.001</td>\n",
       "      <td>0.003</td>\n",
       "      <td>0.005</td>\n",
       "      <td>0.009</td>\n",
       "      <td>0.009</td>\n",
       "      <td>0.011</td>\n",
       "      <td>0</td>\n",
       "      <td>0</td>\n",
       "    </tr>\n",
       "    <tr>\n",
       "      <th>3</th>\n",
       "      <td>2020-12-01T05:00:15.000000000Z</td>\n",
       "      <td>6</td>\n",
       "      <td>104.378</td>\n",
       "      <td>104.381</td>\n",
       "      <td>104.376</td>\n",
       "      <td>104.381</td>\n",
       "      <td>0.003</td>\n",
       "      <td>0.005</td>\n",
       "      <td>0.003</td>\n",
       "      <td>0.005</td>\n",
       "      <td>...</td>\n",
       "      <td>0.009</td>\n",
       "      <td>0.000</td>\n",
       "      <td>0.002</td>\n",
       "      <td>0.004</td>\n",
       "      <td>0.008</td>\n",
       "      <td>0.008</td>\n",
       "      <td>0.008</td>\n",
       "      <td>0.010</td>\n",
       "      <td>0</td>\n",
       "      <td>0</td>\n",
       "    </tr>\n",
       "    <tr>\n",
       "      <th>4</th>\n",
       "      <td>2020-12-01T05:00:20.000000000Z</td>\n",
       "      <td>19</td>\n",
       "      <td>104.380</td>\n",
       "      <td>104.384</td>\n",
       "      <td>104.380</td>\n",
       "      <td>104.382</td>\n",
       "      <td>0.002</td>\n",
       "      <td>0.004</td>\n",
       "      <td>0.002</td>\n",
       "      <td>0.004</td>\n",
       "      <td>...</td>\n",
       "      <td>0.008</td>\n",
       "      <td>0.002</td>\n",
       "      <td>0.004</td>\n",
       "      <td>0.008</td>\n",
       "      <td>0.008</td>\n",
       "      <td>0.007</td>\n",
       "      <td>0.011</td>\n",
       "      <td>0.011</td>\n",
       "      <td>0</td>\n",
       "      <td>0</td>\n",
       "    </tr>\n",
       "  </tbody>\n",
       "</table>\n",
       "<p>5 rows × 32 columns</p>\n",
       "</div>"
      ],
      "text/plain": [
       "                             time  volume        o        h        l        c  \\\n",
       "0  2020-12-01T05:00:00.000000000Z       5  104.374  104.378  104.374  104.378   \n",
       "1  2020-12-01T05:00:05.000000000Z       4  104.378  104.378  104.378  104.378   \n",
       "2  2020-12-01T05:00:10.000000000Z       1  104.378  104.378  104.378  104.378   \n",
       "3  2020-12-01T05:00:15.000000000Z       6  104.378  104.381  104.376  104.381   \n",
       "4  2020-12-01T05:00:20.000000000Z      19  104.380  104.384  104.380  104.382   \n",
       "\n",
       "   delta  delta_max  delta_vector  max_vector  ...  next_10  next_candle+1  \\\n",
       "0  0.004      0.004         0.004       0.004  ...    0.011          0.000   \n",
       "1  0.000      0.000         0.000      -0.000  ...    0.010          0.003   \n",
       "2  0.000      0.000         0.000      -0.000  ...    0.011          0.001   \n",
       "3  0.003      0.005         0.003       0.005  ...    0.009          0.000   \n",
       "4  0.002      0.004         0.002       0.004  ...    0.008          0.002   \n",
       "\n",
       "   next_2+1  next_3+1  next_4+1  next_5+1  next_10+1  next_20+1  trigger  \\\n",
       "0     0.003     0.004     0.004     0.006      0.010      0.021        0   \n",
       "1     0.004     0.004     0.006     0.008      0.011      0.019        0   \n",
       "2     0.001     0.003     0.005     0.009      0.009      0.011        0   \n",
       "3     0.002     0.004     0.008     0.008      0.008      0.010        0   \n",
       "4     0.004     0.008     0.008     0.007      0.011      0.011        0   \n",
       "\n",
       "   delta_max_spike_trigger  \n",
       "0                        0  \n",
       "1                        0  \n",
       "2                        0  \n",
       "3                        0  \n",
       "4                        0  \n",
       "\n",
       "[5 rows x 32 columns]"
      ]
     },
     "execution_count": 156,
     "metadata": {},
     "output_type": "execute_result"
    }
   ],
   "source": [
    "filename = os.getcwd() + '/' + folder_name + '/delta_max_spike_trigger'\n",
    "df = pd.read_csv(filename)\n",
    "print(df.shape)\n",
    "df.head()\n",
    "\n",
    "\n",
    "\n"
   ]
  },
  {
   "cell_type": "markdown",
   "metadata": {},
   "source": [
    "# USD JPY"
   ]
  },
  {
   "cell_type": "code",
   "execution_count": 157,
   "metadata": {},
   "outputs": [
    {
     "name": "stdout",
     "output_type": "stream",
     "text": [
      "row loc: 19835  ind: 0\n"
     ]
    },
    {
     "data": {
      "text/html": [
       "<iframe\n",
       "    scrolling=\"no\"\n",
       "    width=\"100%\"\n",
       "    height=\"545px\"\n",
       "    src=\"iframe_figures/figure_2.html\"\n",
       "    frameborder=\"0\"\n",
       "    allowfullscreen\n",
       "></iframe>\n"
      ]
     },
     "metadata": {},
     "output_type": "display_data"
    },
    {
     "name": "stdout",
     "output_type": "stream",
     "text": [
      "None\n"
     ]
    }
   ],
   "source": [
    "def print_example(df,ind_list,ind = 30,delta = 240):\n",
    "    i = ind_list[ind]   \n",
    "    print('row loc:',i,' ind:',ind)\n",
    "    fig = go.Figure(data=go.Ohlc(x=df.iloc[i - delta:i + (delta * 2),:]['time'],\n",
    "                        open=df.iloc[i - delta:i + (delta * 2),:]['o'],\n",
    "                        high=df.iloc[i - delta:i + (delta * 2),:]['h'],\n",
    "                        low=df.iloc[i - delta:i + (delta * 2),:]['l'],\n",
    "                        close=df.iloc[i - delta:i + (delta * 2),:]['c']))\n",
    "\n",
    "    fig.add_vrect(x0=df['time'].iloc[i - 1], x1=df['time'].iloc[i+1], \n",
    "                  annotation_text=\"trigger point\" , annotation_position=\"top left\",\n",
    "                  fillcolor=\"green\", opacity=0.25, line_width=0)\n",
    "    \n",
    "\n",
    "\n",
    "    print(fig.show())\n",
    "ind_list = list(df[df['delta_max_spike_trigger'] == 1].index)\n",
    "i = 0\n",
    "print_example(df,ind_list,ind = i,delta = 240)\n",
    "i += 1"
   ]
  },
  {
   "cell_type": "code",
   "execution_count": 158,
   "metadata": {},
   "outputs": [
    {
     "name": "stdout",
     "output_type": "stream",
     "text": [
      "row loc: 27561  ind: 1\n"
     ]
    },
    {
     "data": {
      "text/html": [
       "<iframe\n",
       "    scrolling=\"no\"\n",
       "    width=\"100%\"\n",
       "    height=\"545px\"\n",
       "    src=\"iframe_figures/figure_2.html\"\n",
       "    frameborder=\"0\"\n",
       "    allowfullscreen\n",
       "></iframe>\n"
      ]
     },
     "metadata": {},
     "output_type": "display_data"
    },
    {
     "name": "stdout",
     "output_type": "stream",
     "text": [
      "None\n"
     ]
    }
   ],
   "source": [
    "print_example(df,ind_list,ind = i,delta = 240)\n",
    "i += 1"
   ]
  },
  {
   "cell_type": "code",
   "execution_count": 159,
   "metadata": {},
   "outputs": [
    {
     "name": "stdout",
     "output_type": "stream",
     "text": [
      "row loc: 32962  ind: 2\n"
     ]
    },
    {
     "data": {
      "text/html": [
       "<iframe\n",
       "    scrolling=\"no\"\n",
       "    width=\"100%\"\n",
       "    height=\"545px\"\n",
       "    src=\"iframe_figures/figure_2.html\"\n",
       "    frameborder=\"0\"\n",
       "    allowfullscreen\n",
       "></iframe>\n"
      ]
     },
     "metadata": {},
     "output_type": "display_data"
    },
    {
     "name": "stdout",
     "output_type": "stream",
     "text": [
      "None\n"
     ]
    }
   ],
   "source": [
    "print_example(df,ind_list,ind = i,delta = 240)\n",
    "i += 1"
   ]
  },
  {
   "cell_type": "code",
   "execution_count": 160,
   "metadata": {},
   "outputs": [
    {
     "name": "stdout",
     "output_type": "stream",
     "text": [
      "row loc: 40197  ind: 3\n"
     ]
    },
    {
     "data": {
      "text/html": [
       "<iframe\n",
       "    scrolling=\"no\"\n",
       "    width=\"100%\"\n",
       "    height=\"545px\"\n",
       "    src=\"iframe_figures/figure_2.html\"\n",
       "    frameborder=\"0\"\n",
       "    allowfullscreen\n",
       "></iframe>\n"
      ]
     },
     "metadata": {},
     "output_type": "display_data"
    },
    {
     "name": "stdout",
     "output_type": "stream",
     "text": [
      "None\n"
     ]
    }
   ],
   "source": [
    "print_example(df,ind_list,ind = i,delta = 240)\n",
    "i += 1"
   ]
  },
  {
   "cell_type": "code",
   "execution_count": null,
   "metadata": {},
   "outputs": [],
   "source": []
  },
  {
   "cell_type": "code",
   "execution_count": 164,
   "metadata": {},
   "outputs": [
    {
     "name": "stdout",
     "output_type": "stream",
     "text": [
      "row loc: 427889  ind: 35\n"
     ]
    },
    {
     "data": {
      "text/html": [
       "<iframe\n",
       "    scrolling=\"no\"\n",
       "    width=\"100%\"\n",
       "    height=\"545px\"\n",
       "    src=\"iframe_figures/figure_2.html\"\n",
       "    frameborder=\"0\"\n",
       "    allowfullscreen\n",
       "></iframe>\n"
      ]
     },
     "metadata": {},
     "output_type": "display_data"
    },
    {
     "name": "stdout",
     "output_type": "stream",
     "text": [
      "None\n"
     ]
    }
   ],
   "source": [
    "i = 35\n",
    "print_example(df,ind_list,ind = i,delta = 240)\n",
    "i += 1"
   ]
  },
  {
   "cell_type": "code",
   "execution_count": 165,
   "metadata": {},
   "outputs": [
    {
     "name": "stdout",
     "output_type": "stream",
     "text": [
      "row loc: 439001  ind: 36\n"
     ]
    },
    {
     "data": {
      "text/html": [
       "<iframe\n",
       "    scrolling=\"no\"\n",
       "    width=\"100%\"\n",
       "    height=\"545px\"\n",
       "    src=\"iframe_figures/figure_2.html\"\n",
       "    frameborder=\"0\"\n",
       "    allowfullscreen\n",
       "></iframe>\n"
      ]
     },
     "metadata": {},
     "output_type": "display_data"
    },
    {
     "name": "stdout",
     "output_type": "stream",
     "text": [
      "None\n"
     ]
    }
   ],
   "source": [
    "\n",
    "print_example(df,ind_list,ind = i,delta = 240)\n",
    "i += 1"
   ]
  },
  {
   "cell_type": "code",
   "execution_count": 166,
   "metadata": {},
   "outputs": [
    {
     "name": "stdout",
     "output_type": "stream",
     "text": [
      "row loc: 452376  ind: 37\n"
     ]
    },
    {
     "data": {
      "text/html": [
       "<iframe\n",
       "    scrolling=\"no\"\n",
       "    width=\"100%\"\n",
       "    height=\"545px\"\n",
       "    src=\"iframe_figures/figure_2.html\"\n",
       "    frameborder=\"0\"\n",
       "    allowfullscreen\n",
       "></iframe>\n"
      ]
     },
     "metadata": {},
     "output_type": "display_data"
    },
    {
     "name": "stdout",
     "output_type": "stream",
     "text": [
      "None\n"
     ]
    }
   ],
   "source": [
    "print_example(df,ind_list,ind = i,delta = 240)\n",
    "i += 1"
   ]
  },
  {
   "cell_type": "code",
   "execution_count": 167,
   "metadata": {},
   "outputs": [
    {
     "name": "stdout",
     "output_type": "stream",
     "text": [
      "row loc: 463711  ind: 38\n"
     ]
    },
    {
     "data": {
      "text/html": [
       "<iframe\n",
       "    scrolling=\"no\"\n",
       "    width=\"100%\"\n",
       "    height=\"545px\"\n",
       "    src=\"iframe_figures/figure_2.html\"\n",
       "    frameborder=\"0\"\n",
       "    allowfullscreen\n",
       "></iframe>\n"
      ]
     },
     "metadata": {},
     "output_type": "display_data"
    },
    {
     "name": "stdout",
     "output_type": "stream",
     "text": [
      "None\n"
     ]
    }
   ],
   "source": [
    "print_example(df,ind_list,ind = i,delta = 240)\n",
    "i += 1"
   ]
  },
  {
   "cell_type": "code",
   "execution_count": 168,
   "metadata": {},
   "outputs": [
    {
     "name": "stdout",
     "output_type": "stream",
     "text": [
      "row loc: 475783  ind: 39\n"
     ]
    },
    {
     "data": {
      "text/html": [
       "<iframe\n",
       "    scrolling=\"no\"\n",
       "    width=\"100%\"\n",
       "    height=\"545px\"\n",
       "    src=\"iframe_figures/figure_2.html\"\n",
       "    frameborder=\"0\"\n",
       "    allowfullscreen\n",
       "></iframe>\n"
      ]
     },
     "metadata": {},
     "output_type": "display_data"
    },
    {
     "name": "stdout",
     "output_type": "stream",
     "text": [
      "None\n"
     ]
    }
   ],
   "source": [
    "print_example(df,ind_list,ind = i,delta = 240)\n",
    "i += 1"
   ]
  },
  {
   "cell_type": "code",
   "execution_count": 169,
   "metadata": {},
   "outputs": [
    {
     "name": "stdout",
     "output_type": "stream",
     "text": [
      "row loc: 481241  ind: 40\n"
     ]
    },
    {
     "data": {
      "text/html": [
       "<iframe\n",
       "    scrolling=\"no\"\n",
       "    width=\"100%\"\n",
       "    height=\"545px\"\n",
       "    src=\"iframe_figures/figure_2.html\"\n",
       "    frameborder=\"0\"\n",
       "    allowfullscreen\n",
       "></iframe>\n"
      ]
     },
     "metadata": {},
     "output_type": "display_data"
    },
    {
     "name": "stdout",
     "output_type": "stream",
     "text": [
      "None\n"
     ]
    }
   ],
   "source": [
    "print_example(df,ind_list,ind = i,delta = 240)\n",
    "i += 1"
   ]
  },
  {
   "cell_type": "code",
   "execution_count": 170,
   "metadata": {},
   "outputs": [
    {
     "name": "stdout",
     "output_type": "stream",
     "text": [
      "row loc: 488683  ind: 41\n"
     ]
    },
    {
     "data": {
      "text/html": [
       "<iframe\n",
       "    scrolling=\"no\"\n",
       "    width=\"100%\"\n",
       "    height=\"545px\"\n",
       "    src=\"iframe_figures/figure_2.html\"\n",
       "    frameborder=\"0\"\n",
       "    allowfullscreen\n",
       "></iframe>\n"
      ]
     },
     "metadata": {},
     "output_type": "display_data"
    },
    {
     "name": "stdout",
     "output_type": "stream",
     "text": [
      "None\n"
     ]
    }
   ],
   "source": [
    "print_example(df,ind_list,ind = i,delta = 240)\n",
    "i += 1"
   ]
  },
  {
   "cell_type": "code",
   "execution_count": 171,
   "metadata": {},
   "outputs": [
    {
     "name": "stdout",
     "output_type": "stream",
     "text": [
      "row loc: 499044  ind: 42\n"
     ]
    },
    {
     "data": {
      "text/html": [
       "<iframe\n",
       "    scrolling=\"no\"\n",
       "    width=\"100%\"\n",
       "    height=\"545px\"\n",
       "    src=\"iframe_figures/figure_2.html\"\n",
       "    frameborder=\"0\"\n",
       "    allowfullscreen\n",
       "></iframe>\n"
      ]
     },
     "metadata": {},
     "output_type": "display_data"
    },
    {
     "name": "stdout",
     "output_type": "stream",
     "text": [
      "None\n"
     ]
    }
   ],
   "source": [
    "print_example(df,ind_list,ind = i,delta = 240)\n",
    "i += 1"
   ]
  },
  {
   "cell_type": "code",
   "execution_count": 172,
   "metadata": {},
   "outputs": [
    {
     "name": "stdout",
     "output_type": "stream",
     "text": [
      "row loc: 499342  ind: 43\n"
     ]
    },
    {
     "data": {
      "text/html": [
       "<iframe\n",
       "    scrolling=\"no\"\n",
       "    width=\"100%\"\n",
       "    height=\"545px\"\n",
       "    src=\"iframe_figures/figure_2.html\"\n",
       "    frameborder=\"0\"\n",
       "    allowfullscreen\n",
       "></iframe>\n"
      ]
     },
     "metadata": {},
     "output_type": "display_data"
    },
    {
     "name": "stdout",
     "output_type": "stream",
     "text": [
      "None\n"
     ]
    }
   ],
   "source": [
    "print_example(df,ind_list,ind = i,delta = 240)\n",
    "i += 1"
   ]
  },
  {
   "cell_type": "code",
   "execution_count": 173,
   "metadata": {},
   "outputs": [
    {
     "name": "stdout",
     "output_type": "stream",
     "text": [
      "row loc: 510166  ind: 44\n"
     ]
    },
    {
     "data": {
      "text/html": [
       "<iframe\n",
       "    scrolling=\"no\"\n",
       "    width=\"100%\"\n",
       "    height=\"545px\"\n",
       "    src=\"iframe_figures/figure_2.html\"\n",
       "    frameborder=\"0\"\n",
       "    allowfullscreen\n",
       "></iframe>\n"
      ]
     },
     "metadata": {},
     "output_type": "display_data"
    },
    {
     "name": "stdout",
     "output_type": "stream",
     "text": [
      "None\n"
     ]
    }
   ],
   "source": [
    "print_example(df,ind_list,ind = i,delta = 240)\n",
    "i += 1"
   ]
  },
  {
   "cell_type": "code",
   "execution_count": 174,
   "metadata": {},
   "outputs": [
    {
     "name": "stdout",
     "output_type": "stream",
     "text": [
      "row loc: 529206  ind: 45\n"
     ]
    },
    {
     "data": {
      "text/html": [
       "<iframe\n",
       "    scrolling=\"no\"\n",
       "    width=\"100%\"\n",
       "    height=\"545px\"\n",
       "    src=\"iframe_figures/figure_2.html\"\n",
       "    frameborder=\"0\"\n",
       "    allowfullscreen\n",
       "></iframe>\n"
      ]
     },
     "metadata": {},
     "output_type": "display_data"
    },
    {
     "name": "stdout",
     "output_type": "stream",
     "text": [
      "None\n"
     ]
    }
   ],
   "source": [
    "print_example(df,ind_list,ind = i,delta = 240)\n",
    "i += 1"
   ]
  },
  {
   "cell_type": "code",
   "execution_count": 175,
   "metadata": {},
   "outputs": [
    {
     "name": "stdout",
     "output_type": "stream",
     "text": [
      "row loc: 546946  ind: 46\n"
     ]
    },
    {
     "data": {
      "text/html": [
       "<iframe\n",
       "    scrolling=\"no\"\n",
       "    width=\"100%\"\n",
       "    height=\"545px\"\n",
       "    src=\"iframe_figures/figure_2.html\"\n",
       "    frameborder=\"0\"\n",
       "    allowfullscreen\n",
       "></iframe>\n"
      ]
     },
     "metadata": {},
     "output_type": "display_data"
    },
    {
     "name": "stdout",
     "output_type": "stream",
     "text": [
      "None\n"
     ]
    }
   ],
   "source": [
    "print_example(df,ind_list,ind = i,delta = 240)\n",
    "i += 1"
   ]
  },
  {
   "cell_type": "code",
   "execution_count": null,
   "metadata": {},
   "outputs": [],
   "source": []
  },
  {
   "cell_type": "code",
   "execution_count": null,
   "metadata": {},
   "outputs": [],
   "source": []
  },
  {
   "cell_type": "code",
   "execution_count": null,
   "metadata": {},
   "outputs": [],
   "source": []
  },
  {
   "cell_type": "code",
   "execution_count": null,
   "metadata": {},
   "outputs": [],
   "source": []
  },
  {
   "cell_type": "code",
   "execution_count": 185,
   "metadata": {},
   "outputs": [
    {
     "ename": "IndexError",
     "evalue": "only integers, slices (`:`), ellipsis (`...`), numpy.newaxis (`None`) and integer or boolean arrays are valid indices",
     "output_type": "error",
     "traceback": [
      "\u001b[0;31m---------------------------------------------------------------------------\u001b[0m",
      "\u001b[0;31mIndexError\u001b[0m                                Traceback (most recent call last)",
      "\u001b[0;32m<ipython-input-185-defd2f012dfc>\u001b[0m in \u001b[0;36m<module>\u001b[0;34m\u001b[0m\n\u001b[1;32m     16\u001b[0m \u001b[0mcol\u001b[0m \u001b[0;34m=\u001b[0m \u001b[0;34m'delta_max_spike_trigger'\u001b[0m\u001b[0;34m\u001b[0m\u001b[0;34m\u001b[0m\u001b[0m\n\u001b[1;32m     17\u001b[0m \u001b[0;32mfor\u001b[0m \u001b[0mi\u001b[0m \u001b[0;32min\u001b[0m \u001b[0mrange\u001b[0m\u001b[0;34m(\u001b[0m\u001b[0marr\u001b[0m\u001b[0;34m.\u001b[0m\u001b[0mshape\u001b[0m\u001b[0;34m[\u001b[0m\u001b[0;36m0\u001b[0m\u001b[0;34m]\u001b[0m\u001b[0;34m)\u001b[0m\u001b[0;34m:\u001b[0m\u001b[0;34m\u001b[0m\u001b[0;34m\u001b[0m\u001b[0m\n\u001b[0;32m---> 18\u001b[0;31m     \u001b[0;32mif\u001b[0m \u001b[0marr\u001b[0m\u001b[0;34m[\u001b[0m\u001b[0mi\u001b[0m\u001b[0;34m,\u001b[0m\u001b[0mcol\u001b[0m\u001b[0;34m]\u001b[0m \u001b[0;34m==\u001b[0m \u001b[0;36m1\u001b[0m\u001b[0;34m:\u001b[0m\u001b[0;34m\u001b[0m\u001b[0;34m\u001b[0m\u001b[0m\n\u001b[0m\u001b[1;32m     19\u001b[0m         \u001b[0mminute\u001b[0m \u001b[0;34m=\u001b[0m \u001b[0;34m(\u001b[0m\u001b[0;36m60\u001b[0m \u001b[0;34m/\u001b[0m \u001b[0;36m5\u001b[0m\u001b[0;34m)\u001b[0m\u001b[0;34m\u001b[0m\u001b[0;34m\u001b[0m\u001b[0m\n\u001b[1;32m     20\u001b[0m         \u001b[0mnext_5\u001b[0m \u001b[0;34m=\u001b[0m \u001b[0marr\u001b[0m\u001b[0;34m[\u001b[0m\u001b[0mi\u001b[0m \u001b[0;34m+\u001b[0m \u001b[0;36m6\u001b[0m\u001b[0;34m,\u001b[0m\u001b[0mc\u001b[0m\u001b[0;34m]\u001b[0m \u001b[0;34m-\u001b[0m \u001b[0marr\u001b[0m\u001b[0;34m[\u001b[0m\u001b[0mi\u001b[0m \u001b[0;34m+\u001b[0m \u001b[0;36m1\u001b[0m\u001b[0;34m,\u001b[0m\u001b[0mo\u001b[0m\u001b[0;34m]\u001b[0m\u001b[0;34m\u001b[0m\u001b[0;34m\u001b[0m\u001b[0m\n",
      "\u001b[0;31mIndexError\u001b[0m: only integers, slices (`:`), ellipsis (`...`), numpy.newaxis (`None`) and integer or boolean arrays are valid indices"
     ]
    }
   ],
   "source": [
    "arr = df.values \n",
    "o = df.columns.get_loc('o')\n",
    "c = df.columns.get_loc('c')\n",
    "dv = df.columns.get_loc('delta_vector')\n",
    "lst = []\n",
    "cols = ['delta_vector',\n",
    "        'next_5',\n",
    "        'next_min',\n",
    "                    'next_5_min',\n",
    "                    'next_10_min',\n",
    "                    'next_30_min',\n",
    "                    'next_60_min',\n",
    "                    'next_240_min'\n",
    "\n",
    "       ]\n",
    "col = 'delta_max_spike_trigger'\n",
    "for i in range(arr.shape[0]):\n",
    "    if arr[i,col] == 1:\n",
    "        minute = (60 / 5)\n",
    "        next_5 = arr[i + 6,c] - arr[i + 1,o]\n",
    "        next_min = arr[i + minute,c] - arr[i + 1,o]\n",
    "        next_5_min = arr[i + (minute * 5),c] - arr[i + 1,o]\n",
    "        next_10_min = arr[i + (minute * 10),c] - arr[i + 1,o]\n",
    "        next_30_min = arr[i + (minute * 30),c] - arr[i + 1,o]\n",
    "        next_60_min = arr[i + (minute * 60),c] - arr[i + 1,o]\n",
    "        next_240_min = arr[i + (minute * 240),c] - arr[i + 1,o]\n",
    "        lst.append([arr[i,dv],\n",
    "                    next_5,\n",
    "                    next_min,\n",
    "                    next_5_min,\n",
    "                    next_10_min,\n",
    "                    next_30_min,\n",
    "                    next_60_min,\n",
    "                    next_240_min\n",
    "                   ]\n",
    "\n",
    "                    )"
   ]
  },
  {
   "cell_type": "code",
   "execution_count": 186,
   "metadata": {},
   "outputs": [
    {
     "data": {
      "text/plain": [
       "0"
      ]
     },
     "execution_count": 186,
     "metadata": {},
     "output_type": "execute_result"
    }
   ],
   "source": [
    "i"
   ]
  },
  {
   "cell_type": "code",
   "execution_count": null,
   "metadata": {},
   "outputs": [],
   "source": []
  },
  {
   "cell_type": "code",
   "execution_count": 176,
   "metadata": {},
   "outputs": [
    {
     "data": {
      "text/html": [
       "<div>\n",
       "<style scoped>\n",
       "    .dataframe tbody tr th:only-of-type {\n",
       "        vertical-align: middle;\n",
       "    }\n",
       "\n",
       "    .dataframe tbody tr th {\n",
       "        vertical-align: top;\n",
       "    }\n",
       "\n",
       "    .dataframe thead th {\n",
       "        text-align: right;\n",
       "    }\n",
       "</style>\n",
       "<table border=\"1\" class=\"dataframe\">\n",
       "  <thead>\n",
       "    <tr style=\"text-align: right;\">\n",
       "      <th></th>\n",
       "      <th>time</th>\n",
       "      <th>volume</th>\n",
       "      <th>o</th>\n",
       "      <th>h</th>\n",
       "      <th>l</th>\n",
       "      <th>c</th>\n",
       "      <th>delta</th>\n",
       "      <th>delta_max</th>\n",
       "      <th>delta_vector</th>\n",
       "      <th>max_vector</th>\n",
       "      <th>...</th>\n",
       "      <th>next_10</th>\n",
       "      <th>next_candle+1</th>\n",
       "      <th>next_2+1</th>\n",
       "      <th>next_3+1</th>\n",
       "      <th>next_4+1</th>\n",
       "      <th>next_5+1</th>\n",
       "      <th>next_10+1</th>\n",
       "      <th>next_20+1</th>\n",
       "      <th>trigger</th>\n",
       "      <th>delta_max_spike_trigger</th>\n",
       "    </tr>\n",
       "  </thead>\n",
       "  <tbody>\n",
       "    <tr>\n",
       "      <th>0</th>\n",
       "      <td>2020-12-01T05:00:00.000000000Z</td>\n",
       "      <td>5</td>\n",
       "      <td>104.374</td>\n",
       "      <td>104.378</td>\n",
       "      <td>104.374</td>\n",
       "      <td>104.378</td>\n",
       "      <td>0.004</td>\n",
       "      <td>0.004</td>\n",
       "      <td>0.004</td>\n",
       "      <td>0.004</td>\n",
       "      <td>...</td>\n",
       "      <td>0.011</td>\n",
       "      <td>0.000</td>\n",
       "      <td>0.003</td>\n",
       "      <td>0.004</td>\n",
       "      <td>0.004</td>\n",
       "      <td>0.006</td>\n",
       "      <td>0.010</td>\n",
       "      <td>0.021</td>\n",
       "      <td>0</td>\n",
       "      <td>0</td>\n",
       "    </tr>\n",
       "    <tr>\n",
       "      <th>1</th>\n",
       "      <td>2020-12-01T05:00:05.000000000Z</td>\n",
       "      <td>4</td>\n",
       "      <td>104.378</td>\n",
       "      <td>104.378</td>\n",
       "      <td>104.378</td>\n",
       "      <td>104.378</td>\n",
       "      <td>0.000</td>\n",
       "      <td>0.000</td>\n",
       "      <td>0.000</td>\n",
       "      <td>-0.000</td>\n",
       "      <td>...</td>\n",
       "      <td>0.010</td>\n",
       "      <td>0.003</td>\n",
       "      <td>0.004</td>\n",
       "      <td>0.004</td>\n",
       "      <td>0.006</td>\n",
       "      <td>0.008</td>\n",
       "      <td>0.011</td>\n",
       "      <td>0.019</td>\n",
       "      <td>0</td>\n",
       "      <td>0</td>\n",
       "    </tr>\n",
       "    <tr>\n",
       "      <th>2</th>\n",
       "      <td>2020-12-01T05:00:10.000000000Z</td>\n",
       "      <td>1</td>\n",
       "      <td>104.378</td>\n",
       "      <td>104.378</td>\n",
       "      <td>104.378</td>\n",
       "      <td>104.378</td>\n",
       "      <td>0.000</td>\n",
       "      <td>0.000</td>\n",
       "      <td>0.000</td>\n",
       "      <td>-0.000</td>\n",
       "      <td>...</td>\n",
       "      <td>0.011</td>\n",
       "      <td>0.001</td>\n",
       "      <td>0.001</td>\n",
       "      <td>0.003</td>\n",
       "      <td>0.005</td>\n",
       "      <td>0.009</td>\n",
       "      <td>0.009</td>\n",
       "      <td>0.011</td>\n",
       "      <td>0</td>\n",
       "      <td>0</td>\n",
       "    </tr>\n",
       "    <tr>\n",
       "      <th>3</th>\n",
       "      <td>2020-12-01T05:00:15.000000000Z</td>\n",
       "      <td>6</td>\n",
       "      <td>104.378</td>\n",
       "      <td>104.381</td>\n",
       "      <td>104.376</td>\n",
       "      <td>104.381</td>\n",
       "      <td>0.003</td>\n",
       "      <td>0.005</td>\n",
       "      <td>0.003</td>\n",
       "      <td>0.005</td>\n",
       "      <td>...</td>\n",
       "      <td>0.009</td>\n",
       "      <td>0.000</td>\n",
       "      <td>0.002</td>\n",
       "      <td>0.004</td>\n",
       "      <td>0.008</td>\n",
       "      <td>0.008</td>\n",
       "      <td>0.008</td>\n",
       "      <td>0.010</td>\n",
       "      <td>0</td>\n",
       "      <td>0</td>\n",
       "    </tr>\n",
       "    <tr>\n",
       "      <th>4</th>\n",
       "      <td>2020-12-01T05:00:20.000000000Z</td>\n",
       "      <td>19</td>\n",
       "      <td>104.380</td>\n",
       "      <td>104.384</td>\n",
       "      <td>104.380</td>\n",
       "      <td>104.382</td>\n",
       "      <td>0.002</td>\n",
       "      <td>0.004</td>\n",
       "      <td>0.002</td>\n",
       "      <td>0.004</td>\n",
       "      <td>...</td>\n",
       "      <td>0.008</td>\n",
       "      <td>0.002</td>\n",
       "      <td>0.004</td>\n",
       "      <td>0.008</td>\n",
       "      <td>0.008</td>\n",
       "      <td>0.007</td>\n",
       "      <td>0.011</td>\n",
       "      <td>0.011</td>\n",
       "      <td>0</td>\n",
       "      <td>0</td>\n",
       "    </tr>\n",
       "  </tbody>\n",
       "</table>\n",
       "<p>5 rows × 32 columns</p>\n",
       "</div>"
      ],
      "text/plain": [
       "                             time  volume        o        h        l        c  \\\n",
       "0  2020-12-01T05:00:00.000000000Z       5  104.374  104.378  104.374  104.378   \n",
       "1  2020-12-01T05:00:05.000000000Z       4  104.378  104.378  104.378  104.378   \n",
       "2  2020-12-01T05:00:10.000000000Z       1  104.378  104.378  104.378  104.378   \n",
       "3  2020-12-01T05:00:15.000000000Z       6  104.378  104.381  104.376  104.381   \n",
       "4  2020-12-01T05:00:20.000000000Z      19  104.380  104.384  104.380  104.382   \n",
       "\n",
       "   delta  delta_max  delta_vector  max_vector  ...  next_10  next_candle+1  \\\n",
       "0  0.004      0.004         0.004       0.004  ...    0.011          0.000   \n",
       "1  0.000      0.000         0.000      -0.000  ...    0.010          0.003   \n",
       "2  0.000      0.000         0.000      -0.000  ...    0.011          0.001   \n",
       "3  0.003      0.005         0.003       0.005  ...    0.009          0.000   \n",
       "4  0.002      0.004         0.002       0.004  ...    0.008          0.002   \n",
       "\n",
       "   next_2+1  next_3+1  next_4+1  next_5+1  next_10+1  next_20+1  trigger  \\\n",
       "0     0.003     0.004     0.004     0.006      0.010      0.021        0   \n",
       "1     0.004     0.004     0.006     0.008      0.011      0.019        0   \n",
       "2     0.001     0.003     0.005     0.009      0.009      0.011        0   \n",
       "3     0.002     0.004     0.008     0.008      0.008      0.010        0   \n",
       "4     0.004     0.008     0.008     0.007      0.011      0.011        0   \n",
       "\n",
       "   delta_max_spike_trigger  \n",
       "0                        0  \n",
       "1                        0  \n",
       "2                        0  \n",
       "3                        0  \n",
       "4                        0  \n",
       "\n",
       "[5 rows x 32 columns]"
      ]
     },
     "execution_count": 176,
     "metadata": {},
     "output_type": "execute_result"
    }
   ],
   "source": [
    "df.head()"
   ]
  },
  {
   "cell_type": "code",
   "execution_count": 216,
   "metadata": {},
   "outputs": [
    {
     "name": "stdout",
     "output_type": "stream",
     "text": [
      "31\n"
     ]
    },
    {
     "data": {
      "text/html": [
       "<div>\n",
       "<style scoped>\n",
       "    .dataframe tbody tr th:only-of-type {\n",
       "        vertical-align: middle;\n",
       "    }\n",
       "\n",
       "    .dataframe tbody tr th {\n",
       "        vertical-align: top;\n",
       "    }\n",
       "\n",
       "    .dataframe thead th {\n",
       "        text-align: right;\n",
       "    }\n",
       "</style>\n",
       "<table border=\"1\" class=\"dataframe\">\n",
       "  <thead>\n",
       "    <tr style=\"text-align: right;\">\n",
       "      <th></th>\n",
       "      <th>delta_vector</th>\n",
       "      <th>next_5</th>\n",
       "      <th>next_min</th>\n",
       "      <th>next_5_min</th>\n",
       "      <th>next_10_min</th>\n",
       "      <th>next_30_min</th>\n",
       "      <th>next_60_min</th>\n",
       "      <th>next_240_min</th>\n",
       "      <th>next_480_min</th>\n",
       "    </tr>\n",
       "  </thead>\n",
       "  <tbody>\n",
       "    <tr>\n",
       "      <th>0</th>\n",
       "      <td>0.025</td>\n",
       "      <td>-0.013</td>\n",
       "      <td>-0.004</td>\n",
       "      <td>-0.016</td>\n",
       "      <td>-0.024</td>\n",
       "      <td>-0.056</td>\n",
       "      <td>-0.099</td>\n",
       "      <td>-0.107</td>\n",
       "      <td>-0.286</td>\n",
       "    </tr>\n",
       "    <tr>\n",
       "      <th>1</th>\n",
       "      <td>-0.038</td>\n",
       "      <td>-0.001</td>\n",
       "      <td>-0.003</td>\n",
       "      <td>-0.003</td>\n",
       "      <td>-0.035</td>\n",
       "      <td>-0.043</td>\n",
       "      <td>-0.089</td>\n",
       "      <td>-0.319</td>\n",
       "      <td>-0.307</td>\n",
       "    </tr>\n",
       "    <tr>\n",
       "      <th>2</th>\n",
       "      <td>-0.032</td>\n",
       "      <td>-0.003</td>\n",
       "      <td>-0.006</td>\n",
       "      <td>0.023</td>\n",
       "      <td>0.021</td>\n",
       "      <td>-0.003</td>\n",
       "      <td>-0.052</td>\n",
       "      <td>0.111</td>\n",
       "      <td>0.181</td>\n",
       "    </tr>\n",
       "    <tr>\n",
       "      <th>3</th>\n",
       "      <td>-0.052</td>\n",
       "      <td>-0.038</td>\n",
       "      <td>-0.040</td>\n",
       "      <td>0.009</td>\n",
       "      <td>-0.091</td>\n",
       "      <td>0.051</td>\n",
       "      <td>0.003</td>\n",
       "      <td>0.151</td>\n",
       "      <td>0.105</td>\n",
       "    </tr>\n",
       "    <tr>\n",
       "      <th>4</th>\n",
       "      <td>0.026</td>\n",
       "      <td>0.061</td>\n",
       "      <td>0.044</td>\n",
       "      <td>0.023</td>\n",
       "      <td>0.020</td>\n",
       "      <td>0.040</td>\n",
       "      <td>0.054</td>\n",
       "      <td>0.110</td>\n",
       "      <td>0.123</td>\n",
       "    </tr>\n",
       "  </tbody>\n",
       "</table>\n",
       "</div>"
      ],
      "text/plain": [
       "   delta_vector  next_5  next_min  next_5_min  next_10_min  next_30_min  \\\n",
       "0         0.025  -0.013    -0.004      -0.016       -0.024       -0.056   \n",
       "1        -0.038  -0.001    -0.003      -0.003       -0.035       -0.043   \n",
       "2        -0.032  -0.003    -0.006       0.023        0.021       -0.003   \n",
       "3        -0.052  -0.038    -0.040       0.009       -0.091        0.051   \n",
       "4         0.026   0.061     0.044       0.023        0.020        0.040   \n",
       "\n",
       "   next_60_min  next_240_min  next_480_min  \n",
       "0       -0.099        -0.107        -0.286  \n",
       "1       -0.089        -0.319        -0.307  \n",
       "2       -0.052         0.111         0.181  \n",
       "3        0.003         0.151         0.105  \n",
       "4        0.054         0.110         0.123  "
      ]
     },
     "execution_count": 216,
     "metadata": {},
     "output_type": "execute_result"
    }
   ],
   "source": [
    "\n",
    "\n",
    "def check_strategy_basic_stats(df,col_name = 'delta_max_spike_trigger'):\n",
    "    arr = df.values \n",
    "    o = df.columns.get_loc('o')\n",
    "    c = df.columns.get_loc('c')\n",
    "    dv = df.columns.get_loc('delta_vector')\n",
    "    lst = []\n",
    "    cols = ['delta_vector',\n",
    "            'next_5',\n",
    "            'next_min',\n",
    "                        'next_5_min',\n",
    "                        'next_10_min',\n",
    "                        'next_30_min',\n",
    "                        'next_60_min',\n",
    "                        'next_240_min',\n",
    "            'next_480_min'\n",
    "            \n",
    "           ]\n",
    "    col = df.columns.get_loc(col_name)\n",
    "    print(col)\n",
    "    minute = int(60 / 5)\n",
    "    for i in range(arr.shape[0]):\n",
    "        if arr[i,col] == 1:\n",
    "            \n",
    "            next_5 = arr[i + 6,c] - arr[i + 1,o]\n",
    "            next_min = arr[i + minute,c] - arr[i + 1,o]\n",
    "            next_5_min = arr[i + (minute * 5),c] - arr[i + 1,o]\n",
    "            next_10_min = arr[i + (minute * 10),c] - arr[i + 1,o]\n",
    "            next_30_min = arr[i + (minute * 30),c] - arr[i + 1,o]\n",
    "            next_60_min = arr[i + (minute * 60),c] - arr[i + 1,o]\n",
    "            next_240_min = arr[i + (minute * 240),c] - arr[i + 1,o]\n",
    "            next_480_min = arr[i + (minute * 480),c] - arr[i + 1,o]\n",
    "            lst.append([arr[i,dv],\n",
    "                        next_5,\n",
    "                        next_min,\n",
    "                        next_5_min,\n",
    "                        next_10_min,\n",
    "                        next_30_min,\n",
    "                        next_60_min,\n",
    "                        next_240_min,\n",
    "                        next_480_min\n",
    "                       ]\n",
    "                        \n",
    "                        )\n",
    "    return pd.DataFrame(lst,columns = cols)\n",
    "            \n",
    "            \n",
    "        \n",
    "        \n",
    "test = check_strategy_basic_stats(df,col_name = 'delta_max_spike_trigger')\n",
    "test.head()\n",
    "    \n",
    "    "
   ]
  },
  {
   "cell_type": "code",
   "execution_count": null,
   "metadata": {},
   "outputs": [],
   "source": []
  },
  {
   "cell_type": "code",
   "execution_count": null,
   "metadata": {},
   "outputs": [],
   "source": []
  },
  {
   "cell_type": "code",
   "execution_count": null,
   "metadata": {},
   "outputs": [],
   "source": []
  },
  {
   "cell_type": "code",
   "execution_count": null,
   "metadata": {},
   "outputs": [],
   "source": []
  },
  {
   "cell_type": "code",
   "execution_count": null,
   "metadata": {},
   "outputs": [],
   "source": []
  },
  {
   "cell_type": "code",
   "execution_count": null,
   "metadata": {},
   "outputs": [],
   "source": []
  },
  {
   "cell_type": "code",
   "execution_count": null,
   "metadata": {},
   "outputs": [],
   "source": []
  },
  {
   "cell_type": "code",
   "execution_count": 211,
   "metadata": {},
   "outputs": [
    {
     "data": {
      "text/html": [
       "<div>\n",
       "<style scoped>\n",
       "    .dataframe tbody tr th:only-of-type {\n",
       "        vertical-align: middle;\n",
       "    }\n",
       "\n",
       "    .dataframe tbody tr th {\n",
       "        vertical-align: top;\n",
       "    }\n",
       "\n",
       "    .dataframe thead th {\n",
       "        text-align: right;\n",
       "    }\n",
       "</style>\n",
       "<table border=\"1\" class=\"dataframe\">\n",
       "  <thead>\n",
       "    <tr style=\"text-align: right;\">\n",
       "      <th></th>\n",
       "      <th>time</th>\n",
       "      <th>volume</th>\n",
       "      <th>o</th>\n",
       "      <th>h</th>\n",
       "      <th>l</th>\n",
       "      <th>c</th>\n",
       "      <th>delta</th>\n",
       "      <th>delta_max</th>\n",
       "      <th>delta_vector</th>\n",
       "      <th>max_vector</th>\n",
       "      <th>...</th>\n",
       "      <th>next_10</th>\n",
       "      <th>next_candle+1</th>\n",
       "      <th>next_2+1</th>\n",
       "      <th>next_3+1</th>\n",
       "      <th>next_4+1</th>\n",
       "      <th>next_5+1</th>\n",
       "      <th>next_10+1</th>\n",
       "      <th>next_20+1</th>\n",
       "      <th>trigger</th>\n",
       "      <th>delta_max_spike_trigger</th>\n",
       "    </tr>\n",
       "  </thead>\n",
       "  <tbody>\n",
       "    <tr>\n",
       "      <th>2960613</th>\n",
       "      <td>2021-12-01T04:59:20.000000000Z</td>\n",
       "      <td>10</td>\n",
       "      <td>113.496</td>\n",
       "      <td>113.504</td>\n",
       "      <td>113.494</td>\n",
       "      <td>113.502</td>\n",
       "      <td>0.006</td>\n",
       "      <td>0.010</td>\n",
       "      <td>0.006</td>\n",
       "      <td>0.010</td>\n",
       "      <td>...</td>\n",
       "      <td>0.0</td>\n",
       "      <td>0.0</td>\n",
       "      <td>0.0</td>\n",
       "      <td>0.0</td>\n",
       "      <td>0.0</td>\n",
       "      <td>0.0</td>\n",
       "      <td>0.0</td>\n",
       "      <td>0.0</td>\n",
       "      <td>0</td>\n",
       "      <td>0</td>\n",
       "    </tr>\n",
       "    <tr>\n",
       "      <th>2960614</th>\n",
       "      <td>2021-12-01T04:59:25.000000000Z</td>\n",
       "      <td>1</td>\n",
       "      <td>113.501</td>\n",
       "      <td>113.501</td>\n",
       "      <td>113.501</td>\n",
       "      <td>113.501</td>\n",
       "      <td>0.000</td>\n",
       "      <td>0.000</td>\n",
       "      <td>0.000</td>\n",
       "      <td>-0.000</td>\n",
       "      <td>...</td>\n",
       "      <td>0.0</td>\n",
       "      <td>0.0</td>\n",
       "      <td>0.0</td>\n",
       "      <td>0.0</td>\n",
       "      <td>0.0</td>\n",
       "      <td>0.0</td>\n",
       "      <td>0.0</td>\n",
       "      <td>0.0</td>\n",
       "      <td>0</td>\n",
       "      <td>0</td>\n",
       "    </tr>\n",
       "    <tr>\n",
       "      <th>2960615</th>\n",
       "      <td>2021-12-01T04:59:30.000000000Z</td>\n",
       "      <td>1</td>\n",
       "      <td>113.500</td>\n",
       "      <td>113.500</td>\n",
       "      <td>113.500</td>\n",
       "      <td>113.500</td>\n",
       "      <td>0.000</td>\n",
       "      <td>0.000</td>\n",
       "      <td>0.000</td>\n",
       "      <td>-0.000</td>\n",
       "      <td>...</td>\n",
       "      <td>0.0</td>\n",
       "      <td>0.0</td>\n",
       "      <td>0.0</td>\n",
       "      <td>0.0</td>\n",
       "      <td>0.0</td>\n",
       "      <td>0.0</td>\n",
       "      <td>0.0</td>\n",
       "      <td>0.0</td>\n",
       "      <td>0</td>\n",
       "      <td>0</td>\n",
       "    </tr>\n",
       "    <tr>\n",
       "      <th>2960616</th>\n",
       "      <td>2021-12-01T04:59:45.000000000Z</td>\n",
       "      <td>11</td>\n",
       "      <td>113.498</td>\n",
       "      <td>113.499</td>\n",
       "      <td>113.498</td>\n",
       "      <td>113.498</td>\n",
       "      <td>0.000</td>\n",
       "      <td>0.001</td>\n",
       "      <td>0.000</td>\n",
       "      <td>-0.001</td>\n",
       "      <td>...</td>\n",
       "      <td>0.0</td>\n",
       "      <td>0.0</td>\n",
       "      <td>0.0</td>\n",
       "      <td>0.0</td>\n",
       "      <td>0.0</td>\n",
       "      <td>0.0</td>\n",
       "      <td>0.0</td>\n",
       "      <td>0.0</td>\n",
       "      <td>0</td>\n",
       "      <td>0</td>\n",
       "    </tr>\n",
       "    <tr>\n",
       "      <th>2960617</th>\n",
       "      <td>2021-12-01T04:59:55.000000000Z</td>\n",
       "      <td>5</td>\n",
       "      <td>113.499</td>\n",
       "      <td>113.499</td>\n",
       "      <td>113.498</td>\n",
       "      <td>113.499</td>\n",
       "      <td>0.000</td>\n",
       "      <td>0.001</td>\n",
       "      <td>0.000</td>\n",
       "      <td>-0.001</td>\n",
       "      <td>...</td>\n",
       "      <td>0.0</td>\n",
       "      <td>0.0</td>\n",
       "      <td>0.0</td>\n",
       "      <td>0.0</td>\n",
       "      <td>0.0</td>\n",
       "      <td>0.0</td>\n",
       "      <td>0.0</td>\n",
       "      <td>0.0</td>\n",
       "      <td>0</td>\n",
       "      <td>0</td>\n",
       "    </tr>\n",
       "  </tbody>\n",
       "</table>\n",
       "<p>5 rows × 32 columns</p>\n",
       "</div>"
      ],
      "text/plain": [
       "                                   time  volume        o        h        l  \\\n",
       "2960613  2021-12-01T04:59:20.000000000Z      10  113.496  113.504  113.494   \n",
       "2960614  2021-12-01T04:59:25.000000000Z       1  113.501  113.501  113.501   \n",
       "2960615  2021-12-01T04:59:30.000000000Z       1  113.500  113.500  113.500   \n",
       "2960616  2021-12-01T04:59:45.000000000Z      11  113.498  113.499  113.498   \n",
       "2960617  2021-12-01T04:59:55.000000000Z       5  113.499  113.499  113.498   \n",
       "\n",
       "               c  delta  delta_max  delta_vector  max_vector  ...  next_10  \\\n",
       "2960613  113.502  0.006      0.010         0.006       0.010  ...      0.0   \n",
       "2960614  113.501  0.000      0.000         0.000      -0.000  ...      0.0   \n",
       "2960615  113.500  0.000      0.000         0.000      -0.000  ...      0.0   \n",
       "2960616  113.498  0.000      0.001         0.000      -0.001  ...      0.0   \n",
       "2960617  113.499  0.000      0.001         0.000      -0.001  ...      0.0   \n",
       "\n",
       "         next_candle+1  next_2+1  next_3+1  next_4+1  next_5+1  next_10+1  \\\n",
       "2960613            0.0       0.0       0.0       0.0       0.0        0.0   \n",
       "2960614            0.0       0.0       0.0       0.0       0.0        0.0   \n",
       "2960615            0.0       0.0       0.0       0.0       0.0        0.0   \n",
       "2960616            0.0       0.0       0.0       0.0       0.0        0.0   \n",
       "2960617            0.0       0.0       0.0       0.0       0.0        0.0   \n",
       "\n",
       "         next_20+1  trigger  delta_max_spike_trigger  \n",
       "2960613        0.0        0                        0  \n",
       "2960614        0.0        0                        0  \n",
       "2960615        0.0        0                        0  \n",
       "2960616        0.0        0                        0  \n",
       "2960617        0.0        0                        0  \n",
       "\n",
       "[5 rows x 32 columns]"
      ]
     },
     "execution_count": 211,
     "metadata": {},
     "output_type": "execute_result"
    }
   ],
   "source": [
    "df.tail()"
   ]
  },
  {
   "cell_type": "code",
   "execution_count": null,
   "metadata": {},
   "outputs": [],
   "source": []
  },
  {
   "cell_type": "code",
   "execution_count": null,
   "metadata": {},
   "outputs": [],
   "source": []
  },
  {
   "cell_type": "code",
   "execution_count": 221,
   "metadata": {},
   "outputs": [
    {
     "name": "stdout",
     "output_type": "stream",
     "text": [
      "Compound interest is 17048.138294215285\n"
     ]
    },
    {
     "data": {
      "text/plain": [
       "27048.138294215285"
      ]
     },
     "execution_count": 221,
     "metadata": {},
     "output_type": "execute_result"
    }
   ],
   "source": [
    "def compound_interest(principle, rate, time):\n",
    " \n",
    "    # Calculates compound interest\n",
    "    Amount = principle * (pow((1 + rate / 100), time))\n",
    "    CI = Amount - principle\n",
    "    print(\"Compound interest is\", CI)\n",
    "    return Amount\n",
    "\n",
    "principle = 10000\n",
    "rate = 1\n",
    "time = 100\n",
    "amt = compound_interest(principle, rate, time)\n",
    "amt"
   ]
  },
  {
   "cell_type": "code",
   "execution_count": null,
   "metadata": {},
   "outputs": [],
   "source": []
  },
  {
   "cell_type": "code",
   "execution_count": null,
   "metadata": {},
   "outputs": [],
   "source": []
  },
  {
   "cell_type": "code",
   "execution_count": null,
   "metadata": {},
   "outputs": [],
   "source": []
  },
  {
   "cell_type": "code",
   "execution_count": null,
   "metadata": {},
   "outputs": [],
   "source": []
  },
  {
   "cell_type": "code",
   "execution_count": 213,
   "metadata": {},
   "outputs": [
    {
     "name": "stdout",
     "output_type": "stream",
     "text": [
      "POS SUM\n",
      "delta_vector    6.132\n",
      "next_5         -1.160\n",
      "next_min       -1.392\n",
      "next_5_min     -1.297\n",
      "next_10_min    -0.919\n",
      "next_30_min    -0.109\n",
      "next_60_min    -0.285\n",
      "next_240_min    3.038\n",
      "next_480_min    3.126\n",
      "dtype: float64\n",
      "POS MEAN\n",
      "delta_vector    0.041154\n",
      "next_5         -0.007785\n",
      "next_min       -0.009342\n",
      "next_5_min     -0.008705\n",
      "next_10_min    -0.006168\n",
      "next_30_min    -0.000732\n",
      "next_60_min    -0.001913\n",
      "next_240_min    0.020389\n",
      "next_480_min    0.020980\n",
      "dtype: float64\n",
      "\n",
      "NEG SUM\n",
      "delta_vector   -5.289\n",
      "next_5         -0.553\n",
      "next_min       -0.558\n",
      "next_5_min     -0.026\n",
      "next_10_min     0.827\n",
      "next_30_min     0.824\n",
      "next_60_min     0.002\n",
      "next_240_min    2.983\n",
      "next_480_min    0.149\n",
      "dtype: float64\n",
      "NEG MEAN\n",
      "delta_vector   -0.041320\n",
      "next_5         -0.004320\n",
      "next_min       -0.004359\n",
      "next_5_min     -0.000203\n",
      "next_10_min     0.006461\n",
      "next_30_min     0.006437\n",
      "next_60_min     0.000016\n",
      "next_240_min    0.023305\n",
      "next_480_min    0.001164\n",
      "dtype: float64\n"
     ]
    }
   ],
   "source": [
    "pos = test[test['delta_vector'] > 0]\n",
    "neg = test[test['delta_vector'] < 0]\n",
    "print('POS SUM')\n",
    "print(pos.sum())\n",
    "print('POS MEAN')\n",
    "print(pos.mean())\n",
    "print()\n",
    "print('NEG SUM')\n",
    "print(neg.sum())\n",
    "print('NEG MEAN')\n",
    "print(neg.mean())"
   ]
  },
  {
   "cell_type": "code",
   "execution_count": null,
   "metadata": {},
   "outputs": [],
   "source": []
  },
  {
   "cell_type": "code",
   "execution_count": null,
   "metadata": {},
   "outputs": [],
   "source": []
  },
  {
   "cell_type": "code",
   "execution_count": null,
   "metadata": {},
   "outputs": [],
   "source": []
  },
  {
   "cell_type": "code",
   "execution_count": null,
   "metadata": {},
   "outputs": [],
   "source": []
  },
  {
   "cell_type": "code",
   "execution_count": 214,
   "metadata": {},
   "outputs": [
    {
     "data": {
      "text/html": [
       "<div>\n",
       "<style scoped>\n",
       "    .dataframe tbody tr th:only-of-type {\n",
       "        vertical-align: middle;\n",
       "    }\n",
       "\n",
       "    .dataframe tbody tr th {\n",
       "        vertical-align: top;\n",
       "    }\n",
       "\n",
       "    .dataframe thead th {\n",
       "        text-align: right;\n",
       "    }\n",
       "</style>\n",
       "<table border=\"1\" class=\"dataframe\">\n",
       "  <thead>\n",
       "    <tr style=\"text-align: right;\">\n",
       "      <th></th>\n",
       "      <th>delta_vector</th>\n",
       "      <th>next_5</th>\n",
       "      <th>next_min</th>\n",
       "      <th>next_5_min</th>\n",
       "      <th>next_10_min</th>\n",
       "      <th>next_30_min</th>\n",
       "      <th>next_60_min</th>\n",
       "      <th>next_240_min</th>\n",
       "      <th>next_480_min</th>\n",
       "    </tr>\n",
       "  </thead>\n",
       "  <tbody>\n",
       "    <tr>\n",
       "      <th>148</th>\n",
       "      <td>0.055</td>\n",
       "      <td>0.136</td>\n",
       "      <td>0.252</td>\n",
       "      <td>0.366</td>\n",
       "      <td>0.242</td>\n",
       "      <td>0.338</td>\n",
       "      <td>0.479</td>\n",
       "      <td>0.761</td>\n",
       "      <td>0.669</td>\n",
       "    </tr>\n",
       "    <tr>\n",
       "      <th>268</th>\n",
       "      <td>0.066</td>\n",
       "      <td>0.060</td>\n",
       "      <td>0.063</td>\n",
       "      <td>0.253</td>\n",
       "      <td>0.272</td>\n",
       "      <td>0.444</td>\n",
       "      <td>0.444</td>\n",
       "      <td>0.624</td>\n",
       "      <td>0.830</td>\n",
       "    </tr>\n",
       "    <tr>\n",
       "      <th>129</th>\n",
       "      <td>0.042</td>\n",
       "      <td>-0.036</td>\n",
       "      <td>-0.032</td>\n",
       "      <td>-0.006</td>\n",
       "      <td>-0.014</td>\n",
       "      <td>0.148</td>\n",
       "      <td>0.114</td>\n",
       "      <td>0.589</td>\n",
       "      <td>0.607</td>\n",
       "    </tr>\n",
       "    <tr>\n",
       "      <th>118</th>\n",
       "      <td>0.258</td>\n",
       "      <td>-0.013</td>\n",
       "      <td>0.021</td>\n",
       "      <td>0.129</td>\n",
       "      <td>0.132</td>\n",
       "      <td>-0.026</td>\n",
       "      <td>0.126</td>\n",
       "      <td>0.571</td>\n",
       "      <td>0.649</td>\n",
       "    </tr>\n",
       "    <tr>\n",
       "      <th>257</th>\n",
       "      <td>0.164</td>\n",
       "      <td>0.027</td>\n",
       "      <td>0.070</td>\n",
       "      <td>0.002</td>\n",
       "      <td>0.014</td>\n",
       "      <td>0.056</td>\n",
       "      <td>0.008</td>\n",
       "      <td>0.562</td>\n",
       "      <td>0.590</td>\n",
       "    </tr>\n",
       "    <tr>\n",
       "      <th>130</th>\n",
       "      <td>0.012</td>\n",
       "      <td>-0.040</td>\n",
       "      <td>-0.020</td>\n",
       "      <td>-0.056</td>\n",
       "      <td>-0.026</td>\n",
       "      <td>0.013</td>\n",
       "      <td>0.094</td>\n",
       "      <td>0.510</td>\n",
       "      <td>0.564</td>\n",
       "    </tr>\n",
       "    <tr>\n",
       "      <th>274</th>\n",
       "      <td>0.082</td>\n",
       "      <td>-0.030</td>\n",
       "      <td>-0.062</td>\n",
       "      <td>0.020</td>\n",
       "      <td>0.008</td>\n",
       "      <td>0.181</td>\n",
       "      <td>0.210</td>\n",
       "      <td>0.483</td>\n",
       "      <td>0.041</td>\n",
       "    </tr>\n",
       "    <tr>\n",
       "      <th>222</th>\n",
       "      <td>0.021</td>\n",
       "      <td>0.006</td>\n",
       "      <td>0.016</td>\n",
       "      <td>0.020</td>\n",
       "      <td>0.028</td>\n",
       "      <td>0.082</td>\n",
       "      <td>0.074</td>\n",
       "      <td>0.463</td>\n",
       "      <td>0.398</td>\n",
       "    </tr>\n",
       "    <tr>\n",
       "      <th>136</th>\n",
       "      <td>0.064</td>\n",
       "      <td>0.012</td>\n",
       "      <td>0.003</td>\n",
       "      <td>0.002</td>\n",
       "      <td>0.060</td>\n",
       "      <td>0.035</td>\n",
       "      <td>0.128</td>\n",
       "      <td>0.415</td>\n",
       "      <td>0.294</td>\n",
       "    </tr>\n",
       "    <tr>\n",
       "      <th>82</th>\n",
       "      <td>0.028</td>\n",
       "      <td>-0.002</td>\n",
       "      <td>0.014</td>\n",
       "      <td>0.008</td>\n",
       "      <td>0.004</td>\n",
       "      <td>0.062</td>\n",
       "      <td>0.057</td>\n",
       "      <td>0.384</td>\n",
       "      <td>0.300</td>\n",
       "    </tr>\n",
       "    <tr>\n",
       "      <th>199</th>\n",
       "      <td>0.054</td>\n",
       "      <td>-0.010</td>\n",
       "      <td>-0.003</td>\n",
       "      <td>-0.025</td>\n",
       "      <td>-0.021</td>\n",
       "      <td>-0.019</td>\n",
       "      <td>0.100</td>\n",
       "      <td>0.338</td>\n",
       "      <td>-0.224</td>\n",
       "    </tr>\n",
       "    <tr>\n",
       "      <th>62</th>\n",
       "      <td>0.028</td>\n",
       "      <td>0.001</td>\n",
       "      <td>0.042</td>\n",
       "      <td>0.016</td>\n",
       "      <td>-0.002</td>\n",
       "      <td>0.046</td>\n",
       "      <td>0.030</td>\n",
       "      <td>0.333</td>\n",
       "      <td>0.308</td>\n",
       "    </tr>\n",
       "    <tr>\n",
       "      <th>97</th>\n",
       "      <td>0.032</td>\n",
       "      <td>-0.017</td>\n",
       "      <td>-0.013</td>\n",
       "      <td>-0.025</td>\n",
       "      <td>-0.021</td>\n",
       "      <td>-0.029</td>\n",
       "      <td>0.107</td>\n",
       "      <td>0.331</td>\n",
       "      <td>-0.145</td>\n",
       "    </tr>\n",
       "    <tr>\n",
       "      <th>275</th>\n",
       "      <td>0.104</td>\n",
       "      <td>0.092</td>\n",
       "      <td>0.025</td>\n",
       "      <td>-0.214</td>\n",
       "      <td>-0.056</td>\n",
       "      <td>0.100</td>\n",
       "      <td>0.386</td>\n",
       "      <td>0.316</td>\n",
       "      <td>0.070</td>\n",
       "    </tr>\n",
       "    <tr>\n",
       "      <th>218</th>\n",
       "      <td>0.028</td>\n",
       "      <td>0.060</td>\n",
       "      <td>0.070</td>\n",
       "      <td>0.094</td>\n",
       "      <td>0.107</td>\n",
       "      <td>0.128</td>\n",
       "      <td>0.109</td>\n",
       "      <td>0.294</td>\n",
       "      <td>0.204</td>\n",
       "    </tr>\n",
       "    <tr>\n",
       "      <th>262</th>\n",
       "      <td>0.074</td>\n",
       "      <td>0.020</td>\n",
       "      <td>0.062</td>\n",
       "      <td>0.064</td>\n",
       "      <td>-0.008</td>\n",
       "      <td>0.080</td>\n",
       "      <td>0.182</td>\n",
       "      <td>0.282</td>\n",
       "      <td>0.507</td>\n",
       "    </tr>\n",
       "    <tr>\n",
       "      <th>189</th>\n",
       "      <td>0.119</td>\n",
       "      <td>0.040</td>\n",
       "      <td>0.082</td>\n",
       "      <td>0.050</td>\n",
       "      <td>0.018</td>\n",
       "      <td>0.174</td>\n",
       "      <td>0.264</td>\n",
       "      <td>0.278</td>\n",
       "      <td>0.259</td>\n",
       "    </tr>\n",
       "    <tr>\n",
       "      <th>252</th>\n",
       "      <td>0.070</td>\n",
       "      <td>-0.026</td>\n",
       "      <td>-0.040</td>\n",
       "      <td>0.008</td>\n",
       "      <td>-0.012</td>\n",
       "      <td>0.044</td>\n",
       "      <td>0.131</td>\n",
       "      <td>0.260</td>\n",
       "      <td>0.265</td>\n",
       "    </tr>\n",
       "    <tr>\n",
       "      <th>54</th>\n",
       "      <td>0.013</td>\n",
       "      <td>0.001</td>\n",
       "      <td>-0.018</td>\n",
       "      <td>-0.003</td>\n",
       "      <td>-0.026</td>\n",
       "      <td>0.004</td>\n",
       "      <td>0.020</td>\n",
       "      <td>0.250</td>\n",
       "      <td>0.534</td>\n",
       "    </tr>\n",
       "    <tr>\n",
       "      <th>247</th>\n",
       "      <td>0.020</td>\n",
       "      <td>0.021</td>\n",
       "      <td>-0.030</td>\n",
       "      <td>-0.033</td>\n",
       "      <td>-0.029</td>\n",
       "      <td>0.051</td>\n",
       "      <td>0.081</td>\n",
       "      <td>0.239</td>\n",
       "      <td>0.328</td>\n",
       "    </tr>\n",
       "    <tr>\n",
       "      <th>25</th>\n",
       "      <td>0.073</td>\n",
       "      <td>-0.076</td>\n",
       "      <td>-0.068</td>\n",
       "      <td>-0.038</td>\n",
       "      <td>0.032</td>\n",
       "      <td>0.064</td>\n",
       "      <td>0.092</td>\n",
       "      <td>0.234</td>\n",
       "      <td>0.138</td>\n",
       "    </tr>\n",
       "    <tr>\n",
       "      <th>216</th>\n",
       "      <td>0.007</td>\n",
       "      <td>0.008</td>\n",
       "      <td>0.044</td>\n",
       "      <td>0.107</td>\n",
       "      <td>0.186</td>\n",
       "      <td>0.209</td>\n",
       "      <td>0.301</td>\n",
       "      <td>0.231</td>\n",
       "      <td>0.415</td>\n",
       "    </tr>\n",
       "    <tr>\n",
       "      <th>64</th>\n",
       "      <td>0.029</td>\n",
       "      <td>-0.013</td>\n",
       "      <td>-0.018</td>\n",
       "      <td>-0.016</td>\n",
       "      <td>-0.008</td>\n",
       "      <td>-0.005</td>\n",
       "      <td>-0.024</td>\n",
       "      <td>0.230</td>\n",
       "      <td>0.152</td>\n",
       "    </tr>\n",
       "    <tr>\n",
       "      <th>135</th>\n",
       "      <td>0.006</td>\n",
       "      <td>-0.033</td>\n",
       "      <td>-0.027</td>\n",
       "      <td>-0.005</td>\n",
       "      <td>0.007</td>\n",
       "      <td>0.013</td>\n",
       "      <td>0.065</td>\n",
       "      <td>0.213</td>\n",
       "      <td>0.308</td>\n",
       "    </tr>\n",
       "    <tr>\n",
       "      <th>84</th>\n",
       "      <td>0.052</td>\n",
       "      <td>-0.012</td>\n",
       "      <td>-0.001</td>\n",
       "      <td>0.000</td>\n",
       "      <td>0.005</td>\n",
       "      <td>-0.008</td>\n",
       "      <td>0.119</td>\n",
       "      <td>0.209</td>\n",
       "      <td>0.120</td>\n",
       "    </tr>\n",
       "    <tr>\n",
       "      <th>38</th>\n",
       "      <td>0.028</td>\n",
       "      <td>0.024</td>\n",
       "      <td>0.001</td>\n",
       "      <td>-0.032</td>\n",
       "      <td>-0.028</td>\n",
       "      <td>0.069</td>\n",
       "      <td>0.153</td>\n",
       "      <td>0.208</td>\n",
       "      <td>0.196</td>\n",
       "    </tr>\n",
       "    <tr>\n",
       "      <th>196</th>\n",
       "      <td>0.044</td>\n",
       "      <td>-0.094</td>\n",
       "      <td>-0.134</td>\n",
       "      <td>0.072</td>\n",
       "      <td>0.030</td>\n",
       "      <td>0.194</td>\n",
       "      <td>0.146</td>\n",
       "      <td>0.201</td>\n",
       "      <td>0.197</td>\n",
       "    </tr>\n",
       "    <tr>\n",
       "      <th>215</th>\n",
       "      <td>0.046</td>\n",
       "      <td>-0.022</td>\n",
       "      <td>0.006</td>\n",
       "      <td>0.087</td>\n",
       "      <td>0.150</td>\n",
       "      <td>0.216</td>\n",
       "      <td>0.092</td>\n",
       "      <td>0.201</td>\n",
       "      <td>0.076</td>\n",
       "    </tr>\n",
       "    <tr>\n",
       "      <th>152</th>\n",
       "      <td>0.024</td>\n",
       "      <td>0.014</td>\n",
       "      <td>0.022</td>\n",
       "      <td>0.040</td>\n",
       "      <td>0.052</td>\n",
       "      <td>0.072</td>\n",
       "      <td>0.086</td>\n",
       "      <td>0.196</td>\n",
       "      <td>0.200</td>\n",
       "    </tr>\n",
       "    <tr>\n",
       "      <th>233</th>\n",
       "      <td>0.045</td>\n",
       "      <td>0.076</td>\n",
       "      <td>0.084</td>\n",
       "      <td>0.066</td>\n",
       "      <td>0.090</td>\n",
       "      <td>-0.034</td>\n",
       "      <td>-0.004</td>\n",
       "      <td>0.196</td>\n",
       "      <td>0.221</td>\n",
       "    </tr>\n",
       "    <tr>\n",
       "      <th>237</th>\n",
       "      <td>0.060</td>\n",
       "      <td>-0.072</td>\n",
       "      <td>-0.066</td>\n",
       "      <td>-0.055</td>\n",
       "      <td>-0.035</td>\n",
       "      <td>0.002</td>\n",
       "      <td>0.005</td>\n",
       "      <td>0.190</td>\n",
       "      <td>0.481</td>\n",
       "    </tr>\n",
       "    <tr>\n",
       "      <th>221</th>\n",
       "      <td>0.026</td>\n",
       "      <td>0.022</td>\n",
       "      <td>-0.002</td>\n",
       "      <td>-0.084</td>\n",
       "      <td>-0.144</td>\n",
       "      <td>-0.078</td>\n",
       "      <td>-0.043</td>\n",
       "      <td>0.177</td>\n",
       "      <td>-0.066</td>\n",
       "    </tr>\n",
       "    <tr>\n",
       "      <th>160</th>\n",
       "      <td>0.061</td>\n",
       "      <td>0.047</td>\n",
       "      <td>0.069</td>\n",
       "      <td>0.047</td>\n",
       "      <td>0.003</td>\n",
       "      <td>0.033</td>\n",
       "      <td>0.161</td>\n",
       "      <td>0.175</td>\n",
       "      <td>0.245</td>\n",
       "    </tr>\n",
       "    <tr>\n",
       "      <th>229</th>\n",
       "      <td>0.034</td>\n",
       "      <td>-0.039</td>\n",
       "      <td>-0.037</td>\n",
       "      <td>-0.036</td>\n",
       "      <td>-0.015</td>\n",
       "      <td>-0.028</td>\n",
       "      <td>0.044</td>\n",
       "      <td>0.164</td>\n",
       "      <td>-0.002</td>\n",
       "    </tr>\n",
       "    <tr>\n",
       "      <th>197</th>\n",
       "      <td>0.018</td>\n",
       "      <td>0.008</td>\n",
       "      <td>0.014</td>\n",
       "      <td>0.009</td>\n",
       "      <td>0.019</td>\n",
       "      <td>0.020</td>\n",
       "      <td>-0.015</td>\n",
       "      <td>0.159</td>\n",
       "      <td>0.043</td>\n",
       "    </tr>\n",
       "    <tr>\n",
       "      <th>220</th>\n",
       "      <td>0.029</td>\n",
       "      <td>0.008</td>\n",
       "      <td>0.001</td>\n",
       "      <td>0.012</td>\n",
       "      <td>0.026</td>\n",
       "      <td>0.059</td>\n",
       "      <td>0.099</td>\n",
       "      <td>0.158</td>\n",
       "      <td>0.138</td>\n",
       "    </tr>\n",
       "    <tr>\n",
       "      <th>113</th>\n",
       "      <td>0.027</td>\n",
       "      <td>-0.016</td>\n",
       "      <td>-0.009</td>\n",
       "      <td>-0.025</td>\n",
       "      <td>0.002</td>\n",
       "      <td>-0.025</td>\n",
       "      <td>0.035</td>\n",
       "      <td>0.156</td>\n",
       "      <td>-0.018</td>\n",
       "    </tr>\n",
       "    <tr>\n",
       "      <th>231</th>\n",
       "      <td>0.026</td>\n",
       "      <td>0.005</td>\n",
       "      <td>-0.001</td>\n",
       "      <td>0.010</td>\n",
       "      <td>0.024</td>\n",
       "      <td>0.010</td>\n",
       "      <td>-0.016</td>\n",
       "      <td>0.155</td>\n",
       "      <td>0.443</td>\n",
       "    </tr>\n",
       "    <tr>\n",
       "      <th>21</th>\n",
       "      <td>0.022</td>\n",
       "      <td>-0.025</td>\n",
       "      <td>-0.018</td>\n",
       "      <td>-0.062</td>\n",
       "      <td>-0.066</td>\n",
       "      <td>-0.092</td>\n",
       "      <td>-0.032</td>\n",
       "      <td>0.154</td>\n",
       "      <td>0.420</td>\n",
       "    </tr>\n",
       "    <tr>\n",
       "      <th>109</th>\n",
       "      <td>0.036</td>\n",
       "      <td>-0.019</td>\n",
       "      <td>-0.018</td>\n",
       "      <td>0.019</td>\n",
       "      <td>-0.004</td>\n",
       "      <td>-0.009</td>\n",
       "      <td>-0.010</td>\n",
       "      <td>0.154</td>\n",
       "      <td>-0.154</td>\n",
       "    </tr>\n",
       "  </tbody>\n",
       "</table>\n",
       "</div>"
      ],
      "text/plain": [
       "     delta_vector  next_5  next_min  next_5_min  next_10_min  next_30_min  \\\n",
       "148         0.055   0.136     0.252       0.366        0.242        0.338   \n",
       "268         0.066   0.060     0.063       0.253        0.272        0.444   \n",
       "129         0.042  -0.036    -0.032      -0.006       -0.014        0.148   \n",
       "118         0.258  -0.013     0.021       0.129        0.132       -0.026   \n",
       "257         0.164   0.027     0.070       0.002        0.014        0.056   \n",
       "130         0.012  -0.040    -0.020      -0.056       -0.026        0.013   \n",
       "274         0.082  -0.030    -0.062       0.020        0.008        0.181   \n",
       "222         0.021   0.006     0.016       0.020        0.028        0.082   \n",
       "136         0.064   0.012     0.003       0.002        0.060        0.035   \n",
       "82          0.028  -0.002     0.014       0.008        0.004        0.062   \n",
       "199         0.054  -0.010    -0.003      -0.025       -0.021       -0.019   \n",
       "62          0.028   0.001     0.042       0.016       -0.002        0.046   \n",
       "97          0.032  -0.017    -0.013      -0.025       -0.021       -0.029   \n",
       "275         0.104   0.092     0.025      -0.214       -0.056        0.100   \n",
       "218         0.028   0.060     0.070       0.094        0.107        0.128   \n",
       "262         0.074   0.020     0.062       0.064       -0.008        0.080   \n",
       "189         0.119   0.040     0.082       0.050        0.018        0.174   \n",
       "252         0.070  -0.026    -0.040       0.008       -0.012        0.044   \n",
       "54          0.013   0.001    -0.018      -0.003       -0.026        0.004   \n",
       "247         0.020   0.021    -0.030      -0.033       -0.029        0.051   \n",
       "25          0.073  -0.076    -0.068      -0.038        0.032        0.064   \n",
       "216         0.007   0.008     0.044       0.107        0.186        0.209   \n",
       "64          0.029  -0.013    -0.018      -0.016       -0.008       -0.005   \n",
       "135         0.006  -0.033    -0.027      -0.005        0.007        0.013   \n",
       "84          0.052  -0.012    -0.001       0.000        0.005       -0.008   \n",
       "38          0.028   0.024     0.001      -0.032       -0.028        0.069   \n",
       "196         0.044  -0.094    -0.134       0.072        0.030        0.194   \n",
       "215         0.046  -0.022     0.006       0.087        0.150        0.216   \n",
       "152         0.024   0.014     0.022       0.040        0.052        0.072   \n",
       "233         0.045   0.076     0.084       0.066        0.090       -0.034   \n",
       "237         0.060  -0.072    -0.066      -0.055       -0.035        0.002   \n",
       "221         0.026   0.022    -0.002      -0.084       -0.144       -0.078   \n",
       "160         0.061   0.047     0.069       0.047        0.003        0.033   \n",
       "229         0.034  -0.039    -0.037      -0.036       -0.015       -0.028   \n",
       "197         0.018   0.008     0.014       0.009        0.019        0.020   \n",
       "220         0.029   0.008     0.001       0.012        0.026        0.059   \n",
       "113         0.027  -0.016    -0.009      -0.025        0.002       -0.025   \n",
       "231         0.026   0.005    -0.001       0.010        0.024        0.010   \n",
       "21          0.022  -0.025    -0.018      -0.062       -0.066       -0.092   \n",
       "109         0.036  -0.019    -0.018       0.019       -0.004       -0.009   \n",
       "\n",
       "     next_60_min  next_240_min  next_480_min  \n",
       "148        0.479         0.761         0.669  \n",
       "268        0.444         0.624         0.830  \n",
       "129        0.114         0.589         0.607  \n",
       "118        0.126         0.571         0.649  \n",
       "257        0.008         0.562         0.590  \n",
       "130        0.094         0.510         0.564  \n",
       "274        0.210         0.483         0.041  \n",
       "222        0.074         0.463         0.398  \n",
       "136        0.128         0.415         0.294  \n",
       "82         0.057         0.384         0.300  \n",
       "199        0.100         0.338        -0.224  \n",
       "62         0.030         0.333         0.308  \n",
       "97         0.107         0.331        -0.145  \n",
       "275        0.386         0.316         0.070  \n",
       "218        0.109         0.294         0.204  \n",
       "262        0.182         0.282         0.507  \n",
       "189        0.264         0.278         0.259  \n",
       "252        0.131         0.260         0.265  \n",
       "54         0.020         0.250         0.534  \n",
       "247        0.081         0.239         0.328  \n",
       "25         0.092         0.234         0.138  \n",
       "216        0.301         0.231         0.415  \n",
       "64        -0.024         0.230         0.152  \n",
       "135        0.065         0.213         0.308  \n",
       "84         0.119         0.209         0.120  \n",
       "38         0.153         0.208         0.196  \n",
       "196        0.146         0.201         0.197  \n",
       "215        0.092         0.201         0.076  \n",
       "152        0.086         0.196         0.200  \n",
       "233       -0.004         0.196         0.221  \n",
       "237        0.005         0.190         0.481  \n",
       "221       -0.043         0.177        -0.066  \n",
       "160        0.161         0.175         0.245  \n",
       "229        0.044         0.164        -0.002  \n",
       "197       -0.015         0.159         0.043  \n",
       "220        0.099         0.158         0.138  \n",
       "113        0.035         0.156        -0.018  \n",
       "231       -0.016         0.155         0.443  \n",
       "21        -0.032         0.154         0.420  \n",
       "109       -0.010         0.154        -0.154  "
      ]
     },
     "execution_count": 214,
     "metadata": {},
     "output_type": "execute_result"
    }
   ],
   "source": [
    "pos.sort_values(by = 'next_240_min',ascending = False).head(40)"
   ]
  },
  {
   "cell_type": "code",
   "execution_count": null,
   "metadata": {},
   "outputs": [],
   "source": []
  },
  {
   "cell_type": "code",
   "execution_count": null,
   "metadata": {},
   "outputs": [],
   "source": []
  },
  {
   "cell_type": "code",
   "execution_count": null,
   "metadata": {},
   "outputs": [],
   "source": []
  },
  {
   "cell_type": "code",
   "execution_count": null,
   "metadata": {},
   "outputs": [],
   "source": []
  },
  {
   "cell_type": "code",
   "execution_count": null,
   "metadata": {},
   "outputs": [],
   "source": []
  },
  {
   "cell_type": "code",
   "execution_count": null,
   "metadata": {},
   "outputs": [],
   "source": []
  },
  {
   "cell_type": "code",
   "execution_count": null,
   "metadata": {},
   "outputs": [],
   "source": []
  },
  {
   "cell_type": "code",
   "execution_count": null,
   "metadata": {},
   "outputs": [],
   "source": []
  },
  {
   "cell_type": "code",
   "execution_count": null,
   "metadata": {},
   "outputs": [],
   "source": []
  },
  {
   "cell_type": "code",
   "execution_count": 198,
   "metadata": {},
   "outputs": [
    {
     "name": "stdout",
     "output_type": "stream",
     "text": [
      "31\n"
     ]
    }
   ],
   "source": [
    "\n",
    "col_name = 'delta_max_spike_trigger'\n",
    "arr = df.values \n",
    "o = df.columns.get_loc('o')\n",
    "c = df.columns.get_loc('c')\n",
    "dv = df.columns.get_loc('delta_vector')\n",
    "lst = []\n",
    "cols = ['delta_vector',\n",
    "        'next_5',\n",
    "        'next_min',\n",
    "        'next_5_min',\n",
    "        'next_10_min',\n",
    "        'next_30_min',\n",
    "        'next_60_min',\n",
    "        'next_240_min'\n",
    "\n",
    "       ]\n",
    "col = df.columns.get_loc(col_name)\n",
    "print(col)\n",
    "for i in range(arr.shape[0]):\n",
    "    if arr[i,col] == 1:\n",
    "        minute = int(60 / 5)\n",
    "        next_5 = arr[i + 6,c] - arr[i + 1,o]\n",
    "        next_min = arr[i + minute,c] - arr[i + 1,o]\n",
    "        next_5_min = arr[i + (minute * 5),c] - arr[i + 1,o]\n",
    "        next_10_min = arr[i + (minute * 10),c] - arr[i + 1,o]\n",
    "        next_30_min = arr[i + (minute * 30),c] - arr[i + 1,o]\n",
    "        next_60_min = arr[i + (minute * 60),c] - arr[i + 1,o]\n",
    "        next_240_min = arr[i + (minute * 240),c] - arr[i + 1,o]\n",
    "        lst.append([arr[i,dv],\n",
    "                    next_5,\n",
    "                    next_min,\n",
    "                    next_5_min,\n",
    "                    next_10_min,\n",
    "                    next_30_min,\n",
    "                    next_60_min,\n",
    "                    next_240_min\n",
    "                   ]\n",
    "\n",
    "                    )\n",
    "        \n",
    "        \n",
    "        "
   ]
  },
  {
   "cell_type": "code",
   "execution_count": 194,
   "metadata": {},
   "outputs": [
    {
     "data": {
      "text/plain": [
       "12.0"
      ]
     },
     "execution_count": 194,
     "metadata": {},
     "output_type": "execute_result"
    }
   ],
   "source": [
    "minute"
   ]
  },
  {
   "cell_type": "code",
   "execution_count": 195,
   "metadata": {},
   "outputs": [
    {
     "data": {
      "text/plain": [
       "5"
      ]
     },
     "execution_count": 195,
     "metadata": {},
     "output_type": "execute_result"
    }
   ],
   "source": [
    "c"
   ]
  },
  {
   "cell_type": "code",
   "execution_count": 196,
   "metadata": {},
   "outputs": [
    {
     "data": {
      "text/plain": [
       "2"
      ]
     },
     "execution_count": 196,
     "metadata": {},
     "output_type": "execute_result"
    }
   ],
   "source": [
    "o"
   ]
  },
  {
   "cell_type": "code",
   "execution_count": 197,
   "metadata": {},
   "outputs": [
    {
     "data": {
      "text/plain": [
       "19847.0"
      ]
     },
     "execution_count": 197,
     "metadata": {},
     "output_type": "execute_result"
    }
   ],
   "source": [
    "i + minute"
   ]
  },
  {
   "cell_type": "code",
   "execution_count": null,
   "metadata": {},
   "outputs": [],
   "source": []
  },
  {
   "cell_type": "code",
   "execution_count": null,
   "metadata": {},
   "outputs": [],
   "source": []
  },
  {
   "cell_type": "code",
   "execution_count": 179,
   "metadata": {},
   "outputs": [
    {
     "data": {
      "text/plain": [
       "(279, 32)"
      ]
     },
     "execution_count": 179,
     "metadata": {},
     "output_type": "execute_result"
    }
   ],
   "source": [
    "col = 'delta_max_spike_trigger'\n",
    "df[df[col] == 1].shape"
   ]
  },
  {
   "cell_type": "code",
   "execution_count": 181,
   "metadata": {},
   "outputs": [
    {
     "data": {
      "text/plain": [
       "360.0"
      ]
     },
     "execution_count": 181,
     "metadata": {},
     "output_type": "execute_result"
    }
   ],
   "source": [
    "(60 / 5) * 30"
   ]
  },
  {
   "cell_type": "code",
   "execution_count": 183,
   "metadata": {},
   "outputs": [
    {
     "data": {
      "text/plain": [
       "60.0"
      ]
     },
     "execution_count": 183,
     "metadata": {},
     "output_type": "execute_result"
    }
   ],
   "source": [
    "uno = (60 / 5)\n",
    "uno * 5"
   ]
  },
  {
   "cell_type": "code",
   "execution_count": null,
   "metadata": {},
   "outputs": [],
   "source": []
  },
  {
   "cell_type": "code",
   "execution_count": null,
   "metadata": {},
   "outputs": [],
   "source": []
  },
  {
   "cell_type": "code",
   "execution_count": null,
   "metadata": {},
   "outputs": [],
   "source": []
  },
  {
   "cell_type": "code",
   "execution_count": null,
   "metadata": {},
   "outputs": [],
   "source": []
  },
  {
   "cell_type": "code",
   "execution_count": null,
   "metadata": {},
   "outputs": [],
   "source": []
  },
  {
   "cell_type": "code",
   "execution_count": null,
   "metadata": {},
   "outputs": [],
   "source": []
  },
  {
   "cell_type": "code",
   "execution_count": null,
   "metadata": {},
   "outputs": [],
   "source": []
  },
  {
   "cell_type": "code",
   "execution_count": null,
   "metadata": {},
   "outputs": [],
   "source": []
  },
  {
   "cell_type": "code",
   "execution_count": null,
   "metadata": {},
   "outputs": [],
   "source": []
  },
  {
   "cell_type": "code",
   "execution_count": null,
   "metadata": {},
   "outputs": [],
   "source": []
  },
  {
   "cell_type": "code",
   "execution_count": null,
   "metadata": {},
   "outputs": [],
   "source": []
  },
  {
   "cell_type": "code",
   "execution_count": null,
   "metadata": {},
   "outputs": [],
   "source": []
  },
  {
   "cell_type": "code",
   "execution_count": null,
   "metadata": {},
   "outputs": [],
   "source": []
  },
  {
   "cell_type": "code",
   "execution_count": null,
   "metadata": {},
   "outputs": [],
   "source": []
  },
  {
   "cell_type": "code",
   "execution_count": null,
   "metadata": {},
   "outputs": [],
   "source": []
  },
  {
   "cell_type": "markdown",
   "metadata": {},
   "source": [
    "# XAU USD"
   ]
  },
  {
   "cell_type": "code",
   "execution_count": null,
   "metadata": {},
   "outputs": [],
   "source": [
    "def print_example(df,ind_list,ind = 30,delta = 240):\n",
    "    i = ind_list[ind]   \n",
    "    print('row loc:',i,' ind:',ind)\n",
    "    fig = go.Figure(data=go.Ohlc(x=df.iloc[i - delta:i + (delta * 2),:]['time'],\n",
    "                        open=df.iloc[i - delta:i + (delta * 2),:]['o'],\n",
    "                        high=df.iloc[i - delta:i + (delta * 2),:]['h'],\n",
    "                        low=df.iloc[i - delta:i + (delta * 2),:]['l'],\n",
    "                        close=df.iloc[i - delta:i + (delta * 2),:]['c']))\n",
    "\n",
    "    fig.add_vrect(x0=df['time'].iloc[i - 1], x1=df['time'].iloc[i+1], \n",
    "                  annotation_text=\"trigger point\" , annotation_position=\"top left\",\n",
    "                  fillcolor=\"green\", opacity=0.25, line_width=0)\n",
    "    \n",
    "\n",
    "\n",
    "    print(fig.show())\n",
    "\n",
    "ind_list = list(df[df['delta_max_spike_trigger'] == 1].index)\n",
    "i = 0\n",
    "print_example(df,ind_list,ind = i,delta = 240)\n",
    "i += 1\n",
    "\n"
   ]
  },
  {
   "cell_type": "code",
   "execution_count": null,
   "metadata": {},
   "outputs": [],
   "source": [
    "print_example(df,ind_list,ind = i,delta = 240)\n",
    "i += 1"
   ]
  },
  {
   "cell_type": "code",
   "execution_count": null,
   "metadata": {},
   "outputs": [],
   "source": [
    "print_example(df,ind_list,ind = i,delta = 240)\n",
    "i += 1"
   ]
  },
  {
   "cell_type": "code",
   "execution_count": null,
   "metadata": {},
   "outputs": [],
   "source": [
    "print_example(df,ind_list,ind = i,delta = 240)\n",
    "i += 1"
   ]
  },
  {
   "cell_type": "code",
   "execution_count": null,
   "metadata": {},
   "outputs": [],
   "source": [
    "print_example(df,ind_list,ind = i,delta = 240)\n",
    "i += 1"
   ]
  },
  {
   "cell_type": "code",
   "execution_count": null,
   "metadata": {},
   "outputs": [],
   "source": [
    "print_example(df,ind_list,ind = i,delta = 240)\n",
    "i += 1"
   ]
  },
  {
   "cell_type": "code",
   "execution_count": null,
   "metadata": {},
   "outputs": [],
   "source": [
    "print_example(df,ind_list,ind = i,delta = 240)\n",
    "i += 1"
   ]
  },
  {
   "cell_type": "code",
   "execution_count": null,
   "metadata": {},
   "outputs": [],
   "source": [
    "print_example(df,ind_list,ind = i,delta = 240)\n",
    "i += 1"
   ]
  },
  {
   "cell_type": "code",
   "execution_count": null,
   "metadata": {},
   "outputs": [],
   "source": [
    "print_example(df,ind_list,ind = i,delta = 240)\n",
    "i += 1"
   ]
  },
  {
   "cell_type": "code",
   "execution_count": null,
   "metadata": {},
   "outputs": [],
   "source": [
    "print_example(df,ind_list,ind = i,delta = 240)\n",
    "i += 1"
   ]
  },
  {
   "cell_type": "code",
   "execution_count": null,
   "metadata": {},
   "outputs": [],
   "source": [
    "print_example(df,ind_list,ind = i,delta = 240)\n",
    "i += 1"
   ]
  },
  {
   "cell_type": "code",
   "execution_count": null,
   "metadata": {},
   "outputs": [],
   "source": [
    "print_example(df,ind_list,ind = i,delta = 240)\n",
    "i += 1"
   ]
  },
  {
   "cell_type": "code",
   "execution_count": null,
   "metadata": {},
   "outputs": [],
   "source": [
    "print_example(df,ind_list,ind = i,delta = 240)\n",
    "i += 1\n"
   ]
  },
  {
   "cell_type": "code",
   "execution_count": null,
   "metadata": {},
   "outputs": [],
   "source": [
    "print_example(df,ind_list,ind = i,delta = 240)\n",
    "i += 1"
   ]
  },
  {
   "cell_type": "code",
   "execution_count": null,
   "metadata": {},
   "outputs": [],
   "source": [
    "print_example(df,ind_list,ind = i,delta = 240)\n",
    "i += 1"
   ]
  },
  {
   "cell_type": "code",
   "execution_count": null,
   "metadata": {},
   "outputs": [],
   "source": [
    "print_example(df,ind_list,ind = i,delta = 240)\n",
    "i += 1"
   ]
  },
  {
   "cell_type": "code",
   "execution_count": null,
   "metadata": {},
   "outputs": [],
   "source": [
    "print_example(df,ind_list,ind = i,delta = 240)\n",
    "i += 1"
   ]
  },
  {
   "cell_type": "code",
   "execution_count": null,
   "metadata": {},
   "outputs": [],
   "source": [
    "print_example(df,ind_list,ind = i,delta = 240)\n",
    "i += 1"
   ]
  },
  {
   "cell_type": "code",
   "execution_count": null,
   "metadata": {},
   "outputs": [],
   "source": [
    "print_example(df,ind_list,ind = i,delta = 240)\n",
    "i += 1"
   ]
  },
  {
   "cell_type": "code",
   "execution_count": null,
   "metadata": {},
   "outputs": [],
   "source": [
    "print_example(df,ind_list,ind = i,delta = 240)\n",
    "i += 1"
   ]
  },
  {
   "cell_type": "code",
   "execution_count": null,
   "metadata": {},
   "outputs": [],
   "source": [
    "print_example(df,ind_list,ind = i,delta = 240)\n",
    "i += 1"
   ]
  },
  {
   "cell_type": "code",
   "execution_count": null,
   "metadata": {},
   "outputs": [],
   "source": [
    "print_example(df,ind_list,ind = i,delta = 240)\n",
    "i += 1"
   ]
  },
  {
   "cell_type": "code",
   "execution_count": null,
   "metadata": {},
   "outputs": [],
   "source": [
    "print_example(df,ind_list,ind = i,delta = 240)\n",
    "i += 1"
   ]
  },
  {
   "cell_type": "code",
   "execution_count": null,
   "metadata": {},
   "outputs": [],
   "source": [
    "print_example(df,ind_list,ind = i,delta = 240)\n",
    "i += 1"
   ]
  },
  {
   "cell_type": "code",
   "execution_count": null,
   "metadata": {},
   "outputs": [],
   "source": [
    "print_example(df,ind_list,ind = i,delta = 240)\n",
    "i += 1"
   ]
  },
  {
   "cell_type": "code",
   "execution_count": null,
   "metadata": {},
   "outputs": [],
   "source": [
    "print_example(df,ind_list,ind = i,delta = 240)\n",
    "i += 1"
   ]
  },
  {
   "cell_type": "code",
   "execution_count": null,
   "metadata": {},
   "outputs": [],
   "source": [
    "print_example(df,ind_list,ind = i,delta = 240)\n",
    "i += 1"
   ]
  },
  {
   "cell_type": "code",
   "execution_count": null,
   "metadata": {},
   "outputs": [],
   "source": [
    "print_example(df,ind_list,ind = i,delta = 240)\n",
    "i += 1"
   ]
  },
  {
   "cell_type": "code",
   "execution_count": null,
   "metadata": {},
   "outputs": [],
   "source": [
    "print_example(df,ind_list,ind = i,delta = 240)\n",
    "i += 1"
   ]
  },
  {
   "cell_type": "code",
   "execution_count": null,
   "metadata": {},
   "outputs": [],
   "source": [
    "print_example(df,ind_list,ind = i,delta = 240)\n",
    "i += 1"
   ]
  },
  {
   "cell_type": "code",
   "execution_count": null,
   "metadata": {},
   "outputs": [],
   "source": [
    "print_example(df,ind_list,ind = i,delta = 240)\n",
    "i += 1"
   ]
  },
  {
   "cell_type": "code",
   "execution_count": null,
   "metadata": {},
   "outputs": [],
   "source": [
    "print_example(df,ind_list,ind = i,delta = 240)\n",
    "i += 1"
   ]
  },
  {
   "cell_type": "code",
   "execution_count": null,
   "metadata": {},
   "outputs": [],
   "source": [
    "print_example(df,ind_list,ind = i,delta = 240)\n",
    "i += 1"
   ]
  },
  {
   "cell_type": "code",
   "execution_count": null,
   "metadata": {},
   "outputs": [],
   "source": [
    "print_example(df,ind_list,ind = i,delta = 240)\n",
    "i += 1"
   ]
  },
  {
   "cell_type": "code",
   "execution_count": null,
   "metadata": {},
   "outputs": [],
   "source": [
    "print_example(df,ind_list,ind = i,delta = 240)\n",
    "i += 1"
   ]
  },
  {
   "cell_type": "code",
   "execution_count": null,
   "metadata": {},
   "outputs": [],
   "source": [
    "print_example(df,ind_list,ind = i,delta = 240)\n",
    "i += 1"
   ]
  },
  {
   "cell_type": "code",
   "execution_count": null,
   "metadata": {},
   "outputs": [],
   "source": [
    "print_example(df,ind_list,ind = i,delta = 240)\n",
    "i += 1"
   ]
  },
  {
   "cell_type": "code",
   "execution_count": null,
   "metadata": {},
   "outputs": [],
   "source": [
    "print_example(df,ind_list,ind = i,delta = 240)\n",
    "i += 1"
   ]
  },
  {
   "cell_type": "code",
   "execution_count": null,
   "metadata": {},
   "outputs": [],
   "source": [
    "print_example(df,ind_list,ind = i,delta = 240)\n",
    "i += 1"
   ]
  },
  {
   "cell_type": "code",
   "execution_count": null,
   "metadata": {},
   "outputs": [],
   "source": [
    "print_example(df,ind_list,ind = i,delta = 240)\n",
    "i += 1"
   ]
  },
  {
   "cell_type": "code",
   "execution_count": null,
   "metadata": {},
   "outputs": [],
   "source": [
    "print_example(df,ind_list,ind = i,delta = 240)\n",
    "i += 1"
   ]
  },
  {
   "cell_type": "code",
   "execution_count": null,
   "metadata": {},
   "outputs": [],
   "source": [
    "print_example(df,ind_list,ind = i,delta = 240)\n",
    "i += 1"
   ]
  },
  {
   "cell_type": "code",
   "execution_count": null,
   "metadata": {},
   "outputs": [],
   "source": [
    "print_example(df,ind_list,ind = i,delta = 240)\n",
    "i += 1"
   ]
  },
  {
   "cell_type": "code",
   "execution_count": null,
   "metadata": {},
   "outputs": [],
   "source": [
    "print_example(df,ind_list,ind = i,delta = 240)\n",
    "i += 1"
   ]
  },
  {
   "cell_type": "code",
   "execution_count": null,
   "metadata": {},
   "outputs": [],
   "source": [
    "print_example(df,ind_list,ind = i,delta = 240)\n",
    "i += 1"
   ]
  },
  {
   "cell_type": "code",
   "execution_count": null,
   "metadata": {},
   "outputs": [],
   "source": [
    "print_example(df,ind_list,ind = i,delta = 240)\n",
    "i += 1"
   ]
  },
  {
   "cell_type": "code",
   "execution_count": null,
   "metadata": {},
   "outputs": [],
   "source": [
    "print_example(df,ind_list,ind = i,delta = 240)\n",
    "i += 1"
   ]
  },
  {
   "cell_type": "code",
   "execution_count": null,
   "metadata": {},
   "outputs": [],
   "source": [
    "print_example(df,ind_list,ind = i,delta = 240)\n",
    "i += 1"
   ]
  },
  {
   "cell_type": "code",
   "execution_count": null,
   "metadata": {},
   "outputs": [],
   "source": []
  },
  {
   "cell_type": "code",
   "execution_count": null,
   "metadata": {},
   "outputs": [],
   "source": [
    "df.head()"
   ]
  },
  {
   "cell_type": "code",
   "execution_count": null,
   "metadata": {},
   "outputs": [],
   "source": [
    "\n",
    "from datetime import datetime, date, timedelta\n",
    "import time \n",
    "def consecutive_candles(df):\n",
    "    print('getting consecutive candles...')\n",
    "    s = time.time()\n",
    "    df['consecutive_candles'] = 1\n",
    "    col = 'delta_vector'\n",
    "    col_loc = df.columns.get_loc('delta_vector')\n",
    "    arr = df.values \n",
    "    \n",
    "    for i in range(arr.shape[0]):\n",
    "        tester = True\n",
    "        starting_val = arr[i - 1,col_loc]\n",
    "        if starting_val >= 0:\n",
    "            pos = True\n",
    "        else:\n",
    "            pos = False\n",
    "        counter = 1\n",
    "        while tester:\n",
    "            val = arr[i - 1 - counter,col_loc]\n",
    "            if val >= 0:\n",
    "                pos2 = True\n",
    "            else:\n",
    "                pos2 = False     \n",
    "            \n",
    "            if pos == pos2:\n",
    "                counter += 1\n",
    "            else:\n",
    "                tester = False\n",
    "        arr[i,-1] = counter\n",
    "    e = time.time()\n",
    "    print('TOTAL TIME:',(e - s)/60,' MINUTES')\n",
    "    return pd.DataFrame(arr,columns = df.columns)\n",
    "            \n",
    "            \n",
    "test = consecutive_candles(df)\n",
    "print(test.shape)\n",
    "test.head()"
   ]
  },
  {
   "cell_type": "code",
   "execution_count": null,
   "metadata": {},
   "outputs": [],
   "source": []
  },
  {
   "cell_type": "code",
   "execution_count": null,
   "metadata": {},
   "outputs": [],
   "source": []
  },
  {
   "cell_type": "code",
   "execution_count": null,
   "metadata": {},
   "outputs": [],
   "source": [
    "test.consecutive_candles.max()"
   ]
  },
  {
   "cell_type": "code",
   "execution_count": null,
   "metadata": {},
   "outputs": [],
   "source": []
  },
  {
   "cell_type": "code",
   "execution_count": null,
   "metadata": {},
   "outputs": [],
   "source": [
    "test.iloc[20:30,:]"
   ]
  },
  {
   "cell_type": "code",
   "execution_count": null,
   "metadata": {},
   "outputs": [],
   "source": []
  },
  {
   "cell_type": "markdown",
   "metadata": {},
   "source": [
    "# USD JPY"
   ]
  },
  {
   "cell_type": "code",
   "execution_count": null,
   "metadata": {},
   "outputs": [],
   "source": [
    "def print_example(df,ind_list,ind = 30,delta = 240):\n",
    "    i = ind_list[ind]   \n",
    "    print('row loc:',i,' ind:',ind)\n",
    "    fig = go.Figure(data=go.Ohlc(x=df.iloc[i - delta:i + (delta * 2),:]['time'],\n",
    "                        open=df.iloc[i - delta:i + (delta * 2),:]['o'],\n",
    "                        high=df.iloc[i - delta:i + (delta * 2),:]['h'],\n",
    "                        low=df.iloc[i - delta:i + (delta * 2),:]['l'],\n",
    "                        close=df.iloc[i - delta:i + (delta * 2),:]['c']))\n",
    "\n",
    "    fig.add_vrect(x0=df['time'].iloc[i - 1], x1=df['time'].iloc[i+1], \n",
    "                  annotation_text=\"trigger point\" , annotation_position=\"top left\",\n",
    "                  fillcolor=\"green\", opacity=0.25, line_width=0)\n",
    "    \n",
    "\n",
    "\n",
    "    print(fig.show())\n",
    "\n",
    "ind_list = list(df[df['delta_max_spike_trigger'] == 1].index)\n",
    "i = 0\n",
    "print_example(df,ind_list,ind = i,delta = 240)\n",
    "i += 1"
   ]
  },
  {
   "cell_type": "code",
   "execution_count": null,
   "metadata": {},
   "outputs": [],
   "source": [
    "print_example(df,ind_list,ind = i,delta = 240)\n",
    "i += 1"
   ]
  },
  {
   "cell_type": "code",
   "execution_count": null,
   "metadata": {},
   "outputs": [],
   "source": [
    "print_example(df,ind_list,ind = i,delta = 240)\n",
    "i += 1"
   ]
  },
  {
   "cell_type": "code",
   "execution_count": null,
   "metadata": {},
   "outputs": [],
   "source": [
    "print_example(df,ind_list,ind = i,delta = 240)\n",
    "i += 1"
   ]
  },
  {
   "cell_type": "code",
   "execution_count": null,
   "metadata": {},
   "outputs": [],
   "source": [
    "i = 30\n",
    "print_example(df,ind_list,ind = i,delta = 240)\n",
    "i += 1"
   ]
  },
  {
   "cell_type": "code",
   "execution_count": null,
   "metadata": {},
   "outputs": [],
   "source": [
    "print_example(df,ind_list,ind = i,delta = 400)\n",
    "i += 1"
   ]
  },
  {
   "cell_type": "code",
   "execution_count": null,
   "metadata": {},
   "outputs": [],
   "source": [
    "print_example(df,ind_list,ind = i,delta = 240)\n",
    "i += 1"
   ]
  },
  {
   "cell_type": "code",
   "execution_count": null,
   "metadata": {},
   "outputs": [],
   "source": [
    "print_example(df,ind_list,ind = i,delta = 240)\n",
    "i += 1"
   ]
  },
  {
   "cell_type": "code",
   "execution_count": null,
   "metadata": {},
   "outputs": [],
   "source": [
    "print_example(df,ind_list,ind = i,delta = 240)\n",
    "i += 1"
   ]
  },
  {
   "cell_type": "code",
   "execution_count": null,
   "metadata": {},
   "outputs": [],
   "source": [
    "print_example(df,ind_list,ind = i,delta = 240)\n",
    "i += 1"
   ]
  },
  {
   "cell_type": "code",
   "execution_count": null,
   "metadata": {},
   "outputs": [],
   "source": [
    "print_example(df,ind_list,ind = i,delta = 240)\n",
    "i += 1"
   ]
  },
  {
   "cell_type": "code",
   "execution_count": null,
   "metadata": {},
   "outputs": [],
   "source": []
  },
  {
   "cell_type": "code",
   "execution_count": null,
   "metadata": {},
   "outputs": [],
   "source": []
  },
  {
   "cell_type": "code",
   "execution_count": null,
   "metadata": {},
   "outputs": [],
   "source": []
  },
  {
   "cell_type": "code",
   "execution_count": null,
   "metadata": {},
   "outputs": [],
   "source": []
  },
  {
   "cell_type": "code",
   "execution_count": null,
   "metadata": {},
   "outputs": [],
   "source": []
  },
  {
   "cell_type": "code",
   "execution_count": null,
   "metadata": {},
   "outputs": [],
   "source": []
  },
  {
   "cell_type": "code",
   "execution_count": null,
   "metadata": {},
   "outputs": [],
   "source": []
  },
  {
   "cell_type": "code",
   "execution_count": null,
   "metadata": {},
   "outputs": [],
   "source": []
  },
  {
   "cell_type": "markdown",
   "metadata": {},
   "source": [
    "# GBP JPY"
   ]
  },
  {
   "cell_type": "code",
   "execution_count": null,
   "metadata": {},
   "outputs": [],
   "source": [
    "ind_list = list(df[df['delta_max_spike_trigger'] == 1].index)\n",
    "i = 0\n",
    "print_example(df,ind_list,ind = i,delta = 240)\n",
    "i += 1"
   ]
  },
  {
   "cell_type": "code",
   "execution_count": null,
   "metadata": {},
   "outputs": [],
   "source": [
    "print_example(df,ind_list,ind = i,delta = 240)\n",
    "i += 1"
   ]
  },
  {
   "cell_type": "code",
   "execution_count": null,
   "metadata": {},
   "outputs": [],
   "source": [
    "print_example(df,ind_list,ind = i,delta = 240)\n",
    "i += 1"
   ]
  },
  {
   "cell_type": "code",
   "execution_count": null,
   "metadata": {},
   "outputs": [],
   "source": [
    "print_example(df,ind_list,ind = i,delta = 240)\n",
    "i += 1"
   ]
  },
  {
   "cell_type": "code",
   "execution_count": null,
   "metadata": {},
   "outputs": [],
   "source": [
    "print_example(df,ind_list,ind = i,delta = 240)\n",
    "i += 1"
   ]
  },
  {
   "cell_type": "code",
   "execution_count": null,
   "metadata": {},
   "outputs": [],
   "source": [
    "print_example(df,ind_list,ind = i,delta = 240)\n",
    "i += 1"
   ]
  },
  {
   "cell_type": "code",
   "execution_count": null,
   "metadata": {},
   "outputs": [],
   "source": [
    "print_example(df,ind_list,ind = i,delta = 240)\n",
    "i += 1"
   ]
  },
  {
   "cell_type": "code",
   "execution_count": null,
   "metadata": {},
   "outputs": [],
   "source": [
    "print_example(df,ind_list,ind = i,delta = 240)\n",
    "i += 1"
   ]
  },
  {
   "cell_type": "code",
   "execution_count": null,
   "metadata": {},
   "outputs": [],
   "source": [
    "print_example(df,ind_list,ind = i,delta = 240)\n",
    "i += 1"
   ]
  },
  {
   "cell_type": "code",
   "execution_count": null,
   "metadata": {},
   "outputs": [],
   "source": [
    "print_example(df,ind_list,ind = i,delta = 240)\n",
    "i += 1"
   ]
  },
  {
   "cell_type": "code",
   "execution_count": null,
   "metadata": {},
   "outputs": [],
   "source": [
    "print_example(df,ind_list,ind = i,delta = 240)\n",
    "i += 1"
   ]
  },
  {
   "cell_type": "code",
   "execution_count": null,
   "metadata": {},
   "outputs": [],
   "source": [
    "print_example(df,ind_list,ind = i,delta = 240)\n",
    "i += 1"
   ]
  },
  {
   "cell_type": "code",
   "execution_count": null,
   "metadata": {},
   "outputs": [],
   "source": [
    "print_example(df,ind_list,ind = i,delta = 240)\n",
    "i += 1"
   ]
  },
  {
   "cell_type": "code",
   "execution_count": null,
   "metadata": {},
   "outputs": [],
   "source": [
    "print_example(df,ind_list,ind = i,delta = 240)\n",
    "i += 1"
   ]
  },
  {
   "cell_type": "code",
   "execution_count": null,
   "metadata": {},
   "outputs": [],
   "source": [
    "print_example(df,ind_list,ind = i,delta = 240)\n",
    "i += 1"
   ]
  },
  {
   "cell_type": "code",
   "execution_count": null,
   "metadata": {},
   "outputs": [],
   "source": [
    "print_example(df,ind_list,ind = i,delta = 240)\n",
    "i += 1"
   ]
  },
  {
   "cell_type": "code",
   "execution_count": null,
   "metadata": {},
   "outputs": [],
   "source": [
    "print_example(df,ind_list,ind = i,delta = 240)\n",
    "i += 1"
   ]
  },
  {
   "cell_type": "code",
   "execution_count": null,
   "metadata": {},
   "outputs": [],
   "source": [
    "print_example(df,ind_list,ind = i,delta = 240)\n",
    "i += 1"
   ]
  },
  {
   "cell_type": "code",
   "execution_count": null,
   "metadata": {},
   "outputs": [],
   "source": [
    "print_example(df,ind_list,ind = i,delta = 240)\n",
    "i += 1"
   ]
  },
  {
   "cell_type": "code",
   "execution_count": null,
   "metadata": {},
   "outputs": [],
   "source": [
    "print_example(df,ind_list,ind = i,delta = 240)\n",
    "i += 1"
   ]
  },
  {
   "cell_type": "code",
   "execution_count": null,
   "metadata": {},
   "outputs": [],
   "source": []
  },
  {
   "cell_type": "code",
   "execution_count": null,
   "metadata": {},
   "outputs": [],
   "source": [
    "print_example(df,ind_list,ind = i,delta = 240)\n",
    "i += 1"
   ]
  },
  {
   "cell_type": "code",
   "execution_count": null,
   "metadata": {},
   "outputs": [],
   "source": [
    "print_example(df,ind_list,ind = i,delta = 240)\n",
    "i += 1"
   ]
  },
  {
   "cell_type": "code",
   "execution_count": null,
   "metadata": {},
   "outputs": [],
   "source": [
    "print_example(df,ind_list,ind = i,delta = 240)\n",
    "i += 1"
   ]
  },
  {
   "cell_type": "code",
   "execution_count": null,
   "metadata": {},
   "outputs": [],
   "source": [
    "print_example(df,ind_list,ind = i,delta = 240)\n",
    "i += 1"
   ]
  },
  {
   "cell_type": "code",
   "execution_count": null,
   "metadata": {},
   "outputs": [],
   "source": [
    "print_example(df,ind_list,ind = i,delta = 240)\n",
    "i += 1"
   ]
  },
  {
   "cell_type": "code",
   "execution_count": null,
   "metadata": {},
   "outputs": [],
   "source": [
    "print_example(df,ind_list,ind = i,delta = 240)\n",
    "i += 1"
   ]
  },
  {
   "cell_type": "code",
   "execution_count": null,
   "metadata": {},
   "outputs": [],
   "source": [
    "print_example(df,ind_list,ind = i,delta = 240)\n",
    "i += 1"
   ]
  },
  {
   "cell_type": "code",
   "execution_count": null,
   "metadata": {},
   "outputs": [],
   "source": [
    "print_example(df,ind_list,ind = i,delta = 240)\n",
    "i += 1"
   ]
  },
  {
   "cell_type": "code",
   "execution_count": null,
   "metadata": {},
   "outputs": [],
   "source": [
    "print_example(df,ind_list,ind = i,delta = 240)\n",
    "i += 1"
   ]
  },
  {
   "cell_type": "code",
   "execution_count": null,
   "metadata": {},
   "outputs": [],
   "source": [
    "print_example(df,ind_list,ind = i,delta = 240)\n",
    "i += 1"
   ]
  },
  {
   "cell_type": "code",
   "execution_count": null,
   "metadata": {},
   "outputs": [],
   "source": [
    "print_example(df,ind_list,ind = i,delta = 240)\n",
    "i += 1"
   ]
  },
  {
   "cell_type": "code",
   "execution_count": null,
   "metadata": {},
   "outputs": [],
   "source": [
    "print_example(df,ind_list,ind = i,delta = 240)\n",
    "i += 1"
   ]
  },
  {
   "cell_type": "code",
   "execution_count": null,
   "metadata": {},
   "outputs": [],
   "source": [
    "print_example(df,ind_list,ind = i,delta = 240)\n",
    "i += 1"
   ]
  },
  {
   "cell_type": "code",
   "execution_count": null,
   "metadata": {},
   "outputs": [],
   "source": [
    "print_example(df,ind_list,ind = i,delta = 240)\n",
    "i += 1"
   ]
  },
  {
   "cell_type": "code",
   "execution_count": null,
   "metadata": {},
   "outputs": [],
   "source": [
    "print_example(df,ind_list,ind = i,delta = 240)\n",
    "i += 1"
   ]
  },
  {
   "cell_type": "code",
   "execution_count": null,
   "metadata": {},
   "outputs": [],
   "source": [
    "print_example(df,ind_list,ind = i,delta = 240)\n",
    "i += 1"
   ]
  },
  {
   "cell_type": "code",
   "execution_count": null,
   "metadata": {},
   "outputs": [],
   "source": [
    "print_example(df,ind_list,ind = i,delta = 240)\n",
    "i += 1"
   ]
  },
  {
   "cell_type": "code",
   "execution_count": null,
   "metadata": {},
   "outputs": [],
   "source": [
    "print_example(df,ind_list,ind = i,delta = 240)\n",
    "i += 1"
   ]
  },
  {
   "cell_type": "code",
   "execution_count": null,
   "metadata": {},
   "outputs": [],
   "source": [
    "print_example(df,ind_list,ind = i,delta = 240)\n",
    "i += 1"
   ]
  },
  {
   "cell_type": "code",
   "execution_count": null,
   "metadata": {},
   "outputs": [],
   "source": [
    "print_example(df,ind_list,ind = i,delta = 240)\n",
    "i += 1"
   ]
  },
  {
   "cell_type": "code",
   "execution_count": null,
   "metadata": {},
   "outputs": [],
   "source": [
    "print_example(df,ind_list,ind = i,delta = 240)\n",
    "i += 1"
   ]
  },
  {
   "cell_type": "code",
   "execution_count": null,
   "metadata": {},
   "outputs": [],
   "source": [
    "print_example(df,ind_list,ind = i,delta = 240)\n",
    "i += 1"
   ]
  },
  {
   "cell_type": "code",
   "execution_count": null,
   "metadata": {},
   "outputs": [],
   "source": [
    "print_example(df,ind_list,ind = i,delta = 240)\n",
    "i += 1"
   ]
  },
  {
   "cell_type": "code",
   "execution_count": null,
   "metadata": {},
   "outputs": [],
   "source": [
    "print_example(df,ind_list,ind = i,delta = 240)\n",
    "i += 1"
   ]
  },
  {
   "cell_type": "code",
   "execution_count": null,
   "metadata": {},
   "outputs": [],
   "source": [
    "print_example(df,ind_list,ind = i,delta = 240)\n",
    "i += 1"
   ]
  },
  {
   "cell_type": "code",
   "execution_count": null,
   "metadata": {},
   "outputs": [],
   "source": [
    "print_example(df,ind_list,ind = i,delta = 240)\n",
    "i += 1"
   ]
  },
  {
   "cell_type": "code",
   "execution_count": null,
   "metadata": {},
   "outputs": [],
   "source": [
    "print_example(df,ind_list,ind = i,delta = 240)\n",
    "i += 1"
   ]
  },
  {
   "cell_type": "code",
   "execution_count": null,
   "metadata": {},
   "outputs": [],
   "source": [
    "print_example(df,ind_list,ind = i,delta = 240)\n",
    "i += 1"
   ]
  },
  {
   "cell_type": "code",
   "execution_count": null,
   "metadata": {},
   "outputs": [],
   "source": [
    "print_example(df,ind_list,ind = i,delta = 240)\n",
    "i += 1"
   ]
  },
  {
   "cell_type": "code",
   "execution_count": null,
   "metadata": {},
   "outputs": [],
   "source": [
    "print_example(df,ind_list,ind = i,delta = 240)\n",
    "i += 1"
   ]
  },
  {
   "cell_type": "code",
   "execution_count": null,
   "metadata": {},
   "outputs": [],
   "source": [
    "print_example(df,ind_list,ind = i,delta = 240)\n",
    "i += 1"
   ]
  },
  {
   "cell_type": "code",
   "execution_count": null,
   "metadata": {},
   "outputs": [],
   "source": [
    "print_example(df,ind_list,ind = i,delta = 240)\n",
    "i += 1"
   ]
  },
  {
   "cell_type": "code",
   "execution_count": null,
   "metadata": {},
   "outputs": [],
   "source": [
    "print_example(df,ind_list,ind = i,delta = 240)\n",
    "i += 1"
   ]
  },
  {
   "cell_type": "code",
   "execution_count": null,
   "metadata": {},
   "outputs": [],
   "source": [
    "print_example(df,ind_list,ind = i,delta = 240)\n",
    "i += 1"
   ]
  },
  {
   "cell_type": "code",
   "execution_count": null,
   "metadata": {},
   "outputs": [],
   "source": [
    "print_example(df,ind_list,ind = i,delta = 240)\n",
    "i += 1"
   ]
  },
  {
   "cell_type": "code",
   "execution_count": null,
   "metadata": {},
   "outputs": [],
   "source": [
    "print_example(df,ind_list,ind = i,delta = 240)\n",
    "i += 1"
   ]
  },
  {
   "cell_type": "code",
   "execution_count": null,
   "metadata": {},
   "outputs": [],
   "source": [
    "print_example(df,ind_list,ind = i,delta = 240)\n",
    "i += 1"
   ]
  },
  {
   "cell_type": "code",
   "execution_count": null,
   "metadata": {},
   "outputs": [],
   "source": [
    "print_example(df,ind_list,ind = i,delta = 240)\n",
    "i += 1"
   ]
  },
  {
   "cell_type": "code",
   "execution_count": null,
   "metadata": {},
   "outputs": [],
   "source": [
    "print_example(df,ind_list,ind = i,delta = 240)\n",
    "i += 1"
   ]
  },
  {
   "cell_type": "code",
   "execution_count": null,
   "metadata": {},
   "outputs": [],
   "source": [
    "print_example(df,ind_list,ind = i,delta = 240)\n",
    "i += 1"
   ]
  },
  {
   "cell_type": "code",
   "execution_count": null,
   "metadata": {},
   "outputs": [],
   "source": [
    "print_example(df,ind_list,ind = i,delta = 240)\n",
    "i += 1"
   ]
  },
  {
   "cell_type": "code",
   "execution_count": null,
   "metadata": {},
   "outputs": [],
   "source": [
    "print_example(df,ind_list,ind = i,delta = 240)\n",
    "i += 1"
   ]
  },
  {
   "cell_type": "code",
   "execution_count": null,
   "metadata": {},
   "outputs": [],
   "source": [
    "print_example(df,ind_list,ind = i,delta = 240)\n",
    "i += 1"
   ]
  },
  {
   "cell_type": "code",
   "execution_count": null,
   "metadata": {},
   "outputs": [],
   "source": [
    "print_example(df,ind_list,ind = i,delta = 240)\n",
    "i += 1"
   ]
  },
  {
   "cell_type": "code",
   "execution_count": null,
   "metadata": {},
   "outputs": [],
   "source": [
    "print_example(df,ind_list,ind = i,delta = 240)\n",
    "i += 1"
   ]
  },
  {
   "cell_type": "code",
   "execution_count": null,
   "metadata": {},
   "outputs": [],
   "source": [
    "print_example(df,ind_list,ind = i,delta = 240)\n",
    "i += 1"
   ]
  },
  {
   "cell_type": "code",
   "execution_count": null,
   "metadata": {},
   "outputs": [],
   "source": []
  },
  {
   "cell_type": "code",
   "execution_count": null,
   "metadata": {},
   "outputs": [],
   "source": []
  },
  {
   "cell_type": "code",
   "execution_count": null,
   "metadata": {},
   "outputs": [],
   "source": []
  }
 ],
 "metadata": {
  "kernelspec": {
   "display_name": "Python 3",
   "language": "python",
   "name": "python3"
  },
  "language_info": {
   "codemirror_mode": {
    "name": "ipython",
    "version": 3
   },
   "file_extension": ".py",
   "mimetype": "text/x-python",
   "name": "python",
   "nbconvert_exporter": "python",
   "pygments_lexer": "ipython3",
   "version": "3.8.5"
  }
 },
 "nbformat": 4,
 "nbformat_minor": 4
}
