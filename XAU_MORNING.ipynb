{
 "cells": [
  {
   "cell_type": "code",
   "execution_count": 4,
   "metadata": {},
   "outputs": [
    {
     "name": "stdout",
     "output_type": "stream",
     "text": [
      "PATH: /Users/aidanmcconnell/Documents/MARKET_ANALYTICS/forex/Macro/XAU_USD_H1/2016-01-01_2022-07-31.csv\n",
      "(39094, 15)\n",
      "(39094, 15)\n"
     ]
    },
    {
     "data": {
      "text/html": [
       "<div>\n",
       "<style scoped>\n",
       "    .dataframe tbody tr th:only-of-type {\n",
       "        vertical-align: middle;\n",
       "    }\n",
       "\n",
       "    .dataframe tbody tr th {\n",
       "        vertical-align: top;\n",
       "    }\n",
       "\n",
       "    .dataframe thead th {\n",
       "        text-align: right;\n",
       "    }\n",
       "</style>\n",
       "<table border=\"1\" class=\"dataframe\">\n",
       "  <thead>\n",
       "    <tr style=\"text-align: right;\">\n",
       "      <th></th>\n",
       "      <th>time</th>\n",
       "      <th>volume</th>\n",
       "      <th>o</th>\n",
       "      <th>h</th>\n",
       "      <th>l</th>\n",
       "      <th>c</th>\n",
       "      <th>utc_timestamp</th>\n",
       "      <th>est_timestamp</th>\n",
       "      <th>delta_vector</th>\n",
       "      <th>delta_max</th>\n",
       "      <th>upper_wick</th>\n",
       "      <th>lower_wick</th>\n",
       "      <th>delta</th>\n",
       "      <th>hour_col</th>\n",
       "      <th>xau_morning</th>\n",
       "    </tr>\n",
       "  </thead>\n",
       "  <tbody>\n",
       "    <tr>\n",
       "      <th>0</th>\n",
       "      <td>2016-01-01T13:00:00.000000000Z</td>\n",
       "      <td>2</td>\n",
       "      <td>1060.588</td>\n",
       "      <td>1060.588</td>\n",
       "      <td>1060.588</td>\n",
       "      <td>1060.588</td>\n",
       "      <td>2016-01-01 13:00:00+00:00</td>\n",
       "      <td>2016-01-01 08:00:00-05:00</td>\n",
       "      <td>0.0</td>\n",
       "      <td>0.0</td>\n",
       "      <td>0</td>\n",
       "      <td>0</td>\n",
       "      <td>0.0</td>\n",
       "      <td>13</td>\n",
       "      <td>0</td>\n",
       "    </tr>\n",
       "    <tr>\n",
       "      <th>1</th>\n",
       "      <td>2016-01-01T14:00:00.000000000Z</td>\n",
       "      <td>1</td>\n",
       "      <td>1060.588</td>\n",
       "      <td>1060.588</td>\n",
       "      <td>1060.588</td>\n",
       "      <td>1060.588</td>\n",
       "      <td>2016-01-01 14:00:00+00:00</td>\n",
       "      <td>2016-01-01 09:00:00-05:00</td>\n",
       "      <td>0.0</td>\n",
       "      <td>0.0</td>\n",
       "      <td>0</td>\n",
       "      <td>0</td>\n",
       "      <td>0.0</td>\n",
       "      <td>14</td>\n",
       "      <td>0</td>\n",
       "    </tr>\n",
       "    <tr>\n",
       "      <th>2</th>\n",
       "      <td>2016-01-01T15:00:00.000000000Z</td>\n",
       "      <td>1</td>\n",
       "      <td>1060.588</td>\n",
       "      <td>1060.588</td>\n",
       "      <td>1060.588</td>\n",
       "      <td>1060.588</td>\n",
       "      <td>2016-01-01 15:00:00+00:00</td>\n",
       "      <td>2016-01-01 10:00:00-05:00</td>\n",
       "      <td>0.0</td>\n",
       "      <td>0.0</td>\n",
       "      <td>0</td>\n",
       "      <td>0</td>\n",
       "      <td>0.0</td>\n",
       "      <td>15</td>\n",
       "      <td>0</td>\n",
       "    </tr>\n",
       "    <tr>\n",
       "      <th>3</th>\n",
       "      <td>2016-01-03T23:00:00.000000000Z</td>\n",
       "      <td>3977</td>\n",
       "      <td>1062.7</td>\n",
       "      <td>1066.887</td>\n",
       "      <td>1061.891</td>\n",
       "      <td>1063.238</td>\n",
       "      <td>2016-01-03 23:00:00+00:00</td>\n",
       "      <td>2016-01-03 18:00:00-05:00</td>\n",
       "      <td>0.538</td>\n",
       "      <td>4.996</td>\n",
       "      <td>3.649</td>\n",
       "      <td>0.809</td>\n",
       "      <td>0.538</td>\n",
       "      <td>23</td>\n",
       "      <td>0</td>\n",
       "    </tr>\n",
       "    <tr>\n",
       "      <th>4</th>\n",
       "      <td>2016-01-04T00:00:00.000000000Z</td>\n",
       "      <td>3792</td>\n",
       "      <td>1063.354</td>\n",
       "      <td>1064.986</td>\n",
       "      <td>1062.84</td>\n",
       "      <td>1064.727</td>\n",
       "      <td>2016-01-04 00:00:00+00:00</td>\n",
       "      <td>2016-01-03 19:00:00-05:00</td>\n",
       "      <td>1.373</td>\n",
       "      <td>2.146</td>\n",
       "      <td>0.259</td>\n",
       "      <td>0.514</td>\n",
       "      <td>1.373</td>\n",
       "      <td>0</td>\n",
       "      <td>0</td>\n",
       "    </tr>\n",
       "  </tbody>\n",
       "</table>\n",
       "</div>"
      ],
      "text/plain": [
       "                             time volume         o         h         l  \\\n",
       "0  2016-01-01T13:00:00.000000000Z      2  1060.588  1060.588  1060.588   \n",
       "1  2016-01-01T14:00:00.000000000Z      1  1060.588  1060.588  1060.588   \n",
       "2  2016-01-01T15:00:00.000000000Z      1  1060.588  1060.588  1060.588   \n",
       "3  2016-01-03T23:00:00.000000000Z   3977    1062.7  1066.887  1061.891   \n",
       "4  2016-01-04T00:00:00.000000000Z   3792  1063.354  1064.986   1062.84   \n",
       "\n",
       "          c              utc_timestamp              est_timestamp  \\\n",
       "0  1060.588  2016-01-01 13:00:00+00:00  2016-01-01 08:00:00-05:00   \n",
       "1  1060.588  2016-01-01 14:00:00+00:00  2016-01-01 09:00:00-05:00   \n",
       "2  1060.588  2016-01-01 15:00:00+00:00  2016-01-01 10:00:00-05:00   \n",
       "3  1063.238  2016-01-03 23:00:00+00:00  2016-01-03 18:00:00-05:00   \n",
       "4  1064.727  2016-01-04 00:00:00+00:00  2016-01-03 19:00:00-05:00   \n",
       "\n",
       "  delta_vector delta_max upper_wick lower_wick  delta hour_col xau_morning  \n",
       "0          0.0       0.0          0          0    0.0       13           0  \n",
       "1          0.0       0.0          0          0    0.0       14           0  \n",
       "2          0.0       0.0          0          0    0.0       15           0  \n",
       "3        0.538     4.996      3.649      0.809  0.538       23           0  \n",
       "4        1.373     2.146      0.259      0.514  1.373        0           0  "
      ]
     },
     "execution_count": 4,
     "metadata": {},
     "output_type": "execute_result"
    }
   ],
   "source": [
    "import pandas as pd\n",
    "import numpy as np\n",
    "import os \n",
    "from datetime import datetime\n",
    "import scipy as sp\n",
    "import time\n",
    "from datetime import datetime, date, timedelta\n",
    "from dateutil.relativedelta import relativedelta\n",
    "import io\n",
    "from io import StringIO \n",
    "#import datedelta\n",
    "import calendar\n",
    "import  csv\n",
    "import json\n",
    "import random\n",
    "import plotly\n",
    "from plotly.subplots import make_subplots\n",
    "import plotly.graph_objects as go\n",
    "import plotly.io as pio\n",
    "from scipy import stats\n",
    "def add_delta_cols(df):\n",
    "    #df['delta_vector'] = 0\n",
    "    #df['delta_max_vector'] = 0\n",
    "\n",
    "    df['delta_vector'] = 0\n",
    "    df['delta_max'] = 0\n",
    "    df['upper_wick'] = 0\n",
    "    df['lower_wick'] = 0\n",
    "    \n",
    "    dv_col = df.columns.get_loc('delta_vector')\n",
    "    dm_col = df.columns.get_loc('delta_max')\n",
    "    uw_col = df.columns.get_loc('upper_wick')\n",
    "    lw_col = df.columns.get_loc('lower_wick')\n",
    "    \n",
    "    o_col = df.columns.get_loc('o')\n",
    "    h_col = df.columns.get_loc('h')\n",
    "    l_col = df.columns.get_loc('l')\n",
    "    c_col = df.columns.get_loc('c')\n",
    "    arr = df.values\n",
    "    for i in range(arr.shape[0]):\n",
    "        arr[i,dv_col] = arr[i,c_col] - arr[i,o_col]\n",
    "        arr[i,dm_col] = arr[i,h_col] - arr[i,l_col]\n",
    "        if arr[i,c_col] > arr[i,o_col]:\n",
    "            arr[i,uw_col] = arr[i,h_col] - arr[i,c_col]\n",
    "            arr[i,lw_col] = arr[i,o_col] - arr[i,l_col]\n",
    "            \n",
    "        elif arr[i,c_col] < arr[i,o_col]:\n",
    "            arr[i,uw_col] = arr[i,h_col] - arr[i,o_col]\n",
    "            arr[i,lw_col] = arr[i,c_col] - arr[i,l_col]   \n",
    "            \n",
    "    df = pd.DataFrame(arr,columns = df.columns)\n",
    "    df['delta'] = abs(df['delta_vector'])\n",
    "    \n",
    "    return df\n",
    "def load_df(pair = 'EUR_USD'\n",
    "            ,granularity = 'M5'\n",
    "            ,start = datetime(2016,1,1,0,0,0)\n",
    "            ,end = datetime(2022,7,31,0,0,0)):\n",
    "    dir_name = os.getcwd() + '/' + pair + '_' + granularity\n",
    "    path = dir_name + '/' + str(date(start.year,start.month,start.day)) + '_' + str(date(end.year,end.month,end.day)) + '.csv'\n",
    "    print('PATH:',path)\n",
    "    df = pd.read_csv(path)\n",
    "    df = add_delta_cols(df)\n",
    "    print(df.shape)\n",
    "    return df\n",
    "def get_support(df,\n",
    "                lookup_range = 1500,\n",
    "                lookup_range2 = 2400,\n",
    "                stop_range = 2200,\n",
    "                candle_size = .001,\n",
    "                bound_pips = .001\n",
    "               ):\n",
    "    print('GETTING SUPPORT INDICATOR')\n",
    "    s = time.time()\n",
    "    c_col = df.columns.get_loc('c')\n",
    "    o_col = df.columns.get_loc('o')\n",
    "    l_col = df.columns.get_loc('l')\n",
    "    h_col = df.columns.get_loc('h')\n",
    "    d_col = df.columns.get_loc('delta')\n",
    "    df['support_lookup'] = 0\n",
    "    df['support_indicator'] = 0\n",
    "\n",
    "    lookup_col = df.columns.get_loc('support_lookup')\n",
    "    new_col = df.columns.get_loc('support_indicator')\n",
    "\n",
    "    reversal_col = df.columns.get_loc('c')   \n",
    "\n",
    "    arr = df.values\n",
    "    min_count = 0\n",
    "\n",
    "    print('STOP RANGE:',stop_range)\n",
    "    c = 0 \n",
    "\n",
    "    for i in range(lookup_range,arr.shape[0]):\n",
    "       # try:\n",
    "        #DEFINE SUPPORT/RESISTANCE as the MIN or MAX of a lookup range\n",
    "        min_ = min(arr[i - lookup_range : i + lookup_range2,reversal_col])\n",
    "\n",
    "        # If the current val is at that reversal point:\n",
    "        # Check and make sure we have an adequate movement off of that reversal point\n",
    "        # this is defined by the pip_range and pip threshold, pip threshold is a user defined parameter\n",
    "        if arr[i,reversal_col] == min_ and (i + lookup_range2 + stop_range < arr.shape[0]):\n",
    "            lookup_ind = i\n",
    "            val = arr[i,reversal_col]\n",
    "            lookup_check = 0\n",
    "            c = c + 1\n",
    "            # Now that all of these conditions are met\n",
    "            # We need to look into the future to see if we hit this reversal level, this is defined by the stop range\n",
    "            for j in range(i + lookup_range2,i + lookup_range2 + stop_range):\n",
    "                #If all of the following conditions are met, we will mark the array with a 1 signal to indicated we would place a trade                       \n",
    "                #CANDLE BULL OR BEAR\n",
    "                if arr[j,c_col] >= arr[j,o_col]:\n",
    "                    bull = True\n",
    "                else:\n",
    "                    bull = False                        \n",
    "                lower_bound = val - bound_pips\n",
    "                upper_bound = val + bound_pips\n",
    "                if i + lookup_range2 == j:\n",
    "                    min_val = arr[j, reversal_col]\n",
    "                else:\n",
    "                    min_val = min(arr[i + lookup_range2 : j, reversal_col])\n",
    "                    \n",
    "                cur_val = arr[j - 1, reversal_col]\n",
    "\n",
    "                if lookup_check == 0 and \\\n",
    "                bull == True and\\\n",
    "                arr[j,d_col] >= candle_size and\\\n",
    "                min_val >= lower_bound and \\\n",
    "                cur_val <= upper_bound and cur_val >= lower_bound:\n",
    "                    arr[j,new_col] = 1\n",
    "                    arr[j,lookup_col] = lookup_ind\n",
    "                    lookup_check = 1\n",
    "                    break\n",
    "\n",
    "       # except:\n",
    "        #    pass\n",
    "\n",
    "    print('COUNT:',c)\n",
    "\n",
    "    e = time.time()\n",
    "    print('TOTAL FUNCTION TIME:',(e-s)/60,' MINUTES')\n",
    "    df = pd.DataFrame(arr,columns = df.columns)\n",
    "    print('SHAPE',df[df['support_indicator'] == 1].shape)\n",
    "    return df\n",
    "\n",
    "def get_resistance(df,\n",
    "                lookup_range = 1500,\n",
    "                lookup_range2 = 2400,\n",
    "                stop_range = 2200,\n",
    "                candle_size = .001,\n",
    "                bound_pips = .001\n",
    "               ):\n",
    "    print('GETTING RESISTANCE INDICATOR')\n",
    "    s = time.time()\n",
    "    c_col = df.columns.get_loc('c')\n",
    "    o_col = df.columns.get_loc('o')\n",
    "    l_col = df.columns.get_loc('l')\n",
    "    h_col = df.columns.get_loc('h')\n",
    "    d_col = df.columns.get_loc('delta')\n",
    "    df['resistance_lookup'] = 0\n",
    "    df['resistance_indicator'] = 0\n",
    "\n",
    "    lookup_col = df.columns.get_loc('resistance_lookup')\n",
    "    new_col = df.columns.get_loc('resistance_indicator')\n",
    "\n",
    "    reversal_col = df.columns.get_loc('c')   \n",
    "\n",
    "    arr = df.values\n",
    "    min_count = 0\n",
    "\n",
    "    print('STOP RANGE:',stop_range)\n",
    "    c = 0 \n",
    "\n",
    "    for i in range(lookup_range,arr.shape[0]):\n",
    "       # try:\n",
    "        #DEFINE SUPPORT/RESISTANCE as the MIN or MAX of a lookup range\n",
    "        max_ = max(arr[i - lookup_range : i + lookup_range2,reversal_col])\n",
    "\n",
    "        # If the current val is at that reversal point:\n",
    "        # Check and make sure we have an adequate movement off of that reversal point\n",
    "        # this is defined by the pip_range and pip threshold, pip threshold is a user defined parameter\n",
    "        if arr[i,reversal_col] == max_ and (i + lookup_range2 + stop_range < arr.shape[0]):\n",
    "            lookup_ind = i\n",
    "            val = arr[i,reversal_col]\n",
    "            lookup_check = 0\n",
    "            c = c + 1\n",
    "            # Now that all of these conditions are met\n",
    "            # We need to look into the future to see if we hit this reversal level, this is defined by the stop range\n",
    "            for j in range(i + lookup_range2,i + lookup_range2 + stop_range):\n",
    "                #If all of the following conditions are met, we will mark the array with a 1 signal to indicated we would place a trade                       \n",
    "                #CANDLE BULL OR BEAR\n",
    "                if arr[j,c_col] >= arr[j,o_col]:\n",
    "                    bull = True\n",
    "                else:\n",
    "                    bull = False                        \n",
    "                lower_bound = val - bound_pips\n",
    "                upper_bound = val + bound_pips\n",
    "                if i + lookup_range2 == j:\n",
    "                    max_val = arr[j, reversal_col]\n",
    "                else:\n",
    "                    max_val = max(arr[i + lookup_range2 : j, reversal_col])\n",
    "                cur_val = arr[j - 1, reversal_col]\n",
    "\n",
    "                if lookup_check == 0 and \\\n",
    "                bull == False and\\\n",
    "                arr[j,d_col] >= candle_size and\\\n",
    "                max_val <= upper_bound and \\\n",
    "                cur_val <= upper_bound and cur_val >= lower_bound:\n",
    "                    arr[j,new_col] = 1\n",
    "                    arr[j,lookup_col] = lookup_ind\n",
    "                    lookup_check = 1\n",
    "                    break\n",
    "\n",
    "       # except:\n",
    "        #    pass\n",
    "\n",
    "    print('COUNT:',c)\n",
    "\n",
    "    e = time.time()\n",
    "    print('TOTAL FUNCTION TIME:',(e-s)/60,' MINUTES')\n",
    "    df = pd.DataFrame(arr,columns = df.columns)\n",
    "    print('SHAPE',df[df['resistance_indicator'] == 1].shape)\n",
    "    return df\n",
    "\n",
    "\n",
    "\n",
    "\n",
    "\n",
    "def run_single_pair_sim(pair,\n",
    "                lookup_range,\n",
    "                lookup_range2,\n",
    "                stop_range,\n",
    "                candle_size,\n",
    "                bound_pips,\n",
    "                sls,\n",
    "                tps,\n",
    "                spread):\n",
    "    \n",
    "    def strategy_tester_buy(df,col = 'support_indicator',sl = .1,tp = .5,num_trades = 300,risk_size = .01,entry = 'c',pr = True,spread = .01):\n",
    "        def simulate_results(\n",
    "            num_trades = 200,\n",
    "            acc_val = 10000,\n",
    "            rr = 6,\n",
    "            risk_size = .02,\n",
    "            win_rate = .2,\n",
    "            pr = True):\n",
    "\n",
    "            start = acc_val\n",
    "            for i in range(num_trades):\n",
    "                rand = random.random()\n",
    "                if rand > win_rate:\n",
    "                    acc_val = acc_val - (acc_val * risk_size)\n",
    "                else:\n",
    "                    acc_val = acc_val + (acc_val * (risk_size * rr))\n",
    "            if pr:\n",
    "                print('STARTING VAL:',round(start),' ENDING VAL:',round(acc_val))\n",
    "            return round(acc_val)\n",
    "\n",
    "        col_num = df.columns.get_loc(col)\n",
    "        h_col = df.columns.get_loc('h')\n",
    "        l_col = df.columns.get_loc('l')\n",
    "        c_col = df.columns.get_loc('c')\n",
    "        entry_col = df.columns.get_loc(entry)\n",
    "        arr = df.values\n",
    "        temp_df = df[df[col] == 1]\n",
    "\n",
    "        trade_list = []\n",
    "        trade_res = []\n",
    "        wins = []\n",
    "        losses = []\n",
    "        for i in range(arr.shape[0]):\n",
    "\n",
    "            if arr[i,col_num] == 1:\n",
    "                val = arr[i,entry_col]\n",
    "                trade_id = 0\n",
    "                try:\n",
    "                    for j in range(i + 1,i + 10000):\n",
    "                        if i not in trade_list:\n",
    "                            if trade_id == 0:\n",
    "                                if arr[j,l_col] <= val - sl + spread:\n",
    "                                    trade_res.append(-10)\n",
    "                                    trade_list.append(i)\n",
    "                                    losses.append(i)\n",
    "                                    trade_id = 1\n",
    "\n",
    "                                    break\n",
    "                                if arr[j,h_col] >= val + tp:\n",
    "                                    trade_res.append(50)\n",
    "                                    trade_list.append(i)\n",
    "                                    wins.append(i)\n",
    "                                    trade_id = 1\n",
    "                                    break\n",
    "                except:\n",
    "                    pass\n",
    "        win_rate = len(wins) / len(trade_list)\n",
    "        rr = (tp - spread) / (sl + spread)\n",
    "       # num_trades = len(trade_list)\n",
    "      #  print('WIN RATE',win_rate,' RR:',rr, 'NUM TRADES:',num_trades,' RISK SIZE:',risk_size)\n",
    "        vals = []\n",
    "\n",
    "\n",
    "        acc_val = 10000\n",
    "\n",
    "\n",
    "\n",
    "        for i in range(30):\n",
    "\n",
    "            final_val = simulate_results(num_trades = num_trades,acc_val = acc_val,rr = rr,risk_size = risk_size,win_rate = win_rate,pr = pr)\n",
    "            vals.append(final_val)\n",
    "\n",
    "        return np.median(vals),win_rate,wins,losses\n",
    "\n",
    "    def strategy_tester_sell(df,col = 'support_indicator',sl = .1,tp = .5,num_trades = 300,risk_size = .01,entry = 'c',pr = True,spread = .01):\n",
    "        def simulate_results(\n",
    "            num_trades = 200,\n",
    "            acc_val = 10000,\n",
    "            rr = 6,\n",
    "            risk_size = .02,\n",
    "            win_rate = .2,\n",
    "            pr = True):\n",
    "\n",
    "            start = acc_val\n",
    "            for i in range(num_trades):\n",
    "                rand = random.random()\n",
    "                if rand > win_rate:\n",
    "                    acc_val = acc_val - (acc_val * risk_size)\n",
    "                else:\n",
    "                    acc_val = acc_val + (acc_val * (risk_size * rr))\n",
    "            if pr:\n",
    "                print('STARTING VAL:',round(start),' ENDING VAL:',round(acc_val))\n",
    "            return round(acc_val)\n",
    "\n",
    "        col_num = df.columns.get_loc(col)\n",
    "        h_col = df.columns.get_loc('h')\n",
    "        l_col = df.columns.get_loc('l')\n",
    "        c_col = df.columns.get_loc('c')\n",
    "        entry_col = df.columns.get_loc(entry)\n",
    "        arr = df.values\n",
    "        temp_df = df[df[col] == 1]\n",
    "\n",
    "        trade_list = []\n",
    "        trade_res = []\n",
    "        wins = []\n",
    "        losses = []\n",
    "        for i in range(arr.shape[0]):\n",
    "\n",
    "            if arr[i,col_num] == 1:\n",
    "                val = arr[i,entry_col]\n",
    "                try:\n",
    "                    for j in range(i + 1,i + 10000):\n",
    "                        if i not in trade_list:\n",
    "                            if arr[j,h_col] >= val + sl - spread:\n",
    "                                trade_res.append(-10)\n",
    "                                trade_list.append(i)\n",
    "                                losses.append(i)\n",
    "                                break\n",
    "                            if arr[j,l_col] <= val - tp:\n",
    "                                trade_res.append(50)\n",
    "                                trade_list.append(i)\n",
    "                                wins.append(i)\n",
    "                                break\n",
    "                except:\n",
    "                    pass\n",
    "        win_rate = len(wins) / len(trade_list)\n",
    "        rr = (tp - spread) / (sl + spread)\n",
    "       # num_trades = len(trade_list)\n",
    "      #  print('WIN RATE',win_rate,' RR:',rr, 'NUM TRADES:',num_trades,' RISK SIZE:',risk_size)\n",
    "        vals = []\n",
    "\n",
    "\n",
    "        acc_val = 10000\n",
    "\n",
    "\n",
    "\n",
    "        for i in range(30):\n",
    "\n",
    "            final_val = simulate_results(num_trades = num_trades,acc_val = acc_val,rr = rr,risk_size = risk_size,win_rate = win_rate,pr = pr)\n",
    "            vals.append(final_val)\n",
    "\n",
    "        return np.median(vals),win_rate,wins,losses\n",
    "\n",
    "\n",
    "    s = time.time()\n",
    "    df = load_df(pair = pair,granularity ='M5',start = datetime(2016,1,1,0,0,0),end = datetime(2022,7,31,0,0,0))\n",
    "    print(df.shape)\n",
    "    df_ = df.copy()\n",
    "\n",
    "    print('RUNNING SINGLE PARAMETER LOOP FOR PARAMS:',\n",
    "          'INSTRUMENT:',pair,\n",
    "          'lookup_range',lookup_range,\n",
    "          'lookup_range2', lookup_range2,\n",
    "                    'stop_range', stop_range,\n",
    "                    'candle_size' , candle_size,\n",
    "                    'bound_pips' , bound_pips)\n",
    "\n",
    "    df = get_support(df,\n",
    "                    lookup_range = lookup_range,\n",
    "                    lookup_range2 = lookup_range2,\n",
    "                    stop_range = stop_range,\n",
    "                    candle_size = candle_size,\n",
    "                    bound_pips = bound_pips\n",
    "                    )\n",
    "\n",
    "    df_ = get_resistance(df_,\n",
    "                    lookup_range = lookup_range,\n",
    "                    lookup_range2 = lookup_range2,\n",
    "                    stop_range = stop_range,\n",
    "                    candle_size = candle_size,\n",
    "                    bound_pips = bound_pips\n",
    "                   )\n",
    "\n",
    "\n",
    "    cols = ['instrument',\n",
    "           'buy_support_val',\n",
    "           'sell_resistance_val',\n",
    "           'buy_resistance_val',\n",
    "           'sell_support_val',\n",
    "            'max_ending_val',\n",
    "            'sl',\n",
    "            'tp',\n",
    "            'RR',\n",
    "           'win_rate1',\n",
    "           'win_rate2',\n",
    "           'win_rate3',\n",
    "           'win_rate4',\n",
    "            'lookup_range',\n",
    "            'lookup_range2',\n",
    "            'stop_range',\n",
    "            'candle_size',\n",
    "            'bound_pips',\n",
    "            'support_number_of_trades',\n",
    "            'resistance_number_of_trades'\n",
    "          ]\n",
    "\n",
    "    trade_strategy = 'support_indicator'\n",
    "    trade_strategy2 = 'resistance_indicator'\n",
    "\n",
    "    #trade_strategy = 'resistance_indicatorc'\n",
    "    num_trades = 400\n",
    "    risk_size = .01\n",
    "\n",
    "    starting_val = 10000\n",
    "    instrument = pair\n",
    "    timeframe = 'M5'\n",
    "    temp_lst = []\n",
    "    actual_number_of_trades = df[df[trade_strategy] == 1].shape[0]\n",
    "    actual_number_of_trades2 = df_[df_[trade_strategy2] == 1].shape[0]\n",
    "\n",
    "\n",
    "    for sl in sls:\n",
    "        for tp in tps:\n",
    "            if actual_number_of_trades == 0:\n",
    "                ending_val,win_rate,wins,losses = 0,0,0,0\n",
    "                ending_val4,win_rate4,wins4,losses4 = 0,0,0,0\n",
    "            else:\n",
    "                ending_val,win_rate,wins,losses = strategy_tester_buy(df,col = trade_strategy,sl = sl,tp = tp,num_trades = num_trades,risk_size = risk_size,entry = 'c',pr = False,spread = spread)\n",
    "                ending_val4,win_rate4,wins4,losses4 = strategy_tester_sell(df,col = trade_strategy,sl = sl,tp = tp,num_trades = num_trades,risk_size = risk_size,entry = 'c',pr = False,spread = spread)   \n",
    "                \n",
    "            if actual_number_of_trades2 == 0:\n",
    "                ending_val2,win_rate2,wins2,losses2 = 0,0,0,0\n",
    "                ending_val3,win_rate3,wins3,losses3 = 0,0,0,0\n",
    "            else:\n",
    "                ending_val2,win_rate2,wins2,losses2 = strategy_tester_sell(df_,col = trade_strategy2,sl = sl,tp = tp,num_trades = num_trades,risk_size = risk_size,entry = 'c',pr = False,spread = spread)\n",
    "                ending_val3,win_rate3,wins3,losses3 = strategy_tester_buy(df_,col = trade_strategy2,sl = sl,tp = tp,num_trades = num_trades,risk_size = risk_size,entry = 'c',pr = False,spread = spread) \n",
    "                \n",
    "                \n",
    "            max_ending_val = max(ending_val,\n",
    "                   ending_val2,\n",
    "                   ending_val3,\n",
    "                   ending_val4)\n",
    "            lst = [instrument,\n",
    "                   ending_val,\n",
    "                   ending_val2,\n",
    "                   ending_val3,\n",
    "                   ending_val4,\n",
    "                   max_ending_val,\n",
    "                    sl,\n",
    "                    tp,\n",
    "                    round(tp / sl,4),\n",
    "                   round(win_rate,4),\n",
    "                   round(win_rate2,4),\n",
    "                   round(win_rate3,4),\n",
    "                   round(win_rate4,4),\n",
    "                    lookup_range,\n",
    "                    lookup_range2,\n",
    "                    stop_range,\n",
    "                    candle_size,\n",
    "                    bound_pips,\n",
    "                   actual_number_of_trades,\n",
    "                   actual_number_of_trades2\n",
    "                  ]\n",
    "            temp_lst.append(lst)\n",
    "\n",
    "    final_df = pd.DataFrame(temp_lst,columns = cols)\n",
    "    final_df = final_df.sort_values(by = 'max_ending_val',ascending = False)\n",
    "    \n",
    "    e = time.time()\n",
    "    best_buy_support = final_df['buy_support_val'].max()\n",
    "    best_sell_resistance = final_df['sell_resistance_val'].max()\n",
    "    best_buy_resistance = final_df['buy_resistance_val'].max()\n",
    "    best_sell_support = final_df['sell_support_val'].max()\n",
    "    max_val_all = final_df['max_ending_val'].max()\n",
    "    print('MAX VAL:',round(max_val_all),'||best buy support:',round(best_buy_support),'||best sell resistance:',\n",
    "          round(best_sell_resistance),'||best buy resistance:',round(best_buy_resistance),'||best sell support:',round(best_sell_support))\n",
    "\n",
    "\n",
    "    print('TOTAL SINGLE PAIR SIM TIME:',round((e-s)/60,1),'MINUTES')\n",
    "    return final_df\n",
    "\n",
    "def run_all_pairs_sim_loop(\n",
    "                    lookup_range,\n",
    "                    lookup_range2,\n",
    "                    stop_range,\n",
    "                    candle_size ,\n",
    "                    bound_pips,\n",
    "                    spread):\n",
    "    dir_name = os.getcwd() + '/reversal_counter_sim_results/' + str(lookup_range) + '_' + str(lookup_range2) + '_' + str(stop_range) + '_' + str(candle_size) + '_' + str(bound_pips)\n",
    "    print(dir_name)\n",
    "    isdir = os.path.isdir(dir_name) \n",
    "    if isdir:\n",
    "        pass\n",
    "    else:\n",
    "        print('MAKING DIRECTORY:',dir_name)\n",
    "        os.mkdir(dir_name) \n",
    "\n",
    "    if len(os.listdir(dir_name)) > 0:\n",
    "        print('file already exists in this directory, passing...')\n",
    "    else:\n",
    "        print('file does not exist, running sim')\n",
    "\n",
    "\n",
    "        all_pairs=['GBP_JPY','EUR_USD','USD_JPY','EUR_JPY','AUD_JPY','CAD_JPY','CHF_JPY',\n",
    "                   'GBP_USD','USD_CAD','USD_CHF','AUD_USD',\n",
    "                   'NZD_USD','AUD_CAD','AUD_CHF','AUD_NZD','CAD_CHF',\n",
    "                   'EUR_AUD','EUR_CAD','EUR_CHF','NZD_CAD','NZD_CHF'] \n",
    "\n",
    "\n",
    "        final_df = pd.DataFrame([0])    \n",
    "        for pair in all_pairs:\n",
    "            print(pair)  \n",
    "\n",
    "            if 'JPY' in pair:\n",
    "                sls = [.05,.075,.1,.125,.15,.2,.25]\n",
    "                tps = [.1,.15,.2,.25,.3,.4,.5,.7,.9,1.1,1.3,1.5]\n",
    "                spread = .01\n",
    "                candle_size_ = candle_size * 100\n",
    "                bound_pips_ = bound_pips * 100\n",
    "            else:\n",
    "                sls = [.0005,.00075,.001,.00125,.0015,.002,.0025]\n",
    "                tps = [.001,.0015,.002,.0025,.003,.004,.005,.007,.009,.011,.013,.015]\n",
    "                spread = .0001\n",
    "                candle_size_ = candle_size \n",
    "                bound_pips_ = bound_pips        \n",
    "\n",
    "            df = run_single_pair_sim(pair,\n",
    "                            lookup_range,\n",
    "                            lookup_range2,\n",
    "                            stop_range,\n",
    "                            candle_size_,\n",
    "                            bound_pips_,\n",
    "                            sls,\n",
    "                            tps,\n",
    "                            spread)    \n",
    "            if final_df.shape[0] == 1:\n",
    "                final_df = df\n",
    "            else:\n",
    "                final_df = pd.concat([final_df,df],axis = 0)\n",
    "\n",
    "        final_df = final_df.sort_values(by = 'max_ending_val',ascending = False)    \n",
    "\n",
    "        gb = final_df.groupby('instrument').agg({'max_ending_val':max,'buy_support_val':max,'sell_resistance_val':max,'buy_resistance_val':max,'sell_support_val':max})\n",
    "        gb = gb.reset_index()\n",
    "        gb = gb.sort_values(by = 'max_ending_val',ascending = False)    \n",
    "        for i in range(gb.shape[0]):\n",
    "            print('pair',gb['instrument'].iloc[i],'||MAX VAL',gb['max_ending_val'].iloc[i],'||best buy support:',gb['buy_support_val'].iloc[i],'||best sell resistance:',\n",
    "                  gb['sell_resistance_val'].iloc[i],'||best buy resistance:',gb['buy_resistance_val'].iloc[i],'||best sell support:',gb['sell_support_val'].iloc[i])\n",
    "\n",
    "        print('MEDIANS:',np.median(gb['max_ending_val']),np.median(gb['buy_support_val']),np.median(gb['sell_resistance_val']),np.median(gb['buy_resistance_val']),np.median(gb['sell_support_val']))\n",
    "\n",
    "        path = dir_name + '/' + str(round(np.median(gb['max_ending_val']))) + '_' + str(round(np.median(gb['buy_support_val']))) + '_' + str(round(np.median(gb['sell_resistance_val']))) + '_' + str(round(np.median(gb['buy_resistance_val']))) + '_' + str(round(np.median(gb['sell_support_val'])))\n",
    "        path = path + '.csv'\n",
    "        print('FINAL PATH:',path)\n",
    "        print('SAVING DATA')\n",
    "        final_df.to_csv(path,index = False)\n",
    "        print()\n",
    "        print()\n",
    "        print()\n",
    "        print()\n",
    "        print()\n",
    "        \n",
    "def get_support(df,\n",
    "                lookup_range = 1500,\n",
    "                pip_delta = .001,\n",
    "                time_range = 11,\n",
    "                high_spread = .0005,\n",
    "                low_spread = 0\n",
    "               ):\n",
    "    print('GETTING SUPPORT INDICATOR')\n",
    "    print('LOOKUP RANGE AND PIP DELTA:',lookup_range,pip_delta)\n",
    "    s = time.time()\n",
    "    c_col = df.columns.get_loc('c')\n",
    "    o_col = df.columns.get_loc('o')\n",
    "    l_col = df.columns.get_loc('l')\n",
    "    h_col = df.columns.get_loc('h')\n",
    "    d_col = df.columns.get_loc('delta')\n",
    "    minute_col = df.columns.get_loc('minute_col')\n",
    "    df['support_indicator'] = 0\n",
    "    new_col = df.columns.get_loc('support_indicator')\n",
    "    arr = df.values\n",
    "    min_count = 0\n",
    "    c = 0 \n",
    "   # high_spread = .0003\n",
    "    #low_spread = .0001\n",
    "    #low_spread = 0\n",
    "    #high_spread = .0005\n",
    "    \n",
    "    for i in range(max(lookup_range,time_range + 1),arr.shape[0]):\n",
    "       # try:\n",
    "        #DEFINE SUPPORT/RESISTANCE as the MIN or MAX of a lookup range\n",
    "\n",
    "        if (arr[i - time_range,o_col] - arr[i,c_col]) >= pip_delta and arr[i,minute_col] == 55:\n",
    "            arr[i,new_col] = 1\n",
    "\n",
    "    print('COUNT:',c)\n",
    "\n",
    "    e = time.time()\n",
    "    print('TOTAL FUNCTION TIME:',(e-s)/60,' MINUTES')\n",
    "    df = pd.DataFrame(arr,columns = df.columns)\n",
    "    print('SHAPE',df[df['support_indicator'] == 1].shape)\n",
    "    return df\n",
    "\n",
    "def load_df(pair = 'EUR_USD'\n",
    "            ,granularity = 'M5'\n",
    "            ,start = datetime(2016,1,1,0,0,0)\n",
    "            ,end = datetime(2022,7,31,0,0,0)):\n",
    "    def convert_timestamp(df):\n",
    "        time_col = df.columns.get_loc('time')\n",
    "        df['hour_col'] = 0\n",
    "        df['xau_morning'] = 0\n",
    "        new_col = df.columns.get_loc('hour_col')\n",
    "        new_col2 = df.columns.get_loc('xau_morning')\n",
    "        arr = df.values \n",
    "        for i in range(arr.shape[0]):\n",
    "            arr[i,new_col] = pd.Timestamp(arr[i,time_col]).hour\n",
    "            if arr[i,new_col] == 11:\n",
    "                arr[i,new_col2] = 1\n",
    "                \n",
    "        return pd.DataFrame(arr,columns = df.columns)\n",
    "    dir_name = os.getcwd() + '/' + pair + '_' + granularity\n",
    "    path = dir_name + '/' + str(date(start.year,start.month,start.day)) + '_' + str(date(end.year,end.month,end.day)) + '.csv'\n",
    "    print('PATH:',path)\n",
    "    df = pd.read_csv(path)\n",
    "    df = add_delta_cols(df)\n",
    "    df = convert_timestamp(df)\n",
    "    print(df.shape)\n",
    "    return df\n",
    "pair = 'XAU_USD'\n",
    "df = load_df(pair = pair,granularity ='H1',start = datetime(2016,1,1,0,0,0),end = datetime(2022,7,31,0,0,0))\n",
    "print(df.shape)\n",
    "df.head()\n",
    "\n"
   ]
  },
  {
   "cell_type": "code",
   "execution_count": 38,
   "metadata": {},
   "outputs": [
    {
     "name": "stdout",
     "output_type": "stream",
     "text": [
      "SHAPE (39, 16)\n"
     ]
    },
    {
     "data": {
      "text/html": [
       "<div>\n",
       "<style scoped>\n",
       "    .dataframe tbody tr th:only-of-type {\n",
       "        vertical-align: middle;\n",
       "    }\n",
       "\n",
       "    .dataframe tbody tr th {\n",
       "        vertical-align: top;\n",
       "    }\n",
       "\n",
       "    .dataframe thead th {\n",
       "        text-align: right;\n",
       "    }\n",
       "</style>\n",
       "<table border=\"1\" class=\"dataframe\">\n",
       "  <thead>\n",
       "    <tr style=\"text-align: right;\">\n",
       "      <th></th>\n",
       "      <th>time</th>\n",
       "      <th>volume</th>\n",
       "      <th>o</th>\n",
       "      <th>h</th>\n",
       "      <th>l</th>\n",
       "      <th>c</th>\n",
       "      <th>utc_timestamp</th>\n",
       "      <th>est_timestamp</th>\n",
       "      <th>delta_vector</th>\n",
       "      <th>delta_max</th>\n",
       "      <th>upper_wick</th>\n",
       "      <th>lower_wick</th>\n",
       "      <th>delta</th>\n",
       "      <th>hour_col</th>\n",
       "      <th>xau_morning</th>\n",
       "      <th>support_indicator</th>\n",
       "    </tr>\n",
       "  </thead>\n",
       "  <tbody>\n",
       "    <tr>\n",
       "      <th>0</th>\n",
       "      <td>2016-01-01T13:00:00.000000000Z</td>\n",
       "      <td>2</td>\n",
       "      <td>1060.588</td>\n",
       "      <td>1060.588</td>\n",
       "      <td>1060.588</td>\n",
       "      <td>1060.588</td>\n",
       "      <td>2016-01-01 13:00:00+00:00</td>\n",
       "      <td>2016-01-01 08:00:00-05:00</td>\n",
       "      <td>0.0</td>\n",
       "      <td>0.0</td>\n",
       "      <td>0</td>\n",
       "      <td>0</td>\n",
       "      <td>0.0</td>\n",
       "      <td>13</td>\n",
       "      <td>0</td>\n",
       "      <td>0</td>\n",
       "    </tr>\n",
       "    <tr>\n",
       "      <th>1</th>\n",
       "      <td>2016-01-01T14:00:00.000000000Z</td>\n",
       "      <td>1</td>\n",
       "      <td>1060.588</td>\n",
       "      <td>1060.588</td>\n",
       "      <td>1060.588</td>\n",
       "      <td>1060.588</td>\n",
       "      <td>2016-01-01 14:00:00+00:00</td>\n",
       "      <td>2016-01-01 09:00:00-05:00</td>\n",
       "      <td>0.0</td>\n",
       "      <td>0.0</td>\n",
       "      <td>0</td>\n",
       "      <td>0</td>\n",
       "      <td>0.0</td>\n",
       "      <td>14</td>\n",
       "      <td>0</td>\n",
       "      <td>0</td>\n",
       "    </tr>\n",
       "    <tr>\n",
       "      <th>2</th>\n",
       "      <td>2016-01-01T15:00:00.000000000Z</td>\n",
       "      <td>1</td>\n",
       "      <td>1060.588</td>\n",
       "      <td>1060.588</td>\n",
       "      <td>1060.588</td>\n",
       "      <td>1060.588</td>\n",
       "      <td>2016-01-01 15:00:00+00:00</td>\n",
       "      <td>2016-01-01 10:00:00-05:00</td>\n",
       "      <td>0.0</td>\n",
       "      <td>0.0</td>\n",
       "      <td>0</td>\n",
       "      <td>0</td>\n",
       "      <td>0.0</td>\n",
       "      <td>15</td>\n",
       "      <td>0</td>\n",
       "      <td>0</td>\n",
       "    </tr>\n",
       "    <tr>\n",
       "      <th>3</th>\n",
       "      <td>2016-01-03T23:00:00.000000000Z</td>\n",
       "      <td>3977</td>\n",
       "      <td>1062.7</td>\n",
       "      <td>1066.887</td>\n",
       "      <td>1061.891</td>\n",
       "      <td>1063.238</td>\n",
       "      <td>2016-01-03 23:00:00+00:00</td>\n",
       "      <td>2016-01-03 18:00:00-05:00</td>\n",
       "      <td>0.538</td>\n",
       "      <td>4.996</td>\n",
       "      <td>3.649</td>\n",
       "      <td>0.809</td>\n",
       "      <td>0.538</td>\n",
       "      <td>23</td>\n",
       "      <td>0</td>\n",
       "      <td>0</td>\n",
       "    </tr>\n",
       "    <tr>\n",
       "      <th>4</th>\n",
       "      <td>2016-01-04T00:00:00.000000000Z</td>\n",
       "      <td>3792</td>\n",
       "      <td>1063.354</td>\n",
       "      <td>1064.986</td>\n",
       "      <td>1062.84</td>\n",
       "      <td>1064.727</td>\n",
       "      <td>2016-01-04 00:00:00+00:00</td>\n",
       "      <td>2016-01-03 19:00:00-05:00</td>\n",
       "      <td>1.373</td>\n",
       "      <td>2.146</td>\n",
       "      <td>0.259</td>\n",
       "      <td>0.514</td>\n",
       "      <td>1.373</td>\n",
       "      <td>0</td>\n",
       "      <td>0</td>\n",
       "      <td>0</td>\n",
       "    </tr>\n",
       "  </tbody>\n",
       "</table>\n",
       "</div>"
      ],
      "text/plain": [
       "                             time volume         o         h         l  \\\n",
       "0  2016-01-01T13:00:00.000000000Z      2  1060.588  1060.588  1060.588   \n",
       "1  2016-01-01T14:00:00.000000000Z      1  1060.588  1060.588  1060.588   \n",
       "2  2016-01-01T15:00:00.000000000Z      1  1060.588  1060.588  1060.588   \n",
       "3  2016-01-03T23:00:00.000000000Z   3977    1062.7  1066.887  1061.891   \n",
       "4  2016-01-04T00:00:00.000000000Z   3792  1063.354  1064.986   1062.84   \n",
       "\n",
       "          c              utc_timestamp              est_timestamp  \\\n",
       "0  1060.588  2016-01-01 13:00:00+00:00  2016-01-01 08:00:00-05:00   \n",
       "1  1060.588  2016-01-01 14:00:00+00:00  2016-01-01 09:00:00-05:00   \n",
       "2  1060.588  2016-01-01 15:00:00+00:00  2016-01-01 10:00:00-05:00   \n",
       "3  1063.238  2016-01-03 23:00:00+00:00  2016-01-03 18:00:00-05:00   \n",
       "4  1064.727  2016-01-04 00:00:00+00:00  2016-01-03 19:00:00-05:00   \n",
       "\n",
       "  delta_vector delta_max upper_wick lower_wick  delta hour_col xau_morning  \\\n",
       "0          0.0       0.0          0          0    0.0       13           0   \n",
       "1          0.0       0.0          0          0    0.0       14           0   \n",
       "2          0.0       0.0          0          0    0.0       15           0   \n",
       "3        0.538     4.996      3.649      0.809  0.538       23           0   \n",
       "4        1.373     2.146      0.259      0.514  1.373        0           0   \n",
       "\n",
       "  support_indicator  \n",
       "0                 0  \n",
       "1                 0  \n",
       "2                 0  \n",
       "3                 0  \n",
       "4                 0  "
      ]
     },
     "execution_count": 38,
     "metadata": {},
     "output_type": "execute_result"
    }
   ],
   "source": [
    "def get_support(df):\n",
    "    c = df.columns.get_loc('c')\n",
    "    o = df.columns.get_loc('o')\n",
    "    l = df.columns.get_loc('l')\n",
    "    df['support_indicator'] = 0\n",
    "    new_col = df.columns.get_loc('support_indicator')\n",
    "    d = df.columns.get_loc('delta')\n",
    "    \n",
    "    arr = df.values\n",
    "    for i in range(arr.shape[0]):\n",
    "        if arr[i,c] == arr[i,l] and arr[i,c] < arr[i,o] and arr[i,d] > 0 and arr[i,c] <= arr[i - 100,c] - 25:\n",
    "            arr[i + 1,new_col] = 1\n",
    "    df = pd.DataFrame(arr,columns = df.columns)\n",
    "    print('SHAPE',df[df['support_indicator'] == 1].shape)\n",
    "    return df\n",
    "df = get_support(df)\n",
    "df.head()"
   ]
  },
  {
   "cell_type": "code",
   "execution_count": null,
   "metadata": {},
   "outputs": [],
   "source": []
  },
  {
   "cell_type": "code",
   "execution_count": 39,
   "metadata": {},
   "outputs": [
    {
     "data": {
      "text/plain": [
       "-0.5734102564102462"
      ]
     },
     "execution_count": 39,
     "metadata": {},
     "output_type": "execute_result"
    }
   ],
   "source": [
    "df[df['support_indicator'] == 1]['delta_vector'].mean()"
   ]
  },
  {
   "cell_type": "code",
   "execution_count": null,
   "metadata": {},
   "outputs": [],
   "source": []
  },
  {
   "cell_type": "code",
   "execution_count": 40,
   "metadata": {},
   "outputs": [
    {
     "data": {
      "text/plain": [
       "0.9807179487179499"
      ]
     },
     "execution_count": 40,
     "metadata": {},
     "output_type": "execute_result"
    }
   ],
   "source": [
    "df[df['support_indicator'] == 1]['upper_wick'].mean()"
   ]
  },
  {
   "cell_type": "code",
   "execution_count": null,
   "metadata": {},
   "outputs": [],
   "source": []
  },
  {
   "cell_type": "code",
   "execution_count": 41,
   "metadata": {},
   "outputs": [
    {
     "data": {
      "text/plain": [
       "0.9992380952380808"
      ]
     },
     "execution_count": 41,
     "metadata": {},
     "output_type": "execute_result"
    }
   ],
   "source": [
    "df[(df['support_indicator'] == 1) & (df['delta_vector'] < 0)]['upper_wick'].mean()"
   ]
  },
  {
   "cell_type": "code",
   "execution_count": null,
   "metadata": {},
   "outputs": [],
   "source": []
  },
  {
   "cell_type": "code",
   "execution_count": 42,
   "metadata": {},
   "outputs": [
    {
     "name": "stdout",
     "output_type": "stream",
     "text": [
      "SHAPE (284, 16)\n"
     ]
    },
    {
     "data": {
      "text/html": [
       "<div>\n",
       "<style scoped>\n",
       "    .dataframe tbody tr th:only-of-type {\n",
       "        vertical-align: middle;\n",
       "    }\n",
       "\n",
       "    .dataframe tbody tr th {\n",
       "        vertical-align: top;\n",
       "    }\n",
       "\n",
       "    .dataframe thead th {\n",
       "        text-align: right;\n",
       "    }\n",
       "</style>\n",
       "<table border=\"1\" class=\"dataframe\">\n",
       "  <thead>\n",
       "    <tr style=\"text-align: right;\">\n",
       "      <th></th>\n",
       "      <th>time</th>\n",
       "      <th>volume</th>\n",
       "      <th>o</th>\n",
       "      <th>h</th>\n",
       "      <th>l</th>\n",
       "      <th>c</th>\n",
       "      <th>utc_timestamp</th>\n",
       "      <th>est_timestamp</th>\n",
       "      <th>delta_vector</th>\n",
       "      <th>delta_max</th>\n",
       "      <th>upper_wick</th>\n",
       "      <th>lower_wick</th>\n",
       "      <th>delta</th>\n",
       "      <th>hour_col</th>\n",
       "      <th>xau_morning</th>\n",
       "      <th>support_indicator</th>\n",
       "    </tr>\n",
       "  </thead>\n",
       "  <tbody>\n",
       "    <tr>\n",
       "      <th>0</th>\n",
       "      <td>2016-01-01T13:00:00.000000000Z</td>\n",
       "      <td>2</td>\n",
       "      <td>1060.588</td>\n",
       "      <td>1060.588</td>\n",
       "      <td>1060.588</td>\n",
       "      <td>1060.588</td>\n",
       "      <td>2016-01-01 13:00:00+00:00</td>\n",
       "      <td>2016-01-01 08:00:00-05:00</td>\n",
       "      <td>0.0</td>\n",
       "      <td>0.0</td>\n",
       "      <td>0</td>\n",
       "      <td>0</td>\n",
       "      <td>0.0</td>\n",
       "      <td>13</td>\n",
       "      <td>0</td>\n",
       "      <td>0</td>\n",
       "    </tr>\n",
       "    <tr>\n",
       "      <th>1</th>\n",
       "      <td>2016-01-01T14:00:00.000000000Z</td>\n",
       "      <td>1</td>\n",
       "      <td>1060.588</td>\n",
       "      <td>1060.588</td>\n",
       "      <td>1060.588</td>\n",
       "      <td>1060.588</td>\n",
       "      <td>2016-01-01 14:00:00+00:00</td>\n",
       "      <td>2016-01-01 09:00:00-05:00</td>\n",
       "      <td>0.0</td>\n",
       "      <td>0.0</td>\n",
       "      <td>0</td>\n",
       "      <td>0</td>\n",
       "      <td>0.0</td>\n",
       "      <td>14</td>\n",
       "      <td>0</td>\n",
       "      <td>0</td>\n",
       "    </tr>\n",
       "    <tr>\n",
       "      <th>2</th>\n",
       "      <td>2016-01-01T15:00:00.000000000Z</td>\n",
       "      <td>1</td>\n",
       "      <td>1060.588</td>\n",
       "      <td>1060.588</td>\n",
       "      <td>1060.588</td>\n",
       "      <td>1060.588</td>\n",
       "      <td>2016-01-01 15:00:00+00:00</td>\n",
       "      <td>2016-01-01 10:00:00-05:00</td>\n",
       "      <td>0.0</td>\n",
       "      <td>0.0</td>\n",
       "      <td>0</td>\n",
       "      <td>0</td>\n",
       "      <td>0.0</td>\n",
       "      <td>15</td>\n",
       "      <td>0</td>\n",
       "      <td>0</td>\n",
       "    </tr>\n",
       "    <tr>\n",
       "      <th>3</th>\n",
       "      <td>2016-01-03T23:00:00.000000000Z</td>\n",
       "      <td>3977</td>\n",
       "      <td>1062.7</td>\n",
       "      <td>1066.887</td>\n",
       "      <td>1061.891</td>\n",
       "      <td>1063.238</td>\n",
       "      <td>2016-01-03 23:00:00+00:00</td>\n",
       "      <td>2016-01-03 18:00:00-05:00</td>\n",
       "      <td>0.538</td>\n",
       "      <td>4.996</td>\n",
       "      <td>3.649</td>\n",
       "      <td>0.809</td>\n",
       "      <td>0.538</td>\n",
       "      <td>23</td>\n",
       "      <td>0</td>\n",
       "      <td>0</td>\n",
       "    </tr>\n",
       "    <tr>\n",
       "      <th>4</th>\n",
       "      <td>2016-01-04T00:00:00.000000000Z</td>\n",
       "      <td>3792</td>\n",
       "      <td>1063.354</td>\n",
       "      <td>1064.986</td>\n",
       "      <td>1062.84</td>\n",
       "      <td>1064.727</td>\n",
       "      <td>2016-01-04 00:00:00+00:00</td>\n",
       "      <td>2016-01-03 19:00:00-05:00</td>\n",
       "      <td>1.373</td>\n",
       "      <td>2.146</td>\n",
       "      <td>0.259</td>\n",
       "      <td>0.514</td>\n",
       "      <td>1.373</td>\n",
       "      <td>0</td>\n",
       "      <td>0</td>\n",
       "      <td>0</td>\n",
       "    </tr>\n",
       "  </tbody>\n",
       "</table>\n",
       "</div>"
      ],
      "text/plain": [
       "                             time volume         o         h         l  \\\n",
       "0  2016-01-01T13:00:00.000000000Z      2  1060.588  1060.588  1060.588   \n",
       "1  2016-01-01T14:00:00.000000000Z      1  1060.588  1060.588  1060.588   \n",
       "2  2016-01-01T15:00:00.000000000Z      1  1060.588  1060.588  1060.588   \n",
       "3  2016-01-03T23:00:00.000000000Z   3977    1062.7  1066.887  1061.891   \n",
       "4  2016-01-04T00:00:00.000000000Z   3792  1063.354  1064.986   1062.84   \n",
       "\n",
       "          c              utc_timestamp              est_timestamp  \\\n",
       "0  1060.588  2016-01-01 13:00:00+00:00  2016-01-01 08:00:00-05:00   \n",
       "1  1060.588  2016-01-01 14:00:00+00:00  2016-01-01 09:00:00-05:00   \n",
       "2  1060.588  2016-01-01 15:00:00+00:00  2016-01-01 10:00:00-05:00   \n",
       "3  1063.238  2016-01-03 23:00:00+00:00  2016-01-03 18:00:00-05:00   \n",
       "4  1064.727  2016-01-04 00:00:00+00:00  2016-01-03 19:00:00-05:00   \n",
       "\n",
       "  delta_vector delta_max upper_wick lower_wick  delta hour_col xau_morning  \\\n",
       "0          0.0       0.0          0          0    0.0       13           0   \n",
       "1          0.0       0.0          0          0    0.0       14           0   \n",
       "2          0.0       0.0          0          0    0.0       15           0   \n",
       "3        0.538     4.996      3.649      0.809  0.538       23           0   \n",
       "4        1.373     2.146      0.259      0.514  1.373        0           0   \n",
       "\n",
       "  support_indicator  \n",
       "0                 0  \n",
       "1                 0  \n",
       "2                 0  \n",
       "3                 0  \n",
       "4                 0  "
      ]
     },
     "execution_count": 42,
     "metadata": {},
     "output_type": "execute_result"
    }
   ],
   "source": [
    "def get_support(df):\n",
    "    c = df.columns.get_loc('c')\n",
    "    o = df.columns.get_loc('o')\n",
    "    l = df.columns.get_loc('l')\n",
    "    df['support_indicator'] = 0\n",
    "    new_col = df.columns.get_loc('support_indicator')\n",
    "    d = df.columns.get_loc('delta')\n",
    "    \n",
    "    arr = df.values\n",
    "    for i in range(arr.shape[0]):\n",
    "        if arr[i,c] == arr[i,l] and arr[i,c] < arr[i,o] and arr[i,d] > 0:\n",
    "            arr[i + 1,new_col] = 1\n",
    "    df = pd.DataFrame(arr,columns = df.columns)\n",
    "    print('SHAPE',df[df['support_indicator'] == 1].shape)\n",
    "    return df\n",
    "df = get_support(df)\n",
    "df.head()"
   ]
  },
  {
   "cell_type": "code",
   "execution_count": 43,
   "metadata": {},
   "outputs": [
    {
     "data": {
      "text/plain": [
       "-0.11549647887323919"
      ]
     },
     "execution_count": 43,
     "metadata": {},
     "output_type": "execute_result"
    }
   ],
   "source": [
    "df[df['support_indicator'] == 1]['delta_vector'].mean()"
   ]
  },
  {
   "cell_type": "code",
   "execution_count": 44,
   "metadata": {},
   "outputs": [
    {
     "data": {
      "text/plain": [
       "0.7630571428571427"
      ]
     },
     "execution_count": 44,
     "metadata": {},
     "output_type": "execute_result"
    }
   ],
   "source": [
    "df[(df['support_indicator'] == 1) & (df['delta_vector'] < 0)]['upper_wick'].mean()"
   ]
  },
  {
   "cell_type": "code",
   "execution_count": null,
   "metadata": {},
   "outputs": [],
   "source": []
  },
  {
   "cell_type": "code",
   "execution_count": null,
   "metadata": {},
   "outputs": [],
   "source": []
  },
  {
   "cell_type": "code",
   "execution_count": 29,
   "metadata": {},
   "outputs": [
    {
     "data": {
      "text/plain": [
       "-0.0887812499999967"
      ]
     },
     "execution_count": 29,
     "metadata": {},
     "output_type": "execute_result"
    }
   ],
   "source": [
    "df[df['support_indicator'] == 1]['delta_vector'].mean()"
   ]
  },
  {
   "cell_type": "code",
   "execution_count": 27,
   "metadata": {},
   "outputs": [
    {
     "data": {
      "text/plain": [
       "-0.39017647058823757"
      ]
     },
     "execution_count": 27,
     "metadata": {},
     "output_type": "execute_result"
    }
   ],
   "source": [
    "df[df['support_indicator'] == 1]['delta_vector'].mean()"
   ]
  },
  {
   "cell_type": "code",
   "execution_count": null,
   "metadata": {},
   "outputs": [],
   "source": []
  },
  {
   "cell_type": "code",
   "execution_count": null,
   "metadata": {},
   "outputs": [],
   "source": []
  },
  {
   "cell_type": "code",
   "execution_count": null,
   "metadata": {},
   "outputs": [],
   "source": []
  },
  {
   "cell_type": "code",
   "execution_count": 17,
   "metadata": {},
   "outputs": [
    {
     "data": {
      "text/plain": [
       "-0.11549647887323919"
      ]
     },
     "execution_count": 17,
     "metadata": {},
     "output_type": "execute_result"
    }
   ],
   "source": [
    "df[df['support_indicator'] == 1]['delta_vector'].mean()"
   ]
  },
  {
   "cell_type": "code",
   "execution_count": null,
   "metadata": {},
   "outputs": [],
   "source": []
  },
  {
   "cell_type": "code",
   "execution_count": 16,
   "metadata": {},
   "outputs": [
    {
     "data": {
      "text/plain": [
       "1.7627330025067762"
      ]
     },
     "execution_count": 16,
     "metadata": {},
     "output_type": "execute_result"
    }
   ],
   "source": [
    "df['delta'].mean()"
   ]
  },
  {
   "cell_type": "code",
   "execution_count": 19,
   "metadata": {},
   "outputs": [
    {
     "data": {
      "text/plain": [
       "96"
      ]
     },
     "execution_count": 19,
     "metadata": {},
     "output_type": "execute_result"
    }
   ],
   "source": [
    "24 * 4"
   ]
  },
  {
   "cell_type": "code",
   "execution_count": null,
   "metadata": {},
   "outputs": [],
   "source": []
  },
  {
   "cell_type": "code",
   "execution_count": 13,
   "metadata": {},
   "outputs": [
    {
     "data": {
      "text/plain": [
       "(284, 16)"
      ]
     },
     "execution_count": 13,
     "metadata": {},
     "output_type": "execute_result"
    }
   ],
   "source": [
    "df[df['support_indicator'] == 1].shape"
   ]
  },
  {
   "cell_type": "code",
   "execution_count": 8,
   "metadata": {},
   "outputs": [
    {
     "data": {
      "text/plain": [
       "(326, 15)"
      ]
     },
     "execution_count": 8,
     "metadata": {},
     "output_type": "execute_result"
    }
   ],
   "source": [
    "df[df['c'] == df['h']].shape"
   ]
  },
  {
   "cell_type": "code",
   "execution_count": null,
   "metadata": {},
   "outputs": [],
   "source": []
  },
  {
   "cell_type": "code",
   "execution_count": null,
   "metadata": {},
   "outputs": [],
   "source": []
  },
  {
   "cell_type": "code",
   "execution_count": 60,
   "metadata": {},
   "outputs": [
    {
     "name": "stdout",
     "output_type": "stream",
     "text": [
      "PATH: /Users/aidanmcconnell/Documents/MARKET_ANALYTICS/forex/Macro/EUR_USD_H1/2016-01-01_2022-07-31.csv\n",
      "(41152, 15)\n",
      "SHAPE (48, 16)\n"
     ]
    },
    {
     "data": {
      "text/html": [
       "<div>\n",
       "<style scoped>\n",
       "    .dataframe tbody tr th:only-of-type {\n",
       "        vertical-align: middle;\n",
       "    }\n",
       "\n",
       "    .dataframe tbody tr th {\n",
       "        vertical-align: top;\n",
       "    }\n",
       "\n",
       "    .dataframe thead th {\n",
       "        text-align: right;\n",
       "    }\n",
       "</style>\n",
       "<table border=\"1\" class=\"dataframe\">\n",
       "  <thead>\n",
       "    <tr style=\"text-align: right;\">\n",
       "      <th></th>\n",
       "      <th>time</th>\n",
       "      <th>volume</th>\n",
       "      <th>o</th>\n",
       "      <th>h</th>\n",
       "      <th>l</th>\n",
       "      <th>c</th>\n",
       "      <th>utc_timestamp</th>\n",
       "      <th>est_timestamp</th>\n",
       "      <th>delta_vector</th>\n",
       "      <th>delta_max</th>\n",
       "      <th>upper_wick</th>\n",
       "      <th>lower_wick</th>\n",
       "      <th>delta</th>\n",
       "      <th>hour_col</th>\n",
       "      <th>xau_morning</th>\n",
       "      <th>support_indicator</th>\n",
       "    </tr>\n",
       "  </thead>\n",
       "  <tbody>\n",
       "    <tr>\n",
       "      <th>0</th>\n",
       "      <td>2016-01-03T22:00:00.000000000Z</td>\n",
       "      <td>289</td>\n",
       "      <td>1.08743</td>\n",
       "      <td>1.08746</td>\n",
       "      <td>1.08667</td>\n",
       "      <td>1.0867</td>\n",
       "      <td>2016-01-03 22:00:00+00:00</td>\n",
       "      <td>2016-01-03 17:00:00-05:00</td>\n",
       "      <td>-0.00073</td>\n",
       "      <td>0.00079</td>\n",
       "      <td>0.00003</td>\n",
       "      <td>0.00003</td>\n",
       "      <td>0.00073</td>\n",
       "      <td>22</td>\n",
       "      <td>0</td>\n",
       "      <td>0</td>\n",
       "    </tr>\n",
       "    <tr>\n",
       "      <th>1</th>\n",
       "      <td>2016-01-03T23:00:00.000000000Z</td>\n",
       "      <td>911</td>\n",
       "      <td>1.08665</td>\n",
       "      <td>1.0867</td>\n",
       "      <td>1.08454</td>\n",
       "      <td>1.08519</td>\n",
       "      <td>2016-01-03 23:00:00+00:00</td>\n",
       "      <td>2016-01-03 18:00:00-05:00</td>\n",
       "      <td>-0.00146</td>\n",
       "      <td>0.00216</td>\n",
       "      <td>0.00005</td>\n",
       "      <td>0.00065</td>\n",
       "      <td>0.00146</td>\n",
       "      <td>23</td>\n",
       "      <td>0</td>\n",
       "      <td>0</td>\n",
       "    </tr>\n",
       "    <tr>\n",
       "      <th>2</th>\n",
       "      <td>2016-01-04T00:00:00.000000000Z</td>\n",
       "      <td>794</td>\n",
       "      <td>1.08524</td>\n",
       "      <td>1.08578</td>\n",
       "      <td>1.08432</td>\n",
       "      <td>1.08454</td>\n",
       "      <td>2016-01-04 00:00:00+00:00</td>\n",
       "      <td>2016-01-03 19:00:00-05:00</td>\n",
       "      <td>-0.0007</td>\n",
       "      <td>0.00146</td>\n",
       "      <td>0.00054</td>\n",
       "      <td>0.00022</td>\n",
       "      <td>0.0007</td>\n",
       "      <td>0</td>\n",
       "      <td>0</td>\n",
       "      <td>0</td>\n",
       "    </tr>\n",
       "    <tr>\n",
       "      <th>3</th>\n",
       "      <td>2016-01-04T01:00:00.000000000Z</td>\n",
       "      <td>1565</td>\n",
       "      <td>1.08456</td>\n",
       "      <td>1.08617</td>\n",
       "      <td>1.08271</td>\n",
       "      <td>1.08597</td>\n",
       "      <td>2016-01-04 01:00:00+00:00</td>\n",
       "      <td>2016-01-03 20:00:00-05:00</td>\n",
       "      <td>0.00141</td>\n",
       "      <td>0.00346</td>\n",
       "      <td>0.0002</td>\n",
       "      <td>0.00185</td>\n",
       "      <td>0.00141</td>\n",
       "      <td>1</td>\n",
       "      <td>0</td>\n",
       "      <td>0</td>\n",
       "    </tr>\n",
       "    <tr>\n",
       "      <th>4</th>\n",
       "      <td>2016-01-04T02:00:00.000000000Z</td>\n",
       "      <td>1728</td>\n",
       "      <td>1.086</td>\n",
       "      <td>1.08757</td>\n",
       "      <td>1.08586</td>\n",
       "      <td>1.08716</td>\n",
       "      <td>2016-01-04 02:00:00+00:00</td>\n",
       "      <td>2016-01-03 21:00:00-05:00</td>\n",
       "      <td>0.00116</td>\n",
       "      <td>0.00171</td>\n",
       "      <td>0.00041</td>\n",
       "      <td>0.00014</td>\n",
       "      <td>0.00116</td>\n",
       "      <td>2</td>\n",
       "      <td>0</td>\n",
       "      <td>0</td>\n",
       "    </tr>\n",
       "  </tbody>\n",
       "</table>\n",
       "</div>"
      ],
      "text/plain": [
       "                             time volume        o        h        l        c  \\\n",
       "0  2016-01-03T22:00:00.000000000Z    289  1.08743  1.08746  1.08667   1.0867   \n",
       "1  2016-01-03T23:00:00.000000000Z    911  1.08665   1.0867  1.08454  1.08519   \n",
       "2  2016-01-04T00:00:00.000000000Z    794  1.08524  1.08578  1.08432  1.08454   \n",
       "3  2016-01-04T01:00:00.000000000Z   1565  1.08456  1.08617  1.08271  1.08597   \n",
       "4  2016-01-04T02:00:00.000000000Z   1728    1.086  1.08757  1.08586  1.08716   \n",
       "\n",
       "               utc_timestamp              est_timestamp delta_vector  \\\n",
       "0  2016-01-03 22:00:00+00:00  2016-01-03 17:00:00-05:00     -0.00073   \n",
       "1  2016-01-03 23:00:00+00:00  2016-01-03 18:00:00-05:00     -0.00146   \n",
       "2  2016-01-04 00:00:00+00:00  2016-01-03 19:00:00-05:00      -0.0007   \n",
       "3  2016-01-04 01:00:00+00:00  2016-01-03 20:00:00-05:00      0.00141   \n",
       "4  2016-01-04 02:00:00+00:00  2016-01-03 21:00:00-05:00      0.00116   \n",
       "\n",
       "  delta_max upper_wick lower_wick    delta hour_col xau_morning  \\\n",
       "0   0.00079    0.00003    0.00003  0.00073       22           0   \n",
       "1   0.00216    0.00005    0.00065  0.00146       23           0   \n",
       "2   0.00146    0.00054    0.00022   0.0007        0           0   \n",
       "3   0.00346     0.0002    0.00185  0.00141        1           0   \n",
       "4   0.00171    0.00041    0.00014  0.00116        2           0   \n",
       "\n",
       "  support_indicator  \n",
       "0                 0  \n",
       "1                 0  \n",
       "2                 0  \n",
       "3                 0  \n",
       "4                 0  "
      ]
     },
     "execution_count": 60,
     "metadata": {},
     "output_type": "execute_result"
    }
   ],
   "source": [
    "def get_support(df):\n",
    "    c = df.columns.get_loc('c')\n",
    "    o = df.columns.get_loc('o')\n",
    "    l = df.columns.get_loc('l')\n",
    "    df['support_indicator'] = 0\n",
    "    new_col = df.columns.get_loc('support_indicator')\n",
    "    d = df.columns.get_loc('delta')\n",
    "    \n",
    "    arr = df.values\n",
    "    for i in range(arr.shape[0]):\n",
    "        if arr[i,c] == arr[i,l] and arr[i,o] - arr[i,c] >= .001 and arr[i,d] > 0 and arr[i,c] <= arr[i - 100,c] - .005:\n",
    "            arr[i + 1,new_col] = 1\n",
    "    df = pd.DataFrame(arr,columns = df.columns)\n",
    "    print('SHAPE',df[df['support_indicator'] == 1].shape)\n",
    "    return df\n",
    "\n",
    "pair = 'EUR_USD'\n",
    "df = load_df(pair = pair,granularity ='H1',start = datetime(2016,1,1,0,0,0),end = datetime(2022,7,31,0,0,0))\n",
    "df = get_support(df)\n",
    "df.head()"
   ]
  },
  {
   "cell_type": "code",
   "execution_count": null,
   "metadata": {},
   "outputs": [],
   "source": []
  },
  {
   "cell_type": "code",
   "execution_count": 51,
   "metadata": {},
   "outputs": [
    {
     "data": {
      "text/plain": [
       "5.923076923076929e-05"
      ]
     },
     "execution_count": 51,
     "metadata": {},
     "output_type": "execute_result"
    }
   ],
   "source": [
    "df[df['support_indicator'] == 1]['delta_vector'].mean()"
   ]
  },
  {
   "cell_type": "code",
   "execution_count": 47,
   "metadata": {},
   "outputs": [
    {
     "data": {
      "text/plain": [
       "0.00027522727272727676"
      ]
     },
     "execution_count": 47,
     "metadata": {},
     "output_type": "execute_result"
    }
   ],
   "source": [
    "df[(df['support_indicator'] == 1) & (df['delta_vector'] < 0)]['upper_wick'].mean()\n"
   ]
  },
  {
   "cell_type": "code",
   "execution_count": 52,
   "metadata": {},
   "outputs": [
    {
     "data": {
      "text/plain": [
       "0.00030494505494505674"
      ]
     },
     "execution_count": 52,
     "metadata": {},
     "output_type": "execute_result"
    }
   ],
   "source": [
    "df[(df['support_indicator'] == 1)]['upper_wick'].mean()"
   ]
  },
  {
   "cell_type": "code",
   "execution_count": 53,
   "metadata": {},
   "outputs": [
    {
     "data": {
      "text/plain": [
       "3.0494505494505675"
      ]
     },
     "execution_count": 53,
     "metadata": {},
     "output_type": "execute_result"
    }
   ],
   "source": [
    "(df[(df['support_indicator'] == 1)]['upper_wick'].mean()) * 10000"
   ]
  },
  {
   "cell_type": "code",
   "execution_count": 54,
   "metadata": {},
   "outputs": [
    {
     "data": {
      "text/plain": [
       "0.5923076923076929"
      ]
     },
     "execution_count": 54,
     "metadata": {},
     "output_type": "execute_result"
    }
   ],
   "source": [
    "(df[df['support_indicator'] == 1]['delta_vector'].mean()) * 10000"
   ]
  },
  {
   "cell_type": "code",
   "execution_count": 57,
   "metadata": {},
   "outputs": [
    {
     "data": {
      "text/plain": [
       "-0.40689655172404715"
      ]
     },
     "execution_count": 57,
     "metadata": {},
     "output_type": "execute_result"
    }
   ],
   "source": [
    "(df[df['support_indicator'] == 1]['delta_vector'].mean()) * 10000"
   ]
  },
  {
   "cell_type": "code",
   "execution_count": 61,
   "metadata": {},
   "outputs": [
    {
     "data": {
      "text/plain": [
       "2.9249999999999647"
      ]
     },
     "execution_count": 61,
     "metadata": {},
     "output_type": "execute_result"
    }
   ],
   "source": [
    "(df[df['support_indicator'] == 1]['delta_vector'].mean()) * 10000"
   ]
  },
  {
   "cell_type": "code",
   "execution_count": 62,
   "metadata": {},
   "outputs": [
    {
     "data": {
      "text/plain": [
       "3.564583333333417"
      ]
     },
     "execution_count": 62,
     "metadata": {},
     "output_type": "execute_result"
    }
   ],
   "source": [
    "(df[(df['support_indicator'] == 1)]['lower_wick'].mean()) * 10000"
   ]
  },
  {
   "cell_type": "code",
   "execution_count": 64,
   "metadata": {},
   "outputs": [
    {
     "data": {
      "text/plain": [
       "3.2312500000001436"
      ]
     },
     "execution_count": 64,
     "metadata": {},
     "output_type": "execute_result"
    }
   ],
   "source": [
    "(df[(df['support_indicator'] == 1) & (df['delta_vector'] > 0)]['lower_wick'].mean()) * 10000"
   ]
  },
  {
   "cell_type": "code",
   "execution_count": 65,
   "metadata": {},
   "outputs": [
    {
     "data": {
      "text/plain": [
       "(32, 16)"
      ]
     },
     "execution_count": 65,
     "metadata": {},
     "output_type": "execute_result"
    }
   ],
   "source": [
    "wins = df[(df['support_indicator'] == 1) & (df['delta_vector'] > 0)]\n",
    "wins = wins.sort_values(by = 'delta_vector',ascending = False)\n",
    "wins.shape"
   ]
  },
  {
   "cell_type": "code",
   "execution_count": 66,
   "metadata": {},
   "outputs": [
    {
     "data": {
      "text/plain": [
       "8.212500000000025"
      ]
     },
     "execution_count": 66,
     "metadata": {},
     "output_type": "execute_result"
    }
   ],
   "source": [
    "(df[(df['support_indicator'] == 1) & (df['delta_vector'] > 0)]['delta_vector'].mean()) * 10000"
   ]
  },
  {
   "cell_type": "code",
   "execution_count": 71,
   "metadata": {},
   "outputs": [
    {
     "data": {
      "text/plain": [
       "(20, 16)"
      ]
     },
     "execution_count": 71,
     "metadata": {},
     "output_type": "execute_result"
    }
   ],
   "source": [
    "df[(df['support_indicator'] == 1) & (df['delta_vector'] > 0) & (df['lower_wick'] >= .0001)].shape"
   ]
  },
  {
   "cell_type": "code",
   "execution_count": null,
   "metadata": {},
   "outputs": [],
   "source": []
  },
  {
   "cell_type": "code",
   "execution_count": 91,
   "metadata": {},
   "outputs": [
    {
     "name": "stdout",
     "output_type": "stream",
     "text": [
      "PATH: /Users/aidanmcconnell/Documents/MARKET_ANALYTICS/forex/Macro/EUR_USD_H1/2016-01-01_2022-07-31.csv\n",
      "(41152, 15)\n",
      "SHAPE (70, 16)\n"
     ]
    },
    {
     "data": {
      "text/html": [
       "<div>\n",
       "<style scoped>\n",
       "    .dataframe tbody tr th:only-of-type {\n",
       "        vertical-align: middle;\n",
       "    }\n",
       "\n",
       "    .dataframe tbody tr th {\n",
       "        vertical-align: top;\n",
       "    }\n",
       "\n",
       "    .dataframe thead th {\n",
       "        text-align: right;\n",
       "    }\n",
       "</style>\n",
       "<table border=\"1\" class=\"dataframe\">\n",
       "  <thead>\n",
       "    <tr style=\"text-align: right;\">\n",
       "      <th></th>\n",
       "      <th>time</th>\n",
       "      <th>volume</th>\n",
       "      <th>o</th>\n",
       "      <th>h</th>\n",
       "      <th>l</th>\n",
       "      <th>c</th>\n",
       "      <th>utc_timestamp</th>\n",
       "      <th>est_timestamp</th>\n",
       "      <th>delta_vector</th>\n",
       "      <th>delta_max</th>\n",
       "      <th>upper_wick</th>\n",
       "      <th>lower_wick</th>\n",
       "      <th>delta</th>\n",
       "      <th>hour_col</th>\n",
       "      <th>xau_morning</th>\n",
       "      <th>support_indicator</th>\n",
       "    </tr>\n",
       "  </thead>\n",
       "  <tbody>\n",
       "    <tr>\n",
       "      <th>0</th>\n",
       "      <td>2016-01-03T22:00:00.000000000Z</td>\n",
       "      <td>289</td>\n",
       "      <td>1.08743</td>\n",
       "      <td>1.08746</td>\n",
       "      <td>1.08667</td>\n",
       "      <td>1.0867</td>\n",
       "      <td>2016-01-03 22:00:00+00:00</td>\n",
       "      <td>2016-01-03 17:00:00-05:00</td>\n",
       "      <td>-0.00073</td>\n",
       "      <td>0.00079</td>\n",
       "      <td>0.00003</td>\n",
       "      <td>0.00003</td>\n",
       "      <td>0.00073</td>\n",
       "      <td>22</td>\n",
       "      <td>0</td>\n",
       "      <td>0</td>\n",
       "    </tr>\n",
       "    <tr>\n",
       "      <th>1</th>\n",
       "      <td>2016-01-03T23:00:00.000000000Z</td>\n",
       "      <td>911</td>\n",
       "      <td>1.08665</td>\n",
       "      <td>1.0867</td>\n",
       "      <td>1.08454</td>\n",
       "      <td>1.08519</td>\n",
       "      <td>2016-01-03 23:00:00+00:00</td>\n",
       "      <td>2016-01-03 18:00:00-05:00</td>\n",
       "      <td>-0.00146</td>\n",
       "      <td>0.00216</td>\n",
       "      <td>0.00005</td>\n",
       "      <td>0.00065</td>\n",
       "      <td>0.00146</td>\n",
       "      <td>23</td>\n",
       "      <td>0</td>\n",
       "      <td>0</td>\n",
       "    </tr>\n",
       "    <tr>\n",
       "      <th>2</th>\n",
       "      <td>2016-01-04T00:00:00.000000000Z</td>\n",
       "      <td>794</td>\n",
       "      <td>1.08524</td>\n",
       "      <td>1.08578</td>\n",
       "      <td>1.08432</td>\n",
       "      <td>1.08454</td>\n",
       "      <td>2016-01-04 00:00:00+00:00</td>\n",
       "      <td>2016-01-03 19:00:00-05:00</td>\n",
       "      <td>-0.0007</td>\n",
       "      <td>0.00146</td>\n",
       "      <td>0.00054</td>\n",
       "      <td>0.00022</td>\n",
       "      <td>0.0007</td>\n",
       "      <td>0</td>\n",
       "      <td>0</td>\n",
       "      <td>0</td>\n",
       "    </tr>\n",
       "    <tr>\n",
       "      <th>3</th>\n",
       "      <td>2016-01-04T01:00:00.000000000Z</td>\n",
       "      <td>1565</td>\n",
       "      <td>1.08456</td>\n",
       "      <td>1.08617</td>\n",
       "      <td>1.08271</td>\n",
       "      <td>1.08597</td>\n",
       "      <td>2016-01-04 01:00:00+00:00</td>\n",
       "      <td>2016-01-03 20:00:00-05:00</td>\n",
       "      <td>0.00141</td>\n",
       "      <td>0.00346</td>\n",
       "      <td>0.0002</td>\n",
       "      <td>0.00185</td>\n",
       "      <td>0.00141</td>\n",
       "      <td>1</td>\n",
       "      <td>0</td>\n",
       "      <td>0</td>\n",
       "    </tr>\n",
       "    <tr>\n",
       "      <th>4</th>\n",
       "      <td>2016-01-04T02:00:00.000000000Z</td>\n",
       "      <td>1728</td>\n",
       "      <td>1.086</td>\n",
       "      <td>1.08757</td>\n",
       "      <td>1.08586</td>\n",
       "      <td>1.08716</td>\n",
       "      <td>2016-01-04 02:00:00+00:00</td>\n",
       "      <td>2016-01-03 21:00:00-05:00</td>\n",
       "      <td>0.00116</td>\n",
       "      <td>0.00171</td>\n",
       "      <td>0.00041</td>\n",
       "      <td>0.00014</td>\n",
       "      <td>0.00116</td>\n",
       "      <td>2</td>\n",
       "      <td>0</td>\n",
       "      <td>0</td>\n",
       "    </tr>\n",
       "  </tbody>\n",
       "</table>\n",
       "</div>"
      ],
      "text/plain": [
       "                             time volume        o        h        l        c  \\\n",
       "0  2016-01-03T22:00:00.000000000Z    289  1.08743  1.08746  1.08667   1.0867   \n",
       "1  2016-01-03T23:00:00.000000000Z    911  1.08665   1.0867  1.08454  1.08519   \n",
       "2  2016-01-04T00:00:00.000000000Z    794  1.08524  1.08578  1.08432  1.08454   \n",
       "3  2016-01-04T01:00:00.000000000Z   1565  1.08456  1.08617  1.08271  1.08597   \n",
       "4  2016-01-04T02:00:00.000000000Z   1728    1.086  1.08757  1.08586  1.08716   \n",
       "\n",
       "               utc_timestamp              est_timestamp delta_vector  \\\n",
       "0  2016-01-03 22:00:00+00:00  2016-01-03 17:00:00-05:00     -0.00073   \n",
       "1  2016-01-03 23:00:00+00:00  2016-01-03 18:00:00-05:00     -0.00146   \n",
       "2  2016-01-04 00:00:00+00:00  2016-01-03 19:00:00-05:00      -0.0007   \n",
       "3  2016-01-04 01:00:00+00:00  2016-01-03 20:00:00-05:00      0.00141   \n",
       "4  2016-01-04 02:00:00+00:00  2016-01-03 21:00:00-05:00      0.00116   \n",
       "\n",
       "  delta_max upper_wick lower_wick    delta hour_col xau_morning  \\\n",
       "0   0.00079    0.00003    0.00003  0.00073       22           0   \n",
       "1   0.00216    0.00005    0.00065  0.00146       23           0   \n",
       "2   0.00146    0.00054    0.00022   0.0007        0           0   \n",
       "3   0.00346     0.0002    0.00185  0.00141        1           0   \n",
       "4   0.00171    0.00041    0.00014  0.00116        2           0   \n",
       "\n",
       "  support_indicator  \n",
       "0                 0  \n",
       "1                 0  \n",
       "2                 0  \n",
       "3                 0  \n",
       "4                 0  "
      ]
     },
     "execution_count": 91,
     "metadata": {},
     "output_type": "execute_result"
    }
   ],
   "source": [
    "def get_support(df):\n",
    "    c = df.columns.get_loc('c')\n",
    "    o = df.columns.get_loc('o')\n",
    "    l = df.columns.get_loc('l')\n",
    "    df['support_indicator'] = 0\n",
    "    new_col = df.columns.get_loc('support_indicator')\n",
    "    d = df.columns.get_loc('delta')\n",
    "    \n",
    "    arr = df.values\n",
    "    for i in range(arr.shape[0]):\n",
    "        if arr[i,c] == arr[i,l] and arr[i,o] - arr[i,c] >= .0007 and arr[i,d] > 0 and arr[i,c] <= arr[i - 150,c] - .008:\n",
    "            arr[i + 1,new_col] = 1\n",
    "    df = pd.DataFrame(arr,columns = df.columns)\n",
    "    print('SHAPE',df[df['support_indicator'] == 1].shape)\n",
    "    return df\n",
    "\n",
    "pair = 'EUR_USD'\n",
    "df = load_df(pair = pair,granularity ='H1',start = datetime(2016,1,1,0,0,0),end = datetime(2022,7,31,0,0,0))\n",
    "df = get_support(df)\n",
    "df.head()"
   ]
  },
  {
   "cell_type": "code",
   "execution_count": null,
   "metadata": {},
   "outputs": [],
   "source": []
  },
  {
   "cell_type": "code",
   "execution_count": 107,
   "metadata": {},
   "outputs": [
    {
     "name": "stdout",
     "output_type": "stream",
     "text": [
      "PATH: /Users/aidanmcconnell/Documents/MARKET_ANALYTICS/forex/Macro/EUR_USD_H1/2016-01-01_2022-07-31.csv\n",
      "(41152, 15)\n",
      "SHAPE (47, 16)\n",
      "MEDIAN:\n",
      "next_hour           0.8\n",
      "next_two_hours      3.9\n",
      "next_three_hours    1.6\n",
      "next_four_hours     8.0\n",
      "next_five_hours     5.2\n",
      "next_six_hours      6.7\n",
      "dtype: float64\n",
      "\n",
      "MEAN:\n",
      "next_hour            1.812766\n",
      "next_two_hours       6.221277\n",
      "next_three_hours     6.412766\n",
      "next_four_hours      8.385106\n",
      "next_five_hours      6.502128\n",
      "next_six_hours      10.108511\n",
      "dtype: float64\n",
      "\n",
      "SUM:\n",
      "   next_hour  next_two_hours  next_three_hours  next_four_hours  \\\n",
      "0       85.2           292.4             301.4            394.1   \n",
      "\n",
      "   next_five_hours  next_six_hours  \n",
      "0            305.6           475.1  \n",
      "None\n",
      "MEDIAN:\n",
      "current_hour        -7.20\n",
      "next_hour          -10.85\n",
      "next_two_hours      -5.90\n",
      "next_three_hours    -8.40\n",
      "next_four_hours     -6.45\n",
      "next_five_hours     -7.00\n",
      "next_six_hours      -6.90\n",
      "dtype: float64\n",
      "\n",
      "MEAN:\n",
      "current_hour        -9.01250\n",
      "next_hour          -12.89375\n",
      "next_two_hours     -12.03750\n",
      "next_three_hours   -12.05000\n",
      "next_four_hours    -13.21875\n",
      "next_five_hours    -13.24375\n",
      "next_six_hours      -9.05625\n",
      "dtype: float64\n",
      "\n",
      "SUM:\n",
      "   current_hour  next_hour  next_two_hours  next_three_hours  next_four_hours  \\\n",
      "0        -144.2     -206.3          -192.6            -192.8           -211.5   \n",
      "\n",
      "   next_five_hours  next_six_hours  \n",
      "0           -211.9          -144.9  \n",
      "None\n",
      "MEDIAN:\n",
      "current_hour         5.65\n",
      "next_hour            8.85\n",
      "next_two_hours      15.30\n",
      "next_three_hours    16.75\n",
      "next_four_hours     22.55\n",
      "next_five_hours     14.90\n",
      "next_six_hours      22.95\n",
      "dtype: float64\n",
      "\n",
      "MEAN:\n",
      "current_hour         8.220000\n",
      "next_hour           13.230000\n",
      "next_two_hours      19.146667\n",
      "next_three_hours    19.453333\n",
      "next_four_hours     23.096667\n",
      "next_five_hours     20.450000\n",
      "next_six_hours      23.546667\n",
      "dtype: float64\n",
      "\n",
      "SUM:\n",
      "   current_hour  next_hour  next_two_hours  next_three_hours  next_four_hours  \\\n",
      "0         246.6      396.9           574.4             583.6            692.9   \n",
      "\n",
      "   next_five_hours  next_six_hours  \n",
      "0            613.5           706.4  \n",
      "None\n",
      "TESTING DRAWDOWN\n",
      "MEDIAN:\n",
      "current_hour         5.65\n",
      "next_hour           -2.00\n",
      "next_two_hours      -3.05\n",
      "next_three_hours    -7.90\n",
      "next_four_hours    -12.40\n",
      "next_five_hours     -6.80\n",
      "next_six_hours     -10.45\n",
      "dtype: float64\n",
      "\n",
      "MEAN:\n",
      "current_hour         8.220000\n",
      "next_hour           -3.056667\n",
      "next_two_hours      -6.573333\n",
      "next_three_hours   -10.626667\n",
      "next_four_hours    -12.513333\n",
      "next_five_hours    -13.036667\n",
      "next_six_hours     -13.706667\n",
      "dtype: float64\n",
      "\n",
      "SUM:\n",
      "   current_hour  next_hour  next_two_hours  next_three_hours  next_four_hours  \\\n",
      "0         246.6      -91.7          -197.2            -318.8           -375.4   \n",
      "\n",
      "   next_five_hours  next_six_hours  \n",
      "0           -391.1          -411.2  \n",
      "None\n"
     ]
    }
   ],
   "source": [
    "def test_future(df,pair,column = 'support_indicator'):\n",
    "    if 'JPY' in pair:\n",
    "        mult = 100\n",
    "    else:\n",
    "        mult = 100 * 100\n",
    "    c_col = df.columns.get_loc('c')\n",
    "    col = df.columns.get_loc(column)\n",
    "    \n",
    "    lst = []\n",
    "    arr = df.values\n",
    "    for i in range(arr.shape[0] - 101):\n",
    "        if arr[i,col] == 1:\n",
    "            c = arr[i,c_col]\n",
    "\n",
    "            lst.append([mult * (arr[i + 1,c_col] - c),\n",
    "                        mult * (arr[i + 2,c_col] - c),\n",
    "                        mult * (arr[i + 3,c_col] - c),\n",
    "                        mult * (arr[i + 4,c_col] - c), \n",
    "                        mult * (arr[i + 5,c_col] - c), \n",
    "                        mult * (arr[i + 6,c_col] - c)\n",
    "                       ])\n",
    "    df2 = pd.DataFrame(lst,columns = ['next_hour','next_two_hours','next_three_hours','next_four_hours','next_five_hours','next_six_hours'])  \n",
    "    print('MEDIAN:')\n",
    "    print(df2.median())\n",
    "    print()\n",
    "    print('MEAN:')\n",
    "    print(df2.mean())\n",
    "    print()\n",
    "    print('SUM:')\n",
    "    print(print(pd.DataFrame(df2.sum()).T))\n",
    "    \n",
    "    return pd.DataFrame(df2.median(),columns = [pair]).T,pd.DataFrame(df2.mean(),columns = [pair]).T,pd.DataFrame(df2.sum(),columns = [pair]).T\n",
    "def test_future2(df,pair,column = 'support_indicator'):\n",
    "    if 'JPY' in pair:\n",
    "        mult = 100\n",
    "    else:\n",
    "        mult = 100 * 100\n",
    "    c_col = df.columns.get_loc('c')\n",
    "    col = df.columns.get_loc(column)\n",
    "    dv_col = df.columns.get_loc('delta_vector')\n",
    "    o_col = df.columns.get_loc('o')\n",
    "    \n",
    "    lst = []\n",
    "    arr = df.values\n",
    "    for i in range(arr.shape[0] - 101):\n",
    "        if arr[i,col] == 1 and arr[i,dv_col] < 0:\n",
    "            c = arr[i,o_col]\n",
    "\n",
    "            lst.append([mult * (arr[i ,c_col] - c),\n",
    "                mult * (arr[i + 1,c_col] - c),\n",
    "                        mult * (arr[i + 2,c_col] - c),\n",
    "                        mult * (arr[i + 3,c_col] - c),\n",
    "                        mult * (arr[i + 4,c_col] - c), \n",
    "                        mult * (arr[i + 5,c_col] - c), \n",
    "                        mult * (arr[i + 6,c_col] - c)\n",
    "                       ])\n",
    "    df2 = pd.DataFrame(lst,columns = ['current_hour','next_hour','next_two_hours','next_three_hours','next_four_hours','next_five_hours','next_six_hours'])  \n",
    "    print('MEDIAN:')\n",
    "    print(df2.median())\n",
    "    print()\n",
    "    print('MEAN:')\n",
    "    print(df2.mean())\n",
    "    print()\n",
    "    print('SUM:')\n",
    "    print(print(pd.DataFrame(df2.sum()).T))\n",
    "    \n",
    "    return pd.DataFrame(df2.median(),columns = [pair]).T,pd.DataFrame(df2.mean(),columns = [pair]).T,pd.DataFrame(df2.sum(),columns = [pair]).T\n",
    "\n",
    "def test_future3(df,pair,column = 'support_indicator'):\n",
    "    if 'JPY' in pair:\n",
    "        mult = 100\n",
    "    else:\n",
    "        mult = 100 * 100\n",
    "    c_col = df.columns.get_loc('c')\n",
    "    col = df.columns.get_loc(column)\n",
    "    dv_col = df.columns.get_loc('delta_vector')\n",
    "    o_col = df.columns.get_loc('o')\n",
    "    \n",
    "    lst = []\n",
    "    arr = df.values\n",
    "    for i in range(arr.shape[0] - 101):\n",
    "        if arr[i,col] == 1 and arr[i,dv_col] > 0:\n",
    "            c = arr[i,o_col]\n",
    "\n",
    "            lst.append([mult * (arr[i ,c_col] - c),\n",
    "                mult * (arr[i + 1,c_col] - c),\n",
    "                        mult * (arr[i + 2,c_col] - c),\n",
    "                        mult * (arr[i + 3,c_col] - c),\n",
    "                        mult * (arr[i + 4,c_col] - c), \n",
    "                        mult * (arr[i + 5,c_col] - c), \n",
    "                        mult * (arr[i + 6,c_col] - c)\n",
    "                       ])\n",
    "    df2 = pd.DataFrame(lst,columns = ['current_hour','next_hour','next_two_hours','next_three_hours','next_four_hours','next_five_hours','next_six_hours'])  \n",
    "    print('MEDIAN:')\n",
    "    print(df2.median())\n",
    "    print()\n",
    "    print('MEAN:')\n",
    "    print(df2.mean())\n",
    "    print()\n",
    "    print('SUM:')\n",
    "    print(print(pd.DataFrame(df2.sum()).T))\n",
    "    \n",
    "    return pd.DataFrame(df2.median(),columns = [pair]).T,pd.DataFrame(df2.mean(),columns = [pair]).T,pd.DataFrame(df2.sum(),columns = [pair]).T\n",
    "def test_future4(df,pair,column = 'support_indicator'):\n",
    "    if 'JPY' in pair:\n",
    "        mult = 100\n",
    "    else:\n",
    "        mult = 100 * 100\n",
    "        \n",
    "    print('TESTING DRAWDOWN')\n",
    "    c_col = df.columns.get_loc('c')\n",
    "    o_col = df.columns.get_loc('o')\n",
    "    l_col = df.columns.get_loc('l')\n",
    "    col = df.columns.get_loc(column)\n",
    "    dv_col = df.columns.get_loc('delta_vector')\n",
    "    \n",
    "    lst = []\n",
    "    arr = df.values\n",
    "    for i in range(arr.shape[0] - 101):\n",
    "        if arr[i,col] == 1 and arr[i,dv_col] > 0:\n",
    "            c = arr[i,o_col]\n",
    "\n",
    "            lst.append([mult * (arr[i ,c_col] - c),\n",
    "                        mult * (c - arr[i + 1,l_col]),\n",
    "                        mult * (c - arr[i + 2,l_col] ),\n",
    "                        mult * (c - arr[i + 3,l_col] ),\n",
    "                        mult * (c - arr[i + 4,l_col] ), \n",
    "                        mult * (c - arr[i + 5,l_col] ), \n",
    "                        mult * (c - arr[i + 6,l_col] )\n",
    "                       ])\n",
    "    df2 = pd.DataFrame(lst,columns = ['current_hour','next_hour','next_two_hours','next_three_hours','next_four_hours','next_five_hours','next_six_hours'])  \n",
    "    print('MEDIAN:')\n",
    "    print(df2.median())\n",
    "    print()\n",
    "    print('MEAN:')\n",
    "    print(df2.mean())\n",
    "    print()\n",
    "    print('SUM:')\n",
    "    print(print(pd.DataFrame(df2.sum()).T))\n",
    "    \n",
    "    return pd.DataFrame(df2.median(),columns = [pair]).T,pd.DataFrame(df2.mean(),columns = [pair]).T,pd.DataFrame(df2.sum(),columns = [pair]).T\n",
    "    return pd.DataFrame(df2.median(),columns = [pair]).T,pd.DataFrame(df2.mean(),columns = [pair]).T,pd.DataFrame(df2.sum(),columns = [pair]).T\n",
    "\n",
    "def get_support(df):\n",
    "    c = df.columns.get_loc('c')\n",
    "    o = df.columns.get_loc('o')\n",
    "    l = df.columns.get_loc('l')\n",
    "    df['support_indicator'] = 0\n",
    "    new_col = df.columns.get_loc('support_indicator')\n",
    "    d = df.columns.get_loc('delta')\n",
    "    \n",
    "    arr = df.values\n",
    "    for i in range(arr.shape[0]):\n",
    "        if arr[i,c] == arr[i,l] and arr[i,o] - arr[i,c] >= .001 and arr[i,d] > 0 and arr[i,c] <= arr[i - 150,c] - .008:\n",
    "            arr[i + 1,new_col] = 1\n",
    "    df = pd.DataFrame(arr,columns = df.columns)\n",
    "    print('SHAPE',df[df['support_indicator'] == 1].shape)\n",
    "    return df\n",
    "\n",
    "pair = 'EUR_USD'\n",
    "df = load_df(pair = pair,granularity ='H1',start = datetime(2016,1,1,0,0,0),end = datetime(2022,7,31,0,0,0))\n",
    "df = get_support(df)\n",
    "test = test_future(df,pair,column = 'support_indicator')\n",
    "test = test_future2(df,pair,column = 'support_indicator')\n",
    "test = test_future3(df,pair,column = 'support_indicator')\n",
    "test = test_future4(df,pair,column = 'support_indicator')\n",
    "    "
   ]
  },
  {
   "cell_type": "code",
   "execution_count": 112,
   "metadata": {},
   "outputs": [
    {
     "data": {
      "text/plain": [
       "1.02547"
      ]
     },
     "execution_count": 112,
     "metadata": {},
     "output_type": "execute_result"
    }
   ],
   "source": [
    "min(df['l'].iloc[i:i+5])"
   ]
  },
  {
   "cell_type": "code",
   "execution_count": 114,
   "metadata": {},
   "outputs": [
    {
     "name": "stdout",
     "output_type": "stream",
     "text": [
      "0.0\n",
      "0.0\n",
      "5.9000000000009045\n",
      "15.600000000000058\n",
      "0.0\n",
      "0.9999999999998899\n",
      "9.999999999998899\n",
      "0.0\n",
      "0.0\n",
      "4.20000000000087\n",
      "37.199999999999456\n",
      "0.20000000000131024\n",
      "8.60000000000083\n",
      "9.399999999999409\n",
      "0.0\n",
      "0.20000000000131024\n",
      "12.600000000000389\n",
      "7.900000000000684\n",
      "16.20000000000177\n",
      "1.100000000000545\n",
      "7.299999999998974\n",
      "1.80000000000069\n",
      "9.399999999999409\n",
      "4.20000000000087\n",
      "8.099999999999774\n",
      "10.699999999999044\n",
      "0.40000000000040004\n",
      "9.599999999998499\n",
      "7.800000000000029\n",
      "8.40000000000174\n"
     ]
    }
   ],
   "source": [
    "l_col = df.columns.get_loc('l')\n",
    "for i in range(df.shape[0]):\n",
    "    if df['support_indicator'].iloc[i] == 1 and df['delta_vector'].iloc[i] > 0:\n",
    "        c = df['o'].iloc[i]\n",
    "        min_ = min(df.iloc[i:i+5,l_col])\n",
    "        print(10000 * (c - min_))"
   ]
  },
  {
   "cell_type": "code",
   "execution_count": 133,
   "metadata": {},
   "outputs": [
    {
     "name": "stdout",
     "output_type": "stream",
     "text": [
      "WINS\n",
      "0.0 15.4 4.9 10.8 13.0\n",
      "0.0 53.4 45.6 51.3 50.9\n",
      "-5.9 11.4 -2.4 0.6 17.5\n",
      "-15.6 14.0 1.0 -8.8 -10.6\n",
      "0.0 32.9 24.4 25.3 31.5\n",
      "-1.0 44.4 35.7 42.8 44.8\n",
      "-10.1 43.2 15.7 -3.6 -3.4\n",
      "0.0 55.0 40.8 43.8 43.6\n",
      "0.0 63.1 45.5 60.9 78.1\n",
      "-4.2 26.4 24.4 25.8 11.0\n",
      "-45.0 9.8 -35.4 -33.0 -34.8\n",
      "-0.2 41.0 22.4 20.4 25.8\n",
      "-8.6 33.1 16.5 21.5 25.1\n",
      "-12.8 12.1 -4.0 -9.8 0.4\n",
      "0.0 72.9 35.6 50.8 68.2\n",
      "-2.0 49.3 33.8 10.0 28.7\n",
      "-12.6 29.2 9.4 13.7 -3.5\n",
      "-7.9 61.5 41.8 42.3 44.2\n",
      "-16.2 26.7 -5.2 -2.1 -8.1\n",
      "-1.1 35.5 16.7 16.1 14.2\n",
      "-7.6 12.3 -6.6 0.0 0.7\n",
      "-2.7 9.5 0.3 2.8 3.4\n",
      "-9.4 50.9 40.1 47.5 53.3\n",
      "-11.2 70.9 62.2 -10.4 -15.6\n",
      "-8.1 30.8 22.7 13.0 20.8\n",
      "-10.7 19.7 1.6 2.2 1.3\n",
      "-0.4 57.4 43.4 43.6 40.7\n",
      "-9.6 26.2 11.8 2.2 36.0\n",
      "-7.8 77.6 55.8 38.3 32.0\n",
      "-8.4 115.7 94.4 95.5 97.2\n",
      "WIN COUNT: 30\n",
      "\n",
      "LOSSES\n",
      "-7.3 36.2 26.4 28.7 39.4\n",
      "-109.7 0.8 -93.2 -83.6 -34.0\n",
      "-24.6 16.2 5.6 14.2 5.6\n",
      "-11.0 4.3 -7.1 -3.2 -6.5\n",
      "-50.6 6.2 -42.2 -44.7 -33.8\n",
      "-30.3 0.0 -20.4 -17.6 -21.1\n",
      "-10.4 1.4 -5.8 -4.2 -13.8\n",
      "-88.0 18.2 -79.8 -87.6 -89.1\n",
      "-43.0 6.2 -12.5 -10.4 -9.3\n",
      "-26.8 13.2 5.8 6.9 8.8\n",
      "-8.7 50.5 36.7 30.8 30.3\n",
      "-11.4 6.0 0.1 -11.2 -6.6\n",
      "-12.4 7.4 0.0 -2.8 -3.8\n",
      "-37.6 6.8 -20.0 -34.6 -25.8\n",
      "-12.4 5.0 -9.3 -9.8 -7.2\n",
      "-41.1 25.9 4.2 17.2 22.0\n",
      "Loss COUNT: 16\n"
     ]
    }
   ],
   "source": [
    "num_steps = 6\n",
    "l_col = df.columns.get_loc('l')\n",
    "h_col = df.columns.get_loc('h')\n",
    "c_col = df.columns.get_loc('c')\n",
    "print('WINS')\n",
    "l_col = df.columns.get_loc('l')\n",
    "h_col = df.columns.get_loc('h')\n",
    "wins = []\n",
    "losses = []\n",
    "for i in range(df.shape[0]):\n",
    "    if df['support_indicator'].iloc[i] == 1 and df['delta_vector'].iloc[i] > 0:\n",
    "        wins.append(1)\n",
    "        c = df['o'].iloc[i]\n",
    "        min_ = min(df.iloc[i:i+num_steps,l_col])\n",
    "        max_ = max(df.iloc[i:i+num_steps,h_col])\n",
    "        last = df.iloc[i+num_steps - 2,c_col]\n",
    "        last2 = df.iloc[i+num_steps - 1,c_col]\n",
    "        last3 = df.iloc[i+num_steps ,c_col]\n",
    "        val1 = round(10000 * (min_ - c),1)\n",
    "        val2 = round(10000 * (max_ - c),1)\n",
    "        val3 = round(10000 * (last - c),1)\n",
    "        val4 = round(10000 * (last2 - c),1)\n",
    "        val5 = round(10000 * (last3 - c),1)\n",
    "        print(val1,val2,val3,val4,val5)\n",
    "print('WIN COUNT:',len(wins))\n",
    "print()\n",
    "print('LOSSES')\n",
    "\n",
    "for i in range(df.shape[0]):\n",
    "    if df['support_indicator'].iloc[i] == 1 and df['delta_vector'].iloc[i] < 0:\n",
    "        losses.append(1)\n",
    "        c = df['o'].iloc[i]\n",
    "        min_ = min(df.iloc[i:i+num_steps,l_col])\n",
    "        max_ = max(df.iloc[i:i+num_steps,h_col])\n",
    "        last = df.iloc[i+num_steps - 2,c_col]\n",
    "        last2 = df.iloc[i+num_steps - 1,c_col]\n",
    "        last3 = df.iloc[i+num_steps ,c_col]\n",
    "        val1 = round(10000 * (min_ - c),1)\n",
    "        val2 = round(10000 * (max_ - c),1)\n",
    "        val3 = round(10000 * (last - c),1)\n",
    "        val4 = round(10000 * (last2 - c),1)\n",
    "        val5 = round(10000 * (last3 - c),1)\n",
    "        print(val1,val2,val3,val4,val5)\n",
    "print('Loss COUNT:',len(losses))"
   ]
  },
  {
   "cell_type": "code",
   "execution_count": 145,
   "metadata": {},
   "outputs": [
    {
     "name": "stdout",
     "output_type": "stream",
     "text": [
      "26\n",
      "31\n",
      "21\n",
      "11\n",
      "51\n",
      "49\n",
      "39\n",
      "29\n",
      "19\n",
      "9\n",
      "-1\n",
      "23\n",
      "13\n",
      "49\n",
      "39\n",
      "79\n",
      "119\n",
      "143\n",
      "133\n",
      "155\n",
      "145\n",
      "135\n",
      "151\n",
      "191\n",
      "181\n",
      "171\n",
      "211\n",
      "201\n",
      "241\n",
      "231\n",
      "271\n",
      "261\n",
      "251\n",
      "241\n",
      "258\n",
      "251\n",
      "251\n",
      "241\n",
      "281\n",
      "304\n",
      "294\n",
      "284\n",
      "324\n",
      "314\n",
      "354\n",
      "344\n",
      "384\n",
      "384\n"
     ]
    }
   ],
   "source": [
    "def test_results(df):\n",
    "    \n",
    "    l_col = df.columns.get_loc('l')\n",
    "    h_col = df.columns.get_loc('h')\n",
    "    o_col = df.columns.get_loc('o')\n",
    "    col = df.columns.get_loc('support_indicator')\n",
    "    \n",
    "    arr = df.values\n",
    "    sl = 10\n",
    "    tp = 40\n",
    "    steps_ahead = 5\n",
    "    \n",
    "    final_pips = 0\n",
    "    for i in range(arr.shape[0]):\n",
    "        if arr[i,col] == 1:\n",
    "            val = arr[i,o_col]\n",
    "            low = 10000*(val - min(arr[i:i + steps_ahead,l_col]))\n",
    "            high = 10000*(max(arr[i:i + steps_ahead,h_col]) - val)\n",
    "            last = 10000*(arr[i + steps_ahead - 1,c_col] - val)\n",
    "            \n",
    "            if low + 1 >= sl:\n",
    "                final_pips = final_pips - sl\n",
    "            elif high >= tp:\n",
    "                final_pips = final_pips + tp\n",
    "            else:\n",
    "                final_pips = final_pips + last\n",
    "            final_pips = round(final_pips)\n",
    "            print(final_pips)\n",
    "    print(final_pips)\n",
    "test_results(df)"
   ]
  },
  {
   "cell_type": "code",
   "execution_count": 149,
   "metadata": {},
   "outputs": [
    {
     "name": "stdout",
     "output_type": "stream",
     "text": [
      "0 10000\n",
      "1 13500.0\n",
      "2 18225.0\n",
      "3 24603.75\n",
      "4 33215.0625\n",
      "5 44840.334375\n",
      "6 60534.451406249995\n",
      "7 81721.50939843748\n",
      "8 110324.03768789061\n",
      "9 148937.45087865234\n",
      "10 201065.55868618065\n",
      "11 271438.5042263439\n",
      "12 366441.98070556426\n",
      "13 494696.67395251174\n",
      "14 667840.5098358908\n",
      "15 901584.6882784526\n",
      "16 1217139.329175911\n",
      "17 1643138.0943874796\n",
      "18 2218236.427423097\n",
      "19 2994619.177021181\n",
      "20 4042735.888978595\n",
      "21 5457693.450121103\n",
      "22 7367886.157663489\n",
      "23 9946646.31284571\n",
      "24 13427972.52234171\n",
      "25 18127762.905161306\n",
      "26 24472479.921967763\n",
      "27 33037847.89465648\n",
      "28 44601094.65778625\n",
      "29 60211477.78801144\n",
      "30 81285495.01381545\n",
      "31 109735418.26865086\n",
      "32 148142814.66267866\n",
      "33 199992799.7946162\n",
      "34 269990279.7227318\n",
      "35 364486877.62568796\n",
      "36 492057284.79467875\n",
      "37 664277334.4728163\n",
      "38 896774401.5383021\n",
      "39 1210645442.0767078\n"
     ]
    }
   ],
   "source": [
    "val = 10000\n",
    "r = .01\n",
    "for i in range(40):\n",
    "    print(i,val)\n",
    "    val += (350 * ((val * r) / 10))\n",
    "    \n",
    "    "
   ]
  },
  {
   "cell_type": "code",
   "execution_count": null,
   "metadata": {},
   "outputs": [],
   "source": []
  },
  {
   "cell_type": "code",
   "execution_count": 148,
   "metadata": {},
   "outputs": [
    {
     "data": {
      "text/plain": [
       "153600"
      ]
     },
     "execution_count": 148,
     "metadata": {},
     "output_type": "execute_result"
    }
   ],
   "source": [
    "(384 * 10) * 20 * 2"
   ]
  },
  {
   "cell_type": "code",
   "execution_count": null,
   "metadata": {},
   "outputs": [],
   "source": []
  },
  {
   "cell_type": "code",
   "execution_count": null,
   "metadata": {},
   "outputs": [],
   "source": []
  },
  {
   "cell_type": "code",
   "execution_count": null,
   "metadata": {},
   "outputs": [],
   "source": []
  },
  {
   "cell_type": "code",
   "execution_count": 131,
   "metadata": {},
   "outputs": [
    {
     "data": {
      "text/plain": [
       "242.89999999999998"
      ]
     },
     "execution_count": 131,
     "metadata": {},
     "output_type": "execute_result"
    }
   ],
   "source": [
    "lst = [10.8,\n",
    "51.3,\n",
    "25.3,\n",
    "43.8,\n",
    "60.9,\n",
    "50.8]\n",
    "sum(lst)"
   ]
  },
  {
   "cell_type": "code",
   "execution_count": null,
   "metadata": {},
   "outputs": [],
   "source": []
  },
  {
   "cell_type": "code",
   "execution_count": 132,
   "metadata": {},
   "outputs": [
    {
     "data": {
      "text/plain": [
       "80"
      ]
     },
     "execution_count": 132,
     "metadata": {},
     "output_type": "execute_result"
    }
   ],
   "source": [
    "40 * 2"
   ]
  },
  {
   "cell_type": "code",
   "execution_count": 135,
   "metadata": {},
   "outputs": [
    {
     "data": {
      "text/plain": [
       "4000"
      ]
     },
     "execution_count": 135,
     "metadata": {},
     "output_type": "execute_result"
    }
   ],
   "source": [
    "100 * 20 * 2"
   ]
  },
  {
   "cell_type": "code",
   "execution_count": 136,
   "metadata": {},
   "outputs": [
    {
     "data": {
      "text/plain": [
       "80000"
      ]
     },
     "execution_count": 136,
     "metadata": {},
     "output_type": "execute_result"
    }
   ],
   "source": [
    "(100 * 20 * 2) * 20"
   ]
  },
  {
   "cell_type": "code",
   "execution_count": null,
   "metadata": {},
   "outputs": [],
   "source": []
  },
  {
   "cell_type": "code",
   "execution_count": 129,
   "metadata": {},
   "outputs": [
    {
     "data": {
      "text/plain": [
       "0.13043478260869565"
      ]
     },
     "execution_count": 129,
     "metadata": {},
     "output_type": "execute_result"
    }
   ],
   "source": [
    "6 / 46"
   ]
  },
  {
   "cell_type": "code",
   "execution_count": 139,
   "metadata": {},
   "outputs": [
    {
     "data": {
      "text/plain": [
       "104.34782608695653"
      ]
     },
     "execution_count": 139,
     "metadata": {},
     "output_type": "execute_result"
    }
   ],
   "source": [
    "(120 / 46) * 40"
   ]
  },
  {
   "cell_type": "code",
   "execution_count": null,
   "metadata": {},
   "outputs": [],
   "source": []
  },
  {
   "cell_type": "code",
   "execution_count": null,
   "metadata": {},
   "outputs": [],
   "source": []
  },
  {
   "cell_type": "code",
   "execution_count": null,
   "metadata": {},
   "outputs": [],
   "source": []
  },
  {
   "cell_type": "code",
   "execution_count": 120,
   "metadata": {},
   "outputs": [
    {
     "name": "stdout",
     "output_type": "stream",
     "text": [
      "0.0 12.1\n",
      "0.0 48.9\n",
      "5.9 11.4\n",
      "15.6 14.0\n",
      "0.0 28.7\n",
      "1.0 39.9\n",
      "10.0 43.2\n",
      "0.0 55.0\n",
      "0.0 49.7\n",
      "4.2 24.7\n",
      "37.2 9.8\n",
      "0.2 29.5\n",
      "8.6 33.1\n",
      "9.4 12.1\n",
      "0.0 40.6\n",
      "0.2 49.3\n",
      "12.6 19.0\n",
      "7.9 61.5\n",
      "16.2 26.7\n",
      "1.1 35.5\n",
      "7.3 12.3\n",
      "1.8 9.5\n",
      "9.4 44.8\n",
      "4.2 64.3\n",
      "8.1 30.8\n",
      "10.7 19.7\n",
      "0.4 57.4\n",
      "9.6 26.2\n",
      "7.8 77.6\n",
      "8.4 115.7\n"
     ]
    }
   ],
   "source": [
    "l_col = df.columns.get_loc('l')\n",
    "h_col = df.columns.get_loc('h')\n",
    "for i in range(df.shape[0]):\n",
    "    if df['support_indicator'].iloc[i] == 1 and df['delta_vector'].iloc[i] > 0:\n",
    "        c = df['o'].iloc[i]\n",
    "        min_ = min(df.iloc[i:i+num_steps,l_col])\n",
    "        max_ = max(df.iloc[i:i+num_steps,h_col])\n",
    "        val1 = round(10000 * (c - min_),1)\n",
    "        val2 = round(10000 * (max_ - c),1)\n",
    "        print(val1,val2)"
   ]
  },
  {
   "cell_type": "code",
   "execution_count": null,
   "metadata": {},
   "outputs": [],
   "source": []
  },
  {
   "cell_type": "code",
   "execution_count": null,
   "metadata": {},
   "outputs": [],
   "source": []
  },
  {
   "cell_type": "code",
   "execution_count": null,
   "metadata": {},
   "outputs": [],
   "source": []
  },
  {
   "cell_type": "code",
   "execution_count": null,
   "metadata": {},
   "outputs": [],
   "source": []
  },
  {
   "cell_type": "code",
   "execution_count": 92,
   "metadata": {},
   "outputs": [
    {
     "data": {
      "text/plain": [
       "1.5785714285713657"
      ]
     },
     "execution_count": 92,
     "metadata": {},
     "output_type": "execute_result"
    }
   ],
   "source": [
    "(df[df['support_indicator'] == 1]['delta_vector'].mean()) * 10000"
   ]
  },
  {
   "cell_type": "code",
   "execution_count": null,
   "metadata": {},
   "outputs": [],
   "source": []
  },
  {
   "cell_type": "code",
   "execution_count": 93,
   "metadata": {},
   "outputs": [
    {
     "data": {
      "text/plain": [
       "(43, 16)"
      ]
     },
     "execution_count": 93,
     "metadata": {},
     "output_type": "execute_result"
    }
   ],
   "source": [
    "wins = df[(df['support_indicator'] == 1) & (df['delta_vector'] > 0)]\n",
    "wins = wins.sort_values(by = 'delta_vector',ascending = False)\n",
    "wins.shape"
   ]
  },
  {
   "cell_type": "code",
   "execution_count": null,
   "metadata": {},
   "outputs": [],
   "source": []
  },
  {
   "cell_type": "code",
   "execution_count": null,
   "metadata": {},
   "outputs": [],
   "source": []
  },
  {
   "cell_type": "code",
   "execution_count": 87,
   "metadata": {},
   "outputs": [
    {
     "data": {
      "text/plain": [
       "(19, 16)"
      ]
     },
     "execution_count": 87,
     "metadata": {},
     "output_type": "execute_result"
    }
   ],
   "source": [
    "df[(df['support_indicator'] == 1) & (df['delta_vector'] > 0) & (df['lower_wick'] >= .0003)].shape"
   ]
  },
  {
   "cell_type": "code",
   "execution_count": null,
   "metadata": {},
   "outputs": [],
   "source": []
  },
  {
   "cell_type": "code",
   "execution_count": 86,
   "metadata": {},
   "outputs": [
    {
     "data": {
      "text/plain": [
       "3.263043478260959"
      ]
     },
     "execution_count": 86,
     "metadata": {},
     "output_type": "execute_result"
    }
   ],
   "source": [
    "(df[(df['support_indicator'] == 1) & (df['delta_vector'] > 0)]['lower_wick'].mean()) * 10000"
   ]
  },
  {
   "cell_type": "code",
   "execution_count": null,
   "metadata": {},
   "outputs": [],
   "source": []
  },
  {
   "cell_type": "code",
   "execution_count": 88,
   "metadata": {},
   "outputs": [
    {
     "data": {
      "text/plain": [
       "6.742105263158239"
      ]
     },
     "execution_count": 88,
     "metadata": {},
     "output_type": "execute_result"
    }
   ],
   "source": [
    "(df[(df['support_indicator'] == 1) & (df['delta_vector'] > 0) & (df['lower_wick'] >= .0003)]['lower_wick'].mean()) * 10000"
   ]
  },
  {
   "cell_type": "code",
   "execution_count": 90,
   "metadata": {},
   "outputs": [
    {
     "data": {
      "text/plain": [
       "(15, 16)"
      ]
     },
     "execution_count": 90,
     "metadata": {},
     "output_type": "execute_result"
    }
   ],
   "source": [
    "df[(df['support_indicator'] == 1) & (df['delta_vector'] > 0) & (df['lower_wick'] <= .0001)].shape"
   ]
  },
  {
   "cell_type": "code",
   "execution_count": 89,
   "metadata": {},
   "outputs": [
    {
     "data": {
      "text/plain": [
       "11.353333333333548"
      ]
     },
     "execution_count": 89,
     "metadata": {},
     "output_type": "execute_result"
    }
   ],
   "source": [
    "(df[(df['support_indicator'] == 1) & (df['delta_vector'] > 0) & (df['lower_wick'] <= .0001)]['delta_vector'].mean()) * 10000"
   ]
  },
  {
   "cell_type": "code",
   "execution_count": null,
   "metadata": {},
   "outputs": [],
   "source": []
  },
  {
   "cell_type": "code",
   "execution_count": null,
   "metadata": {},
   "outputs": [],
   "source": []
  },
  {
   "cell_type": "code",
   "execution_count": 7,
   "metadata": {},
   "outputs": [
    {
     "name": "stdout",
     "output_type": "stream",
     "text": [
      "SELL INTO SUPPORT!!!!!\n",
      "SHAPE: (1707, 15)\n",
      "1600\n",
      "SUPPORT ROW: 36654  SUPPORT NEXT TOUCH: 36654  SUPPORT CLOSE VAL:\n",
      "1601\n",
      "SUPPORT ROW: 36677  SUPPORT NEXT TOUCH: 36677  SUPPORT CLOSE VAL:\n",
      "1602\n",
      "SUPPORT ROW: 36700  SUPPORT NEXT TOUCH: 36700  SUPPORT CLOSE VAL:\n",
      "1603\n",
      "SUPPORT ROW: 36723  SUPPORT NEXT TOUCH: 36723  SUPPORT CLOSE VAL:\n",
      "1604\n",
      "SUPPORT ROW: 36746  SUPPORT NEXT TOUCH: 36746  SUPPORT CLOSE VAL:\n",
      "1605\n",
      "SUPPORT ROW: 36769  SUPPORT NEXT TOUCH: 36769  SUPPORT CLOSE VAL:\n",
      "1606\n",
      "SUPPORT ROW: 36792  SUPPORT NEXT TOUCH: 36792  SUPPORT CLOSE VAL:\n",
      "1607\n",
      "SUPPORT ROW: 36815  SUPPORT NEXT TOUCH: 36815  SUPPORT CLOSE VAL:\n",
      "1608\n",
      "SUPPORT ROW: 36838  SUPPORT NEXT TOUCH: 36838  SUPPORT CLOSE VAL:\n",
      "1609\n",
      "SUPPORT ROW: 36861  SUPPORT NEXT TOUCH: 36861  SUPPORT CLOSE VAL:\n",
      "1610\n",
      "SUPPORT ROW: 36884  SUPPORT NEXT TOUCH: 36884  SUPPORT CLOSE VAL:\n",
      "1611\n",
      "SUPPORT ROW: 36907  SUPPORT NEXT TOUCH: 36907  SUPPORT CLOSE VAL:\n",
      "1612\n",
      "SUPPORT ROW: 36930  SUPPORT NEXT TOUCH: 36930  SUPPORT CLOSE VAL:\n",
      "1613\n",
      "SUPPORT ROW: 36953  SUPPORT NEXT TOUCH: 36953  SUPPORT CLOSE VAL:\n",
      "1614\n",
      "SUPPORT ROW: 36976  SUPPORT NEXT TOUCH: 36976  SUPPORT CLOSE VAL:\n",
      "1615\n",
      "SUPPORT ROW: 36999  SUPPORT NEXT TOUCH: 36999  SUPPORT CLOSE VAL:\n",
      "1616\n",
      "SUPPORT ROW: 37022  SUPPORT NEXT TOUCH: 37022  SUPPORT CLOSE VAL:\n",
      "1617\n",
      "SUPPORT ROW: 37045  SUPPORT NEXT TOUCH: 37045  SUPPORT CLOSE VAL:\n",
      "1618\n",
      "SUPPORT ROW: 37068  SUPPORT NEXT TOUCH: 37068  SUPPORT CLOSE VAL:\n",
      "1619\n",
      "SUPPORT ROW: 37091  SUPPORT NEXT TOUCH: 37091  SUPPORT CLOSE VAL:\n",
      "1620\n",
      "SUPPORT ROW: 37114  SUPPORT NEXT TOUCH: 37114  SUPPORT CLOSE VAL:\n",
      "1621\n",
      "SUPPORT ROW: 37137  SUPPORT NEXT TOUCH: 37137  SUPPORT CLOSE VAL:\n",
      "1622\n",
      "SUPPORT ROW: 37160  SUPPORT NEXT TOUCH: 37160  SUPPORT CLOSE VAL:\n",
      "1623\n",
      "SUPPORT ROW: 37183  SUPPORT NEXT TOUCH: 37183  SUPPORT CLOSE VAL:\n",
      "1624\n",
      "SUPPORT ROW: 37206  SUPPORT NEXT TOUCH: 37206  SUPPORT CLOSE VAL:\n",
      "1625\n",
      "SUPPORT ROW: 37229  SUPPORT NEXT TOUCH: 37229  SUPPORT CLOSE VAL:\n",
      "1626\n",
      "SUPPORT ROW: 37252  SUPPORT NEXT TOUCH: 37252  SUPPORT CLOSE VAL:\n",
      "1627\n",
      "SUPPORT ROW: 37275  SUPPORT NEXT TOUCH: 37275  SUPPORT CLOSE VAL:\n",
      "1628\n",
      "SUPPORT ROW: 37298  SUPPORT NEXT TOUCH: 37298  SUPPORT CLOSE VAL:\n",
      "1629\n",
      "SUPPORT ROW: 37321  SUPPORT NEXT TOUCH: 37321  SUPPORT CLOSE VAL:\n"
     ]
    }
   ],
   "source": [
    "\n",
    "def viz_support(df,col,start,end,ema):\n",
    "    print('SELL INTO SUPPORT!!!!!')\n",
    "    def print_support_example(df,col,ind_list,ind = 30,delta = 240,ema = True):\n",
    "        i = ind_list[ind]   \n",
    "        x = i\n",
    "\n",
    "\n",
    "        print('SUPPORT ROW:',x,' SUPPORT NEXT TOUCH:',i, ' SUPPORT CLOSE VAL:')\n",
    "\n",
    "        fig = go.Figure(data=go.Candlestick(x=df.iloc[i - delta:i + delta,:]['time'],\n",
    "                            open=df.iloc[x - delta:i + delta,:]['o'],\n",
    "                            high=df.iloc[x - delta:i + delta,:]['h'],\n",
    "                            low=df.iloc[x - delta:i + delta,:]['l'],\n",
    "                            close=df.iloc[x - delta:i + delta,:]['c']))   \n",
    "\n",
    "\n",
    "        fig.add_vrect(x0=df['time'].iloc[i - 1], x1=df['time'].iloc[i+1], \n",
    "                      annotation_text=\"trigger point\" , annotation_position=\"top left\",\n",
    "                      fillcolor=\"green\", opacity=0.25, line_width=0)\n",
    "\n",
    "        fig.add_shape(type='line',\n",
    "                        x0=df.iloc[x,:]['time'],\n",
    "                        y0=df.iloc[x,:]['c'],\n",
    "                        x1=df.iloc[i,:]['time'],\n",
    "                        y1=df.iloc[x ,:]['c'],\n",
    "                        line=dict(color='Red',),\n",
    "                        xref='x',\n",
    "                        yref='y'\n",
    "        )\n",
    "\n",
    "        try:\n",
    "            plot(fig)\n",
    "        except:\n",
    "            from plotly.offline import plot\n",
    "            plot(fig)\n",
    "            \n",
    "            \n",
    "    temp_df = df[df[col] == 1]\n",
    "    print('SHAPE:',temp_df.shape)\n",
    "    ind_list = temp_df.index\n",
    "    for i in range(start,end):\n",
    "        print(i)\n",
    "\n",
    "        #i = 3\n",
    "        print_support_example(df,col,ind_list,ind = i,delta = 100,ema = ema)\n",
    "        i += 1\n",
    "\n",
    "        \n",
    "viz_support(df = df,col = 'xau_morning',start = 1600,end = 1630,ema = True)"
   ]
  },
  {
   "cell_type": "code",
   "execution_count": null,
   "metadata": {},
   "outputs": [],
   "source": []
  },
  {
   "cell_type": "code",
   "execution_count": null,
   "metadata": {},
   "outputs": [],
   "source": []
  },
  {
   "cell_type": "code",
   "execution_count": null,
   "metadata": {},
   "outputs": [],
   "source": []
  },
  {
   "cell_type": "code",
   "execution_count": null,
   "metadata": {},
   "outputs": [],
   "source": []
  },
  {
   "cell_type": "code",
   "execution_count": null,
   "metadata": {},
   "outputs": [],
   "source": []
  },
  {
   "cell_type": "code",
   "execution_count": null,
   "metadata": {},
   "outputs": [],
   "source": []
  }
 ],
 "metadata": {
  "kernelspec": {
   "display_name": "Python 3",
   "language": "python",
   "name": "python3"
  },
  "language_info": {
   "codemirror_mode": {
    "name": "ipython",
    "version": 3
   },
   "file_extension": ".py",
   "mimetype": "text/x-python",
   "name": "python",
   "nbconvert_exporter": "python",
   "pygments_lexer": "ipython3",
   "version": "3.8.5"
  }
 },
 "nbformat": 4,
 "nbformat_minor": 4
}
